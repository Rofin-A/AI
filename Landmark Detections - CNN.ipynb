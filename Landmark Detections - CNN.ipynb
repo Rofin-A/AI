{
 "cells": [
  {
   "cell_type": "markdown",
   "metadata": {},
   "source": [
    "# <u> Landmark Detection - Kaggle competition </u>\n",
    "\n",
    "<b>Name : </b> <i> Rofin Andonissamy</i> <br>\n",
    "<b> Description :</b>Train a Convolutional Neural Network using \"Transfer Learning\"\" approach, to do landmark detection. Details of the implementation are as follows: <BR>\n",
    "  \n",
    "  <b>  Deep Learning Framework used: </b> PyTorch <br>\n",
    "  <b>  Network Architecture used: </b> Resnet50 <br>\n",
    "  <b>  Pretrained weights used: </b> Weights obtained by training imagenet dataset <br>\n",
    "\n",
    "<i><u>Note:</u> Weights at all the layers of this model has been fine tuned to achive better accuracy. The overall accuracy achieved by tuning only the last fully connected layer is comparatively lesser than that of the accuracy achieve by this model. \n"
   ]
  },
  {
   "cell_type": "code",
   "execution_count": 1,
   "metadata": {},
   "outputs": [],
   "source": [
    "#----Import Libraries\n",
    "\n",
    "#----General libraries for datastructures\n",
    "import pandas as pd\n",
    "import numpy as np\n",
    "\n",
    "#----Pytorch framework for modelling neural network\n",
    "import torch\n",
    "import torch.nn as nn\n",
    "import torch.optim as optim\n",
    "from torch.optim import lr_scheduler\n",
    "import torchvision\n",
    "from torchvision import datasets, models, transforms\n",
    "from torch.utils.data.dataset import Dataset\n",
    "\n",
    "#----Pytorch framework for loading dataset and image processing\n",
    "from torch.utils.data import DataLoader\n",
    "import torch.utils.data as data\n",
    "from PIL import Image\n",
    "\n",
    "#--- Utility libraries\n",
    "import matplotlib.pyplot as plt\n",
    "from sklearn.preprocessing import MultiLabelBinarizer\n",
    "import time\n",
    "import os\n",
    "import copy"
   ]
  },
  {
   "cell_type": "markdown",
   "metadata": {},
   "source": [
    "#### Image Preprocessing\n",
    "\n",
    "<br> Define transformation rules for images in the training and test datasets. "
   ]
  },
  {
   "cell_type": "code",
   "execution_count": 2,
   "metadata": {},
   "outputs": [],
   "source": [
    "#-----Define transformation\n",
    "\n",
    "data_transforms = {\n",
    "    'train': transforms.Compose([\n",
    "        transforms.Resize(256),\n",
    "        transforms.RandomResizedCrop(224),\n",
    "        transforms.RandomHorizontalFlip(),\n",
    "        transforms.ToTensor(),\n",
    "        transforms.Normalize([0.485, 0.456, 0.406], [0.229, 0.224, 0.225])\n",
    "    ]),\n",
    "    'test': transforms.Compose([\n",
    "        transforms.Resize(256),\n",
    "        transforms.CenterCrop(224),\n",
    "        transforms.ToTensor(),\n",
    "        transforms.Normalize([0.485, 0.456, 0.406], [0.229, 0.224, 0.225])\n",
    "    ]),\n",
    "}"
   ]
  },
  {
   "cell_type": "markdown",
   "metadata": {},
   "source": [
    "#### Define the logic for creating a custom dataset\n",
    "Overidden the Dataset class to load the image data and labels provided in the respective CSV files"
   ]
  },
  {
   "cell_type": "code",
   "execution_count": 3,
   "metadata": {},
   "outputs": [],
   "source": [
    "class read_dataset(Dataset):\n",
    "    def __init__(self, csv_path, img_path, img_ext, transform=None):\n",
    "        #----Read the input csv file\n",
    "        inp_df = pd.read_csv(csv_path,header=None)\n",
    "        inp_df.columns=[\"image\",\"url\",\"label\"]\n",
    "        inp_df['label'] = inp_df['label']\n",
    "        #----Make sure if all the images mentioned in the csv file is availabe in the image directory\n",
    "        assert(inp_df['image'].apply(lambda x: os.path.isfile(img_path + x + img_ext)).all())\n",
    "        #----Populate the instance variables with the image and name\n",
    "        self.mlb = MultiLabelBinarizer()\n",
    "        self.img_path = img_path\n",
    "        self.img_ext = img_ext\n",
    "        self.transform = transform\n",
    "        self.X_train = inp_df['image']\n",
    "        self.y_train = np.array(inp_df['label'])\n",
    "        self.img = []\n",
    "        #---- Read the image from directory\n",
    "        for idx in range(len(self.X_train)):\n",
    "            img = Image.open(self.img_path + self.X_train[idx] + self.img_ext)\n",
    "            self.img.append(img.convert('RGB'))\n",
    "        \n",
    "    def __getitem__(self, index):\n",
    "        #----Apply the required transformation\n",
    "        if self.transform is not None:\n",
    "            img = self.transform(self.img[index])\n",
    "        label = torch.from_numpy(np.array(self.y_train[index])).long()\n",
    "        return img, label\n",
    "    \n",
    "    def __len__(self):\n",
    "        return len(self.X_train.index)"
   ]
  },
  {
   "cell_type": "markdown",
   "metadata": {},
   "source": [
    "#### Instantiate the dataloader with the training dataset\n",
    "Instantiate the dataset to read the training details from the respective csv file and pass its referrence to the dataloader, so that we can load a batch of 32 images at every iteration of the training"
   ]
  },
  {
   "cell_type": "code",
   "execution_count": 4,
   "metadata": {},
   "outputs": [],
   "source": [
    "#------- Create the training dataset\n",
    "train_dataset = read_dataset('HW3_train.csv','images/','.jpg',data_transforms['train'])\n",
    "\n",
    "#----Load Training data\n",
    "train_loader = DataLoader(train_dataset,\n",
    "                          batch_size=32,\n",
    "                          shuffle=False,\n",
    "                          num_workers=1 # 1 for CUDA\n",
    "                         # pin_memory=True # CUDA only\n",
    "                         )"
   ]
  },
  {
   "cell_type": "markdown",
   "metadata": {},
   "source": [
    "#### Download a Pretrained Resnet50 model and replace the final fully connected layer to perform transfer learning\n",
    "\n",
    "<i>Note:</i> For the training purpose, Stochostic Gradient function with momentum has been is used with a learning deccay rate of 0.1 (for 7 steps). Crossentropy loss function has been used to evaluate the loss "
   ]
  },
  {
   "cell_type": "code",
   "execution_count": 5,
   "metadata": {},
   "outputs": [],
   "source": [
    "#----Check if GPU is available for use, else use CPU\n",
    "device = torch.device(\"cuda:0\" if torch.cuda.is_available() else \"cpu\")\n",
    "#--- Import a pretrained Resnet18 network  and download the pretrained weights\n",
    "model_ft = models.resnet50(pretrained=True)\n",
    "\n",
    "\n",
    "#--- get the input dimension for the fully connected layer\n",
    "num_ftrs = model_ft.fc.in_features\n",
    "#--- Change the fully connected layer with 10 output layers\n",
    "model_ft.fc = nn.Linear(num_ftrs, 10)\n",
    "#--- Assigned the model to the available device  \n",
    "model_ft = model_ft.to(device)\n",
    "\n",
    "#---Loss function\n",
    "criterion = nn.CrossEntropyLoss()\n",
    "\n",
    "# Initialize the optimizer function- ADAM optimization\n",
    "optimizer_ft = optim.SGD(model_ft.parameters(), lr=0.001, momentum=0.9)\n",
    "\n",
    "# Decay LR by a factor of 0.1 every 7 epochs\n",
    "exp_lr_scheduler = lr_scheduler.StepLR(optimizer_ft, step_size=7, gamma=0.1)"
   ]
  },
  {
   "cell_type": "markdown",
   "metadata": {},
   "source": [
    "#### Define the training logic"
   ]
  },
  {
   "cell_type": "code",
   "execution_count": 7,
   "metadata": {},
   "outputs": [],
   "source": [
    "def train_model(model, criterion, optimizer,scheduler, num_epochs):\n",
    "    since = time.time()\n",
    "    \n",
    "    for epoch in range(num_epochs):\n",
    "        dataset_sizes = 0\n",
    "        #----Display the epoch details\n",
    "        print('Epoch {}/{}'.format(epoch+1, num_epochs))\n",
    "        print('-' * 10)\n",
    "        #----Start the training \n",
    "        model.train()\n",
    "        #-----Reset metric variabe\n",
    "        running_loss = 0.0\n",
    "        running_corrects = 0\n",
    "        #----- Iterate throught the image loader\n",
    "        for images, labels in train_loader:\n",
    "            images = images.to(device)\n",
    "            labels = labels.to(device)\n",
    "            # zero the parameter gradients\n",
    "            optimizer.zero_grad()\n",
    "            # forward propogation\n",
    "            outputs = model(images)\n",
    "            _, preds = torch.max(outputs, 1)\n",
    "            \n",
    "            #----Compute the loss\n",
    "            loss = criterion(outputs, labels)\n",
    "            \n",
    "            #----Perform backward propogation \n",
    "            loss.backward()\n",
    "            optimizer.step()\n",
    "            \n",
    "            #---- Statistics\n",
    "            running_loss += loss.item() * images.size(0)\n",
    "            dataset_sizes+=images.size(0)\n",
    "            running_corrects += torch.sum(preds == labels.data)\n",
    "            \n",
    "        epoch_loss = running_loss / dataset_sizes\n",
    "        epoch_acc = running_corrects.double() / dataset_sizes\n",
    "        #------Display Epoch result\n",
    "        print('Loss: {:.4f}'.format(epoch_loss),'Acc: {:.4f}'.format(epoch_acc))\n",
    "    \n",
    "    time_elapsed = time.time() - since\n",
    "    print('Training complete in {:.0f}m {:.0f}s'.format(\n",
    "        time_elapsed // 60, time_elapsed % 60))\n",
    "    return model    \n",
    "            "
   ]
  },
  {
   "cell_type": "markdown",
   "metadata": {},
   "source": [
    "#### Run the training\n",
    "\n",
    "Note: Training the model for 6 Epochs gave good accuracy"
   ]
  },
  {
   "cell_type": "code",
   "execution_count": 8,
   "metadata": {
    "scrolled": false
   },
   "outputs": [
    {
     "name": "stdout",
     "output_type": "stream",
     "text": [
      "Epoch 1/6\n",
      "----------\n",
      "Loss: 0.4527 Acc: 0.8606\n",
      "Epoch 2/6\n",
      "----------\n",
      "Loss: 0.1821 Acc: 0.9421\n",
      "Epoch 3/6\n",
      "----------\n",
      "Loss: 0.1427 Acc: 0.9551\n",
      "Epoch 4/6\n",
      "----------\n",
      "Loss: 0.1236 Acc: 0.9597\n",
      "Epoch 5/6\n",
      "----------\n",
      "Loss: 0.1107 Acc: 0.9636\n",
      "Epoch 6/6\n",
      "----------\n",
      "Loss: 0.0938 Acc: 0.9702\n",
      "Training complete in 65m 43s\n"
     ]
    }
   ],
   "source": [
    "model_ft = train_model(model_ft, criterion, optimizer_ft,exp_lr_scheduler,\n",
    "                       num_epochs=6)"
   ]
  },
  {
   "cell_type": "markdown",
   "metadata": {},
   "source": [
    "#### Create Dataset and instantiate DataLoader for Test dataset to evaluate model's performance"
   ]
  },
  {
   "cell_type": "code",
   "execution_count": 9,
   "metadata": {},
   "outputs": [],
   "source": [
    "#------- Create the test dataset\n",
    "test_dataset = read_dataset('HW3_test.csv','images/','.jpg',data_transforms['test'])\n",
    "\n",
    "#----Load Training data\n",
    "test_loader   = DataLoader(test_dataset,\n",
    "                          batch_size=32,\n",
    "                          shuffle=False,\n",
    "                          num_workers=1 # 1 for CUDA\n",
    "                         # pin_memory=True # CUDA only\n",
    "                         )"
   ]
  },
  {
   "cell_type": "markdown",
   "metadata": {},
   "source": [
    "#### Define the logic for evaluating the test performance"
   ]
  },
  {
   "cell_type": "code",
   "execution_count": 10,
   "metadata": {},
   "outputs": [],
   "source": [
    "  def test_model(model, criterion):\n",
    "    dataset_sizes = 0  \n",
    "    confusion_matrix = torch.zeros(10, 10)\n",
    "    #-----Evauluate the model\n",
    "    model.eval()\n",
    "    #-----Reset metric variabe\n",
    "    running_loss = 0.0\n",
    "    running_corrects = 0\n",
    "    #----- Iterate throught the image loader\n",
    "    for images, labels in test_loader:\n",
    "        images = images.to(device)\n",
    "        labels = labels.to(device)\n",
    "        #-----Make prediction\n",
    "        outputs = model(images)\n",
    "        _, preds = torch.max(outputs, 1)\n",
    "\n",
    "        #----Compute the loss\n",
    "        loss = criterion(outputs, labels)\n",
    "\n",
    "        #---- Calculate the metrics\n",
    "        running_loss += loss.item() * images.size(0)\n",
    "        dataset_sizes+=images.size(0)\n",
    "        running_corrects += torch.sum(preds == labels.data)\n",
    "        #---- Build confusion matrix\n",
    "        for t, p in zip(labels.view(-1), preds.view(-1)):\n",
    "            confusion_matrix[t.long(), p.long()]+= 1\n",
    "        \n",
    "    tot_loss = running_loss / dataset_sizes\n",
    "    tot_acc = running_corrects.double() / dataset_sizes\n",
    "    #------Display the evaluation metric\n",
    "    print('Loss: {:.4f}'.format(tot_loss),'Acc: {:.4f}'.format(tot_acc))\n",
    "    #--- return confusion matrix\n",
    "    return confusion_matrix"
   ]
  },
  {
   "cell_type": "markdown",
   "metadata": {},
   "source": [
    "#### Evaluate the model's performance by predicting labels for novice test images \n",
    "\n",
    "<b><u><i>Accuracy of the prediction on test data is 99.1% </b></u></i>"
   ]
  },
  {
   "cell_type": "code",
   "execution_count": 15,
   "metadata": {},
   "outputs": [
    {
     "name": "stdout",
     "output_type": "stream",
     "text": [
      "Loss: 0.0295 Acc: 0.9916\n"
     ]
    }
   ],
   "source": [
    "conf_mat = test_model(model_ft,criterion)"
   ]
  },
  {
   "cell_type": "markdown",
   "metadata": {},
   "source": [
    "#### Raw Confusion Matrix"
   ]
  },
  {
   "cell_type": "code",
   "execution_count": 16,
   "metadata": {},
   "outputs": [
    {
     "name": "stdout",
     "output_type": "stream",
     "text": [
      "[[340.   0.   0.   1.   0.   0.   0.   0.   0.   0.]\n",
      " [  0. 391.   0.   0.   0.   0.   0.   0.   1.   0.]\n",
      " [  0.   1. 355.   3.   0.   0.   1.   0.   1.   0.]\n",
      " [  0.   0.   1. 336.   0.   0.   2.   0.   0.   0.]\n",
      " [  1.   0.   0.   0. 340.   1.   0.   1.   1.   1.]\n",
      " [  0.   0.   0.   0.   1. 336.   0.   0.   0.   0.]\n",
      " [  0.   0.   0.   0.   0.   0. 309.   0.   0.   0.]\n",
      " [  0.   0.   0.   0.   1.   0.   0. 314.   1.   0.]\n",
      " [  1.   0.   1.   0.   2.   1.   1.   1. 325.   0.]\n",
      " [  0.   1.   0.   0.   0.   0.   1.   0.   0. 243.]]\n"
     ]
    }
   ],
   "source": [
    "conf_mat = conf_mat.cpu().numpy()\n",
    "print(conf_mat)"
   ]
  },
  {
   "cell_type": "markdown",
   "metadata": {},
   "source": [
    "#### Visualize the raw confusion matrix"
   ]
  },
  {
   "cell_type": "code",
   "execution_count": 17,
   "metadata": {},
   "outputs": [
    {
     "data": {
      "image/png": "[encoded data removed]",
      "text/plain": [
       "<Figure size 576x504 with 2 Axes>"
      ]
     },
     "metadata": {},
     "output_type": "display_data"
    }
   ],
   "source": [
    "#----Plot the raw confusion matrix\n",
    "fig, ax = plt.subplots()\n",
    "fig.set_size_inches(8,7)\n",
    "img = ax.imshow(conf_mat, interpolation='nearest', cmap=plt.cm.Blues)\n",
    "ax.figure.colorbar(img, ax=ax)\n",
    "ax.set(xticks=np.arange(conf_mat.shape[1]),\n",
    "yticks=np.arange(conf_mat.shape[0]),\n",
    "# ... and label them with the respective list entries\n",
    "xticklabels=[0,1,2,3,4,5,6,7,8,9], yticklabels=[0,1,2,3,4,5,6,7,8,9],\n",
    "           title=\"Confusion matrix\",\n",
    "           ylabel='True label',\n",
    "           xlabel='Predicted label')\n",
    "plt.show()"
   ]
  },
  {
   "cell_type": "markdown",
   "metadata": {},
   "source": [
    "#### Normalized  Confusion Matrix"
   ]
  },
  {
   "cell_type": "code",
   "execution_count": 77,
   "metadata": {},
   "outputs": [
    {
     "name": "stdout",
     "output_type": "stream",
     "text": [
      "[[0.997 0.    0.    0.003 0.    0.    0.    0.    0.    0.   ]\n",
      " [0.    0.997 0.    0.    0.    0.    0.    0.    0.003 0.   ]\n",
      " [0.    0.003 0.983 0.008 0.    0.    0.003 0.    0.003 0.   ]\n",
      " [0.    0.    0.003 0.991 0.    0.    0.006 0.    0.    0.   ]\n",
      " [0.003 0.    0.    0.    0.986 0.003 0.    0.003 0.003 0.003]\n",
      " [0.    0.    0.    0.    0.003 0.997 0.    0.    0.    0.   ]\n",
      " [0.    0.    0.    0.    0.    0.    1.    0.    0.    0.   ]\n",
      " [0.    0.    0.    0.    0.003 0.    0.    0.994 0.003 0.   ]\n",
      " [0.003 0.    0.003 0.    0.006 0.003 0.003 0.003 0.979 0.   ]\n",
      " [0.    0.004 0.    0.    0.    0.    0.004 0.    0.    0.992]]\n"
     ]
    }
   ],
   "source": [
    "#----Normalized confusion matix\n",
    "Norm_conf_mat = conf_mat.astype('float32') / conf_mat.sum(axis=1)[:, np.newaxis]\n",
    "print(Norm_conf_mat.round(3))"
   ]
  },
  {
   "cell_type": "markdown",
   "metadata": {},
   "source": [
    "#### Visualize the normalized confusion Matrix"
   ]
  },
  {
   "cell_type": "code",
   "execution_count": 19,
   "metadata": {},
   "outputs": [
    {
     "data": {
      "image/png": "[encoded data removed]",
      "text/plain": [
       "<Figure size 576x504 with 2 Axes>"
      ]
     },
     "metadata": {},
     "output_type": "display_data"
    }
   ],
   "source": [
    "#----Plot the confusion matrix\n",
    "fig, ax = plt.subplots()\n",
    "fig.set_size_inches(8,7)\n",
    "img = ax.imshow(Norm_conf_mat, interpolation='nearest', cmap=plt.cm.Blues)\n",
    "ax.figure.colorbar(img, ax=ax)\n",
    "ax.set(xticks=np.arange(Norm_conf_mat.shape[1]),\n",
    "yticks=np.arange(Norm_conf_mat.shape[0]),\n",
    "# ... and label them with the respective list entries\n",
    "xticklabels=[0,1,2,3,4,5,6,7,8,9], yticklabels=[0,1,2,3,4,5,6,7,8,9],\n",
    "           title=\"Normalized Confusion matrix\",\n",
    "           ylabel='True label',\n",
    "           xlabel='Predicted label')\n",
    "plt.show()"
   ]
  },
  {
   "cell_type": "markdown",
   "metadata": {},
   "source": [
    "#### Accuracy of prediction for each of the classes"
   ]
  },
  {
   "cell_type": "code",
   "execution_count": 64,
   "metadata": {},
   "outputs": [
    {
     "data": {
      "text/html": [
       "<div>\n",
       "<style scoped>\n",
       "    .dataframe tbody tr th:only-of-type {\n",
       "        vertical-align: middle;\n",
       "    }\n",
       "\n",
       "    .dataframe tbody tr th {\n",
       "        vertical-align: top;\n",
       "    }\n",
       "\n",
       "    .dataframe thead th {\n",
       "        text-align: right;\n",
       "    }\n",
       "</style>\n",
       "<table border=\"1\" class=\"dataframe\">\n",
       "  <thead>\n",
       "    <tr style=\"text-align: right;\">\n",
       "      <th></th>\n",
       "      <th>labels</th>\n",
       "      <th>accuracy</th>\n",
       "    </tr>\n",
       "  </thead>\n",
       "  <tbody>\n",
       "    <tr>\n",
       "      <th>0</th>\n",
       "      <td>0</td>\n",
       "      <td>0.997067</td>\n",
       "    </tr>\n",
       "    <tr>\n",
       "      <th>1</th>\n",
       "      <td>1</td>\n",
       "      <td>0.997449</td>\n",
       "    </tr>\n",
       "    <tr>\n",
       "      <th>2</th>\n",
       "      <td>2</td>\n",
       "      <td>0.983379</td>\n",
       "    </tr>\n",
       "    <tr>\n",
       "      <th>3</th>\n",
       "      <td>3</td>\n",
       "      <td>0.991150</td>\n",
       "    </tr>\n",
       "    <tr>\n",
       "      <th>4</th>\n",
       "      <td>4</td>\n",
       "      <td>0.985507</td>\n",
       "    </tr>\n",
       "    <tr>\n",
       "      <th>5</th>\n",
       "      <td>5</td>\n",
       "      <td>0.997033</td>\n",
       "    </tr>\n",
       "    <tr>\n",
       "      <th>6</th>\n",
       "      <td>6</td>\n",
       "      <td>1.000000</td>\n",
       "    </tr>\n",
       "    <tr>\n",
       "      <th>7</th>\n",
       "      <td>7</td>\n",
       "      <td>0.993671</td>\n",
       "    </tr>\n",
       "    <tr>\n",
       "      <th>8</th>\n",
       "      <td>8</td>\n",
       "      <td>0.978916</td>\n",
       "    </tr>\n",
       "    <tr>\n",
       "      <th>9</th>\n",
       "      <td>9</td>\n",
       "      <td>0.991837</td>\n",
       "    </tr>\n",
       "  </tbody>\n",
       "</table>\n",
       "</div>"
      ],
      "text/plain": [
       "   labels  accuracy\n",
       "0       0  0.997067\n",
       "1       1  0.997449\n",
       "2       2  0.983379\n",
       "3       3  0.991150\n",
       "4       4  0.985507\n",
       "5       5  0.997033\n",
       "6       6  1.000000\n",
       "7       7  0.993671\n",
       "8       8  0.978916\n",
       "9       9  0.991837"
      ]
     },
     "execution_count": 64,
     "metadata": {},
     "output_type": "execute_result"
    }
   ],
   "source": [
    "accuracy_of_lab_pred = Norm_conf_mat.diagonal()\n",
    "\n",
    "#----Populate a dataframe for reporting \n",
    "acc_df = pd.DataFrame()\n",
    "acc_df['accuracy'] = accuracy_of_lab_pred\n",
    "acc_df['labels'] = np.arange(len(acc_df))\n",
    "acc_df = acc_df[['labels','accuracy']]\n",
    "acc_df"
   ]
  },
  {
   "cell_type": "markdown",
   "metadata": {},
   "source": [
    "#### Most Accurately predicted label"
   ]
  },
  {
   "cell_type": "code",
   "execution_count": 69,
   "metadata": {},
   "outputs": [
    {
     "name": "stdout",
     "output_type": "stream",
     "text": [
      "Most accurately predicted label: \n"
     ]
    },
    {
     "data": {
      "text/html": [
       "<div>\n",
       "<style scoped>\n",
       "    .dataframe tbody tr th:only-of-type {\n",
       "        vertical-align: middle;\n",
       "    }\n",
       "\n",
       "    .dataframe tbody tr th {\n",
       "        vertical-align: top;\n",
       "    }\n",
       "\n",
       "    .dataframe thead th {\n",
       "        text-align: right;\n",
       "    }\n",
       "</style>\n",
       "<table border=\"1\" class=\"dataframe\">\n",
       "  <thead>\n",
       "    <tr style=\"text-align: right;\">\n",
       "      <th></th>\n",
       "      <th>labels</th>\n",
       "      <th>accuracy</th>\n",
       "    </tr>\n",
       "  </thead>\n",
       "  <tbody>\n",
       "    <tr>\n",
       "      <th>6</th>\n",
       "      <td>6</td>\n",
       "      <td>1.0</td>\n",
       "    </tr>\n",
       "  </tbody>\n",
       "</table>\n",
       "</div>"
      ],
      "text/plain": [
       "   labels  accuracy\n",
       "6       6       1.0"
      ]
     },
     "execution_count": 69,
     "metadata": {},
     "output_type": "execute_result"
    }
   ],
   "source": [
    "print(\"Most accurately predicted label: \")\n",
    "acc_df.sort_values(by='accuracy',ascending = False).head(1)"
   ]
  },
  {
   "cell_type": "markdown",
   "metadata": {},
   "source": [
    "#### Least Accurately predicted label"
   ]
  },
  {
   "cell_type": "code",
   "execution_count": 72,
   "metadata": {},
   "outputs": [
    {
     "name": "stdout",
     "output_type": "stream",
     "text": [
      "Least accurately predicted label: \n"
     ]
    },
    {
     "data": {
      "text/html": [
       "<div>\n",
       "<style scoped>\n",
       "    .dataframe tbody tr th:only-of-type {\n",
       "        vertical-align: middle;\n",
       "    }\n",
       "\n",
       "    .dataframe tbody tr th {\n",
       "        vertical-align: top;\n",
       "    }\n",
       "\n",
       "    .dataframe thead th {\n",
       "        text-align: right;\n",
       "    }\n",
       "</style>\n",
       "<table border=\"1\" class=\"dataframe\">\n",
       "  <thead>\n",
       "    <tr style=\"text-align: right;\">\n",
       "      <th></th>\n",
       "      <th>labels</th>\n",
       "      <th>accuracy</th>\n",
       "    </tr>\n",
       "  </thead>\n",
       "  <tbody>\n",
       "    <tr>\n",
       "      <th>8</th>\n",
       "      <td>8</td>\n",
       "      <td>0.978916</td>\n",
       "    </tr>\n",
       "    <tr>\n",
       "      <th>2</th>\n",
       "      <td>2</td>\n",
       "      <td>0.983379</td>\n",
       "    </tr>\n",
       "    <tr>\n",
       "      <th>4</th>\n",
       "      <td>4</td>\n",
       "      <td>0.985507</td>\n",
       "    </tr>\n",
       "  </tbody>\n",
       "</table>\n",
       "</div>"
      ],
      "text/plain": [
       "   labels  accuracy\n",
       "8       8  0.978916\n",
       "2       2  0.983379\n",
       "4       4  0.985507"
      ]
     },
     "execution_count": 72,
     "metadata": {},
     "output_type": "execute_result"
    }
   ],
   "source": [
    "print(\"Least accurately predicted label: \")\n",
    "acc_df.sort_values(by='accuracy',ascending = True).head(3)"
   ]
  },
  {
   "cell_type": "markdown",
   "metadata": {},
   "source": [
    "#### True Positives for each classes predicted"
   ]
  },
  {
   "cell_type": "code",
   "execution_count": 43,
   "metadata": {},
   "outputs": [
    {
     "data": {
      "text/html": [
       "<div>\n",
       "<style scoped>\n",
       "    .dataframe tbody tr th:only-of-type {\n",
       "        vertical-align: middle;\n",
       "    }\n",
       "\n",
       "    .dataframe tbody tr th {\n",
       "        vertical-align: top;\n",
       "    }\n",
       "\n",
       "    .dataframe thead th {\n",
       "        text-align: right;\n",
       "    }\n",
       "</style>\n",
       "<table border=\"1\" class=\"dataframe\">\n",
       "  <thead>\n",
       "    <tr style=\"text-align: right;\">\n",
       "      <th></th>\n",
       "      <th>labels</th>\n",
       "      <th>True Positive count</th>\n",
       "    </tr>\n",
       "  </thead>\n",
       "  <tbody>\n",
       "    <tr>\n",
       "      <th>0</th>\n",
       "      <td>0</td>\n",
       "      <td>340.0</td>\n",
       "    </tr>\n",
       "    <tr>\n",
       "      <th>1</th>\n",
       "      <td>1</td>\n",
       "      <td>391.0</td>\n",
       "    </tr>\n",
       "    <tr>\n",
       "      <th>2</th>\n",
       "      <td>2</td>\n",
       "      <td>355.0</td>\n",
       "    </tr>\n",
       "    <tr>\n",
       "      <th>3</th>\n",
       "      <td>3</td>\n",
       "      <td>336.0</td>\n",
       "    </tr>\n",
       "    <tr>\n",
       "      <th>4</th>\n",
       "      <td>4</td>\n",
       "      <td>340.0</td>\n",
       "    </tr>\n",
       "    <tr>\n",
       "      <th>5</th>\n",
       "      <td>5</td>\n",
       "      <td>336.0</td>\n",
       "    </tr>\n",
       "    <tr>\n",
       "      <th>6</th>\n",
       "      <td>6</td>\n",
       "      <td>309.0</td>\n",
       "    </tr>\n",
       "    <tr>\n",
       "      <th>7</th>\n",
       "      <td>7</td>\n",
       "      <td>314.0</td>\n",
       "    </tr>\n",
       "    <tr>\n",
       "      <th>8</th>\n",
       "      <td>8</td>\n",
       "      <td>325.0</td>\n",
       "    </tr>\n",
       "    <tr>\n",
       "      <th>9</th>\n",
       "      <td>9</td>\n",
       "      <td>243.0</td>\n",
       "    </tr>\n",
       "  </tbody>\n",
       "</table>\n",
       "</div>"
      ],
      "text/plain": [
       "   labels  True Positive count\n",
       "0       0                340.0\n",
       "1       1                391.0\n",
       "2       2                355.0\n",
       "3       3                336.0\n",
       "4       4                340.0\n",
       "5       5                336.0\n",
       "6       6                309.0\n",
       "7       7                314.0\n",
       "8       8                325.0\n",
       "9       9                243.0"
      ]
     },
     "execution_count": 43,
     "metadata": {},
     "output_type": "execute_result"
    }
   ],
   "source": [
    "#----True Positive\n",
    "TP = conf_mat.diagonal()\n",
    "\n",
    "#---- Populate a dataframe for reporting \n",
    "tp_df = pd.DataFrame()\n",
    "tp_df['True Positive count'] = TP\n",
    "tp_df['labels'] = np.arange(len(tp_df))\n",
    "tp_df = tp_df[['labels','True Positive count']]\n",
    "tp_df"
   ]
  },
  {
   "cell_type": "markdown",
   "metadata": {},
   "source": [
    "#### False Positives for each classes predicted"
   ]
  },
  {
   "cell_type": "code",
   "execution_count": 42,
   "metadata": {},
   "outputs": [
    {
     "data": {
      "text/html": [
       "<div>\n",
       "<style scoped>\n",
       "    .dataframe tbody tr th:only-of-type {\n",
       "        vertical-align: middle;\n",
       "    }\n",
       "\n",
       "    .dataframe tbody tr th {\n",
       "        vertical-align: top;\n",
       "    }\n",
       "\n",
       "    .dataframe thead th {\n",
       "        text-align: right;\n",
       "    }\n",
       "</style>\n",
       "<table border=\"1\" class=\"dataframe\">\n",
       "  <thead>\n",
       "    <tr style=\"text-align: right;\">\n",
       "      <th></th>\n",
       "      <th>labels</th>\n",
       "      <th>False Positive count</th>\n",
       "    </tr>\n",
       "  </thead>\n",
       "  <tbody>\n",
       "    <tr>\n",
       "      <th>0</th>\n",
       "      <td>0</td>\n",
       "      <td>2.0</td>\n",
       "    </tr>\n",
       "    <tr>\n",
       "      <th>1</th>\n",
       "      <td>1</td>\n",
       "      <td>2.0</td>\n",
       "    </tr>\n",
       "    <tr>\n",
       "      <th>2</th>\n",
       "      <td>2</td>\n",
       "      <td>2.0</td>\n",
       "    </tr>\n",
       "    <tr>\n",
       "      <th>3</th>\n",
       "      <td>3</td>\n",
       "      <td>4.0</td>\n",
       "    </tr>\n",
       "    <tr>\n",
       "      <th>4</th>\n",
       "      <td>4</td>\n",
       "      <td>4.0</td>\n",
       "    </tr>\n",
       "    <tr>\n",
       "      <th>5</th>\n",
       "      <td>5</td>\n",
       "      <td>2.0</td>\n",
       "    </tr>\n",
       "    <tr>\n",
       "      <th>6</th>\n",
       "      <td>6</td>\n",
       "      <td>5.0</td>\n",
       "    </tr>\n",
       "    <tr>\n",
       "      <th>7</th>\n",
       "      <td>7</td>\n",
       "      <td>2.0</td>\n",
       "    </tr>\n",
       "    <tr>\n",
       "      <th>8</th>\n",
       "      <td>8</td>\n",
       "      <td>4.0</td>\n",
       "    </tr>\n",
       "    <tr>\n",
       "      <th>9</th>\n",
       "      <td>9</td>\n",
       "      <td>1.0</td>\n",
       "    </tr>\n",
       "  </tbody>\n",
       "</table>\n",
       "</div>"
      ],
      "text/plain": [
       "   labels  False Positive count\n",
       "0       0                   2.0\n",
       "1       1                   2.0\n",
       "2       2                   2.0\n",
       "3       3                   4.0\n",
       "4       4                   4.0\n",
       "5       5                   2.0\n",
       "6       6                   5.0\n",
       "7       7                   2.0\n",
       "8       8                   4.0\n",
       "9       9                   1.0"
      ]
     },
     "execution_count": 42,
     "metadata": {},
     "output_type": "execute_result"
    }
   ],
   "source": [
    "#-----False positive\n",
    "FP = np.sum(conf_mat,axis=0) - TP\n",
    "fp_df = pd.DataFrame()\n",
    "fp_df['False Positive count'] = FP\n",
    "fp_df['labels'] = np.arange(len(fp_df))\n",
    "fp_df = fp_df[['labels','False Positive count']]\n",
    "fp_df"
   ]
  },
  {
   "cell_type": "markdown",
   "metadata": {},
   "source": [
    "#### False Negatives for each classes predicted"
   ]
  },
  {
   "cell_type": "code",
   "execution_count": 46,
   "metadata": {},
   "outputs": [
    {
     "data": {
      "text/html": [
       "<div>\n",
       "<style scoped>\n",
       "    .dataframe tbody tr th:only-of-type {\n",
       "        vertical-align: middle;\n",
       "    }\n",
       "\n",
       "    .dataframe tbody tr th {\n",
       "        vertical-align: top;\n",
       "    }\n",
       "\n",
       "    .dataframe thead th {\n",
       "        text-align: right;\n",
       "    }\n",
       "</style>\n",
       "<table border=\"1\" class=\"dataframe\">\n",
       "  <thead>\n",
       "    <tr style=\"text-align: right;\">\n",
       "      <th></th>\n",
       "      <th>labels</th>\n",
       "      <th>False Negative count</th>\n",
       "    </tr>\n",
       "  </thead>\n",
       "  <tbody>\n",
       "    <tr>\n",
       "      <th>0</th>\n",
       "      <td>0</td>\n",
       "      <td>1.0</td>\n",
       "    </tr>\n",
       "    <tr>\n",
       "      <th>1</th>\n",
       "      <td>1</td>\n",
       "      <td>1.0</td>\n",
       "    </tr>\n",
       "    <tr>\n",
       "      <th>2</th>\n",
       "      <td>2</td>\n",
       "      <td>6.0</td>\n",
       "    </tr>\n",
       "    <tr>\n",
       "      <th>3</th>\n",
       "      <td>3</td>\n",
       "      <td>3.0</td>\n",
       "    </tr>\n",
       "    <tr>\n",
       "      <th>4</th>\n",
       "      <td>4</td>\n",
       "      <td>5.0</td>\n",
       "    </tr>\n",
       "    <tr>\n",
       "      <th>5</th>\n",
       "      <td>5</td>\n",
       "      <td>1.0</td>\n",
       "    </tr>\n",
       "    <tr>\n",
       "      <th>6</th>\n",
       "      <td>6</td>\n",
       "      <td>0.0</td>\n",
       "    </tr>\n",
       "    <tr>\n",
       "      <th>7</th>\n",
       "      <td>7</td>\n",
       "      <td>2.0</td>\n",
       "    </tr>\n",
       "    <tr>\n",
       "      <th>8</th>\n",
       "      <td>8</td>\n",
       "      <td>7.0</td>\n",
       "    </tr>\n",
       "    <tr>\n",
       "      <th>9</th>\n",
       "      <td>9</td>\n",
       "      <td>2.0</td>\n",
       "    </tr>\n",
       "  </tbody>\n",
       "</table>\n",
       "</div>"
      ],
      "text/plain": [
       "   labels  False Negative count\n",
       "0       0                   1.0\n",
       "1       1                   1.0\n",
       "2       2                   6.0\n",
       "3       3                   3.0\n",
       "4       4                   5.0\n",
       "5       5                   1.0\n",
       "6       6                   0.0\n",
       "7       7                   2.0\n",
       "8       8                   7.0\n",
       "9       9                   2.0"
      ]
     },
     "execution_count": 46,
     "metadata": {},
     "output_type": "execute_result"
    }
   ],
   "source": [
    "#-----False Negative\n",
    "FN = np.sum(conf_mat,axis=1) - TP\n",
    "\n",
    "fn_df = pd.DataFrame()\n",
    "fn_df['False Negative count'] = FN\n",
    "fn_df['labels'] = np.arange(len(fn_df))\n",
    "fn_df=fn_df[['labels','False Negative count']]\n",
    "fn_df"
   ]
  },
  {
   "cell_type": "markdown",
   "metadata": {},
   "source": [
    "#### Precision and Recall for each class predicted"
   ]
  },
  {
   "cell_type": "code",
   "execution_count": 54,
   "metadata": {},
   "outputs": [],
   "source": [
    "#----Calculate precision\n",
    "precision = TP/(TP+FP)\n",
    "#----Calculate recall\n",
    "recall = TP/(TP+FN)"
   ]
  },
  {
   "cell_type": "code",
   "execution_count": 55,
   "metadata": {},
   "outputs": [
    {
     "data": {
      "text/html": [
       "<div>\n",
       "<style scoped>\n",
       "    .dataframe tbody tr th:only-of-type {\n",
       "        vertical-align: middle;\n",
       "    }\n",
       "\n",
       "    .dataframe tbody tr th {\n",
       "        vertical-align: top;\n",
       "    }\n",
       "\n",
       "    .dataframe thead th {\n",
       "        text-align: right;\n",
       "    }\n",
       "</style>\n",
       "<table border=\"1\" class=\"dataframe\">\n",
       "  <thead>\n",
       "    <tr style=\"text-align: right;\">\n",
       "      <th></th>\n",
       "      <th>labels</th>\n",
       "      <th>Precision</th>\n",
       "      <th>Recall</th>\n",
       "    </tr>\n",
       "  </thead>\n",
       "  <tbody>\n",
       "    <tr>\n",
       "      <th>0</th>\n",
       "      <td>0</td>\n",
       "      <td>0.994152</td>\n",
       "      <td>0.997067</td>\n",
       "    </tr>\n",
       "    <tr>\n",
       "      <th>1</th>\n",
       "      <td>1</td>\n",
       "      <td>0.994911</td>\n",
       "      <td>0.997449</td>\n",
       "    </tr>\n",
       "    <tr>\n",
       "      <th>2</th>\n",
       "      <td>2</td>\n",
       "      <td>0.994398</td>\n",
       "      <td>0.983379</td>\n",
       "    </tr>\n",
       "    <tr>\n",
       "      <th>3</th>\n",
       "      <td>3</td>\n",
       "      <td>0.988235</td>\n",
       "      <td>0.991150</td>\n",
       "    </tr>\n",
       "    <tr>\n",
       "      <th>4</th>\n",
       "      <td>4</td>\n",
       "      <td>0.988372</td>\n",
       "      <td>0.985507</td>\n",
       "    </tr>\n",
       "    <tr>\n",
       "      <th>5</th>\n",
       "      <td>5</td>\n",
       "      <td>0.994083</td>\n",
       "      <td>0.997033</td>\n",
       "    </tr>\n",
       "    <tr>\n",
       "      <th>6</th>\n",
       "      <td>6</td>\n",
       "      <td>0.984076</td>\n",
       "      <td>1.000000</td>\n",
       "    </tr>\n",
       "    <tr>\n",
       "      <th>7</th>\n",
       "      <td>7</td>\n",
       "      <td>0.993671</td>\n",
       "      <td>0.993671</td>\n",
       "    </tr>\n",
       "    <tr>\n",
       "      <th>8</th>\n",
       "      <td>8</td>\n",
       "      <td>0.987842</td>\n",
       "      <td>0.978916</td>\n",
       "    </tr>\n",
       "    <tr>\n",
       "      <th>9</th>\n",
       "      <td>9</td>\n",
       "      <td>0.995902</td>\n",
       "      <td>0.991837</td>\n",
       "    </tr>\n",
       "  </tbody>\n",
       "</table>\n",
       "</div>"
      ],
      "text/plain": [
       "   labels  Precision    Recall\n",
       "0       0   0.994152  0.997067\n",
       "1       1   0.994911  0.997449\n",
       "2       2   0.994398  0.983379\n",
       "3       3   0.988235  0.991150\n",
       "4       4   0.988372  0.985507\n",
       "5       5   0.994083  0.997033\n",
       "6       6   0.984076  1.000000\n",
       "7       7   0.993671  0.993671\n",
       "8       8   0.987842  0.978916\n",
       "9       9   0.995902  0.991837"
      ]
     },
     "execution_count": 55,
     "metadata": {},
     "output_type": "execute_result"
    }
   ],
   "source": [
    "prc_rec_df = pd.DataFrame()\n",
    "prc_rec_df['Precision'] = precision\n",
    "prc_rec_df['Recall'] = recall\n",
    "prc_rec_df['labels'] = np.arange(len(prc_rec_df))\n",
    "prc_rec_df = prc_rec_df[['labels','Precision','Recall']]\n",
    "prc_rec_df"
   ]
  },
  {
   "cell_type": "markdown",
   "metadata": {},
   "source": [
    "#### Bar plots of precision and recall for each class"
   ]
  },
  {
   "cell_type": "code",
   "execution_count": 63,
   "metadata": {},
   "outputs": [
    {
     "data": {
      "image/png": "[encoded data removed]",
      "text/plain": [
       "<Figure size 864x504 with 1 Axes>"
      ]
     },
     "metadata": {},
     "output_type": "display_data"
    }
   ],
   "source": [
    "fig, ax = plt.subplots()\n",
    "fig.set_size_inches(12,7)\n",
    "bar1 = ax.bar(np.arange(10),precision,0.3,color='lightgreen')\n",
    "bar2 = ax.bar(np.arange(10)+0.5,precision,0.3,color='gray')\n",
    "ax.set_title('Precision and Recall')\n",
    "ax.set_xticks(np.arange(10) + 0.3 / 2)\n",
    "ax.set_xticklabels(('0', '1', '2', '3', '4','5','6','7','8','9'))\n",
    "ax.legend((bar1[0], bar2[0]), ('Precision', 'Recall'))\n",
    "ax.autoscale_view()\n",
    "\n",
    "plt.show()\n"
   ]
  },
  {
   "cell_type": "markdown",
   "metadata": {},
   "source": [
    "### <u>Summary</u> \n",
    "<b>1. Accuracy of the model on test data is 99.1% <br>2. Raw Confusion Matrix: </b>"
   ]
  },
  {
   "cell_type": "code",
   "execution_count": 73,
   "metadata": {},
   "outputs": [
    {
     "name": "stdout",
     "output_type": "stream",
     "text": [
      "[[340.   0.   0.   1.   0.   0.   0.   0.   0.   0.]\n",
      " [  0. 391.   0.   0.   0.   0.   0.   0.   1.   0.]\n",
      " [  0.   1. 355.   3.   0.   0.   1.   0.   1.   0.]\n",
      " [  0.   0.   1. 336.   0.   0.   2.   0.   0.   0.]\n",
      " [  1.   0.   0.   0. 340.   1.   0.   1.   1.   1.]\n",
      " [  0.   0.   0.   0.   1. 336.   0.   0.   0.   0.]\n",
      " [  0.   0.   0.   0.   0.   0. 309.   0.   0.   0.]\n",
      " [  0.   0.   0.   0.   1.   0.   0. 314.   1.   0.]\n",
      " [  1.   0.   1.   0.   2.   1.   1.   1. 325.   0.]\n",
      " [  0.   1.   0.   0.   0.   0.   1.   0.   0. 243.]]\n"
     ]
    }
   ],
   "source": [
    "print(conf_mat)"
   ]
  },
  {
   "cell_type": "markdown",
   "metadata": {},
   "source": [
    "<b>3. Normalized Confusion Matrix:</b>"
   ]
  },
  {
   "cell_type": "code",
   "execution_count": 76,
   "metadata": {},
   "outputs": [
    {
     "name": "stdout",
     "output_type": "stream",
     "text": [
      "[[0.997 0.    0.    0.003 0.    0.    0.    0.    0.    0.   ]\n",
      " [0.    0.997 0.    0.    0.    0.    0.    0.    0.003 0.   ]\n",
      " [0.    0.003 0.983 0.008 0.    0.    0.003 0.    0.003 0.   ]\n",
      " [0.    0.    0.003 0.991 0.    0.    0.006 0.    0.    0.   ]\n",
      " [0.003 0.    0.    0.    0.986 0.003 0.    0.003 0.003 0.003]\n",
      " [0.    0.    0.    0.    0.003 0.997 0.    0.    0.    0.   ]\n",
      " [0.    0.    0.    0.    0.    0.    1.    0.    0.    0.   ]\n",
      " [0.    0.    0.    0.    0.003 0.    0.    0.994 0.003 0.   ]\n",
      " [0.003 0.    0.003 0.    0.006 0.003 0.003 0.003 0.979 0.   ]\n",
      " [0.    0.004 0.    0.    0.    0.    0.004 0.    0.    0.992]]\n"
     ]
    }
   ],
   "source": [
    "print(Norm_conf_mat.round(3))"
   ]
  },
  {
   "cell_type": "markdown",
   "metadata": {},
   "source": [
    "<<b>4. Most accurately predicted category:</b>\n",
    "\n",
    "Note : Accuracy has been determined from the normalized confusion matrix and the most accurate and least accurate prediction are determined using the accuracy"
   ]
  },
  {
   "cell_type": "code",
   "execution_count": 83,
   "metadata": {},
   "outputs": [
    {
     "data": {
      "text/html": [
       "<div>\n",
       "<style scoped>\n",
       "    .dataframe tbody tr th:only-of-type {\n",
       "        vertical-align: middle;\n",
       "    }\n",
       "\n",
       "    .dataframe tbody tr th {\n",
       "        vertical-align: top;\n",
       "    }\n",
       "\n",
       "    .dataframe thead th {\n",
       "        text-align: right;\n",
       "    }\n",
       "</style>\n",
       "<table border=\"1\" class=\"dataframe\">\n",
       "  <thead>\n",
       "    <tr style=\"text-align: right;\">\n",
       "      <th></th>\n",
       "      <th>labels</th>\n",
       "      <th>accuracy</th>\n",
       "    </tr>\n",
       "  </thead>\n",
       "  <tbody>\n",
       "    <tr>\n",
       "      <th>6</th>\n",
       "      <td>6</td>\n",
       "      <td>1.0</td>\n",
       "    </tr>\n",
       "  </tbody>\n",
       "</table>\n",
       "</div>"
      ],
      "text/plain": [
       "   labels  accuracy\n",
       "6       6       1.0"
      ]
     },
     "execution_count": 83,
     "metadata": {},
     "output_type": "execute_result"
    }
   ],
   "source": [
    "acc_df.sort_values(by='accuracy',ascending = False).head(1)"
   ]
  },
  {
   "cell_type": "markdown",
   "metadata": {},
   "source": [
    "<b>5. Least accurately predicted category:8\n",
    "   <br> The other least accurately predicted and most often confused category was 2 </b>"
   ]
  },
  {
   "cell_type": "code",
   "execution_count": 80,
   "metadata": {},
   "outputs": [
    {
     "data": {
      "text/html": [
       "<div>\n",
       "<style scoped>\n",
       "    .dataframe tbody tr th:only-of-type {\n",
       "        vertical-align: middle;\n",
       "    }\n",
       "\n",
       "    .dataframe tbody tr th {\n",
       "        vertical-align: top;\n",
       "    }\n",
       "\n",
       "    .dataframe thead th {\n",
       "        text-align: right;\n",
       "    }\n",
       "</style>\n",
       "<table border=\"1\" class=\"dataframe\">\n",
       "  <thead>\n",
       "    <tr style=\"text-align: right;\">\n",
       "      <th></th>\n",
       "      <th>labels</th>\n",
       "      <th>accuracy</th>\n",
       "    </tr>\n",
       "  </thead>\n",
       "  <tbody>\n",
       "    <tr>\n",
       "      <th>8</th>\n",
       "      <td>8</td>\n",
       "      <td>0.978916</td>\n",
       "    </tr>\n",
       "    <tr>\n",
       "      <th>2</th>\n",
       "      <td>2</td>\n",
       "      <td>0.983379</td>\n",
       "    </tr>\n",
       "  </tbody>\n",
       "</table>\n",
       "</div>"
      ],
      "text/plain": [
       "   labels  accuracy\n",
       "8       8  0.978916\n",
       "2       2  0.983379"
      ]
     },
     "execution_count": 80,
     "metadata": {},
     "output_type": "execute_result"
    }
   ],
   "source": [
    "acc_df.sort_values(by='accuracy',ascending = True).head(2)"
   ]
  },
  {
   "cell_type": "markdown",
   "metadata": {},
   "source": [
    "<b>6. Precision and Recall:</b>"
   ]
  },
  {
   "cell_type": "code",
   "execution_count": 82,
   "metadata": {},
   "outputs": [
    {
     "data": {
      "image/png": "[encoded data removed]",
      "text/plain": [
       "<Figure size 864x504 with 1 Axes>"
      ]
     },
     "metadata": {},
     "output_type": "display_data"
    },
    {
     "data": {
      "text/html": [
       "<div>\n",
       "<style scoped>\n",
       "    .dataframe tbody tr th:only-of-type {\n",
       "        vertical-align: middle;\n",
       "    }\n",
       "\n",
       "    .dataframe tbody tr th {\n",
       "        vertical-align: top;\n",
       "    }\n",
       "\n",
       "    .dataframe thead th {\n",
       "        text-align: right;\n",
       "    }\n",
       "</style>\n",
       "<table border=\"1\" class=\"dataframe\">\n",
       "  <thead>\n",
       "    <tr style=\"text-align: right;\">\n",
       "      <th></th>\n",
       "      <th>labels</th>\n",
       "      <th>Precision</th>\n",
       "      <th>Recall</th>\n",
       "    </tr>\n",
       "  </thead>\n",
       "  <tbody>\n",
       "    <tr>\n",
       "      <th>0</th>\n",
       "      <td>0</td>\n",
       "      <td>0.994152</td>\n",
       "      <td>0.997067</td>\n",
       "    </tr>\n",
       "    <tr>\n",
       "      <th>1</th>\n",
       "      <td>1</td>\n",
       "      <td>0.994911</td>\n",
       "      <td>0.997449</td>\n",
       "    </tr>\n",
       "    <tr>\n",
       "      <th>2</th>\n",
       "      <td>2</td>\n",
       "      <td>0.994398</td>\n",
       "      <td>0.983379</td>\n",
       "    </tr>\n",
       "    <tr>\n",
       "      <th>3</th>\n",
       "      <td>3</td>\n",
       "      <td>0.988235</td>\n",
       "      <td>0.991150</td>\n",
       "    </tr>\n",
       "    <tr>\n",
       "      <th>4</th>\n",
       "      <td>4</td>\n",
       "      <td>0.988372</td>\n",
       "      <td>0.985507</td>\n",
       "    </tr>\n",
       "    <tr>\n",
       "      <th>5</th>\n",
       "      <td>5</td>\n",
       "      <td>0.994083</td>\n",
       "      <td>0.997033</td>\n",
       "    </tr>\n",
       "    <tr>\n",
       "      <th>6</th>\n",
       "      <td>6</td>\n",
       "      <td>0.984076</td>\n",
       "      <td>1.000000</td>\n",
       "    </tr>\n",
       "    <tr>\n",
       "      <th>7</th>\n",
       "      <td>7</td>\n",
       "      <td>0.993671</td>\n",
       "      <td>0.993671</td>\n",
       "    </tr>\n",
       "    <tr>\n",
       "      <th>8</th>\n",
       "      <td>8</td>\n",
       "      <td>0.987842</td>\n",
       "      <td>0.978916</td>\n",
       "    </tr>\n",
       "    <tr>\n",
       "      <th>9</th>\n",
       "      <td>9</td>\n",
       "      <td>0.995902</td>\n",
       "      <td>0.991837</td>\n",
       "    </tr>\n",
       "  </tbody>\n",
       "</table>\n",
       "</div>"
      ],
      "text/plain": [
       "   labels  Precision    Recall\n",
       "0       0   0.994152  0.997067\n",
       "1       1   0.994911  0.997449\n",
       "2       2   0.994398  0.983379\n",
       "3       3   0.988235  0.991150\n",
       "4       4   0.988372  0.985507\n",
       "5       5   0.994083  0.997033\n",
       "6       6   0.984076  1.000000\n",
       "7       7   0.993671  0.993671\n",
       "8       8   0.987842  0.978916\n",
       "9       9   0.995902  0.991837"
      ]
     },
     "execution_count": 82,
     "metadata": {},
     "output_type": "execute_result"
    }
   ],
   "source": [
    "\n",
    "fig, ax = plt.subplots()\n",
    "fig.set_size_inches(12,7)\n",
    "bar1 = ax.bar(np.arange(10),precision,0.3,color='lightgreen')\n",
    "bar2 = ax.bar(np.arange(10)+0.5,precision,0.3,color='gray')\n",
    "ax.set_title('Precision and Recall')\n",
    "ax.set_xticks(np.arange(10) + 0.3 / 2)\n",
    "ax.set_xticklabels(('0', '1', '2', '3', '4','5','6','7','8','9'))\n",
    "ax.legend((bar1[0], bar2[0]), ('Precision', 'Recall'))\n",
    "ax.autoscale_view()\n",
    "plt.show()\n",
    "\n",
    "prc_rec_df"
   ]
  },
  {
   "cell_type": "code",
   "execution_count": null,
   "metadata": {},
   "outputs": [],
   "source": []
  }
 ],
 "metadata": {
  "kernelspec": {
   "display_name": "Python 3",
   "language": "python",
   "name": "python3"
  },
  "language_info": {
   "codemirror_mode": {
    "name": "ipython",
    "version": 3
   },
   "file_extension": ".py",
   "mimetype": "text/x-python",
   "name": "python",
   "nbconvert_exporter": "python",
   "pygments_lexer": "ipython3",
   "version": "3.7.4"
  }
 },
 "nbformat": 4,
 "nbformat_minor": 2
}

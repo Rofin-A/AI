{
 "cells": [
  {
   "cell_type": "markdown",
   "metadata": {
    "colab_type": "text",
    "id": "J1VF5_GNnxcw"
   },
   "source": [
    "# Topic Modelling and Text Classification\n",
    "\n",
    "<b>Name :</b> Rofin Andonissamy <br>\n",
    "\n",
    "<b>Description :</b><br>\n",
    "\n",
    "1. Create topic modelling for a dataset containing real and fake news articles\n",
    "\n",
    "2. Train a 1D Convolutional Neural Network to classify between real and fake news articles\n",
    "\n",
    "3. Train a Recurrent Neural Network to classify between real and fake news articles\n",
    "\n",
    "\n",
    "<b>Deep Learning Framework used:</b> PyTorch<br> \n",
    "\n",
    "\n",
    "<b>Note:</b> Weights of the embedding layers are copied from the pretrained model: Glove"
   ]
  },
  {
   "cell_type": "code",
   "execution_count": 1,
   "metadata": {
    "colab": {
     "base_uri": "https://localhost:8080/",
     "height": 51
    },
    "colab_type": "code",
    "id": "8AjxTdVHT0xB",
    "outputId": "8b7f7262-5e3c-4853-8e7d-754c87f4ded7"
   },
   "outputs": [
    {
     "name": "stdout",
     "output_type": "stream",
     "text": [
      "[nltk_data] Downloading package wordnet to /root/nltk_data...\n",
      "[nltk_data]   Unzipping corpora/wordnet.zip.\n"
     ]
    }
   ],
   "source": [
    "#---- Import libraries\n",
    "#---------------------\n",
    "\n",
    "#--- For NLP preprocessing\n",
    "#------------------------ \n",
    "import spacy\n",
    "from spacy.lang.en import English\n",
    "import time\n",
    "\n",
    "#-----For Text preprocessing\n",
    "#---------------------------\n",
    "import torchtext\n",
    "import torchtext.data as data\n",
    "from torchtext.data import Field\n",
    "from torchtext.data import TabularDataset\n",
    "import torch.nn.functional as F\n",
    "import numpy as np\n",
    "np.random.seed(0)\n",
    "\n",
    "#----Pytorch framework for modelling neural network\n",
    "#--------------------------------------------------\n",
    "import torch\n",
    "import torch.nn as nn\n",
    "import torch.optim as optim\n",
    "torch.manual_seed(0)\n",
    "import tqdm\n",
    "\n",
    "from sklearn.metrics import confusion_matrix\n",
    "from sklearn.metrics import accuracy_score \n",
    "from sklearn.metrics import classification_report \n",
    "import pandas as pd\n",
    "\n",
    "#----General libraries for datastructures\n",
    "from collections import Counter\n",
    "np.random.seed(10)\n",
    "import matplotlib.pyplot as plt\n",
    "#----Text Preprocessing\n",
    "import gensim\n",
    "from gensim.utils import simple_preprocess\n",
    "from gensim.parsing.preprocessing import STOPWORDS\n",
    "from nltk.stem import WordNetLemmatizer, SnowballStemmer\n",
    "from gensim import corpora, models as g_models\n",
    "from nltk.stem.porter import *\n",
    "import nltk\n",
    "nltk.download('wordnet')\n",
    "from gensim.models.coherencemodel import CoherenceModel\n",
    "\n",
    "\n",
    "from sklearn.preprocessing import LabelEncoder as le\n",
    "\n",
    "import seaborn as sn"
   ]
  },
  {
   "cell_type": "markdown",
   "metadata": {
    "colab_type": "text",
    "id": "q_Yv3DnFnxc3"
   },
   "source": [
    "## Read the input file"
   ]
  },
  {
   "cell_type": "code",
   "execution_count": 2,
   "metadata": {
    "colab": {
     "base_uri": "https://localhost:8080/",
     "height": 289
    },
    "colab_type": "code",
    "id": "SHHxja14dqvS",
    "outputId": "d161b00b-67ac-42c0-9b0a-cb9bc00504f9"
   },
   "outputs": [
    {
     "data": {
      "text/html": [
       "<div>\n",
       "<style scoped>\n",
       "    .dataframe tbody tr th:only-of-type {\n",
       "        vertical-align: middle;\n",
       "    }\n",
       "\n",
       "    .dataframe tbody tr th {\n",
       "        vertical-align: top;\n",
       "    }\n",
       "\n",
       "    .dataframe thead th {\n",
       "        text-align: right;\n",
       "    }\n",
       "</style>\n",
       "<table border=\"1\" class=\"dataframe\">\n",
       "  <thead>\n",
       "    <tr style=\"text-align: right;\">\n",
       "      <th></th>\n",
       "      <th>id</th>\n",
       "      <th>published</th>\n",
       "      <th>title</th>\n",
       "      <th>text</th>\n",
       "      <th>type</th>\n",
       "    </tr>\n",
       "  </thead>\n",
       "  <tbody>\n",
       "    <tr>\n",
       "      <th>0</th>\n",
       "      <td>164889</td>\n",
       "      <td>5/22/2017</td>\n",
       "      <td>Justice Department Narrows Scope Of ’Sanctuary...</td>\n",
       "      <td>Attorney General Jeff Sessions is narrowing th...</td>\n",
       "      <td>Real</td>\n",
       "    </tr>\n",
       "    <tr>\n",
       "      <th>1</th>\n",
       "      <td>161890</td>\n",
       "      <td>2/10/2017</td>\n",
       "      <td>First Watch: Aldous Harding’s Elegant Video Fo...</td>\n",
       "      <td>It’s basically three chords banged out on a pi...</td>\n",
       "      <td>Real</td>\n",
       "    </tr>\n",
       "    <tr>\n",
       "      <th>2</th>\n",
       "      <td>e7d74d7a8321d6367585210b8aa4d29e16519dbf</td>\n",
       "      <td>2016-11-24T18:20:29.095+02:00</td>\n",
       "      <td>Our Grandmothers Know Best – Traditional Remed...</td>\n",
       "      <td>Our Grandmothers Know Best – Traditional Remed...</td>\n",
       "      <td>fake</td>\n",
       "    </tr>\n",
       "    <tr>\n",
       "      <th>3</th>\n",
       "      <td>156366</td>\n",
       "      <td>11/13/2016</td>\n",
       "      <td>Paul Ryan lists Trump-era priorities as he ins...</td>\n",
       "      <td>The wall that Donald Trump has promised to bui...</td>\n",
       "      <td>Real</td>\n",
       "    </tr>\n",
       "    <tr>\n",
       "      <th>4</th>\n",
       "      <td>0396c4ce127a5bfe9f545a16118dcad6b4283386</td>\n",
       "      <td>2016-10-29T17:42:18.350+03:00</td>\n",
       "      <td>Supreme Court will hear case on bathroom rules...</td>\n",
       "      <td>The Supreme Court said Friday it will hear a c...</td>\n",
       "      <td>fake</td>\n",
       "    </tr>\n",
       "  </tbody>\n",
       "</table>\n",
       "</div>"
      ],
      "text/plain": [
       "                                         id                      published  \\\n",
       "0                                    164889                      5/22/2017   \n",
       "1                                    161890                      2/10/2017   \n",
       "2  e7d74d7a8321d6367585210b8aa4d29e16519dbf  2016-11-24T18:20:29.095+02:00   \n",
       "3                                    156366                     11/13/2016   \n",
       "4  0396c4ce127a5bfe9f545a16118dcad6b4283386  2016-10-29T17:42:18.350+03:00   \n",
       "\n",
       "                                               title  \\\n",
       "0  Justice Department Narrows Scope Of ’Sanctuary...   \n",
       "1  First Watch: Aldous Harding’s Elegant Video Fo...   \n",
       "2  Our Grandmothers Know Best – Traditional Remed...   \n",
       "3  Paul Ryan lists Trump-era priorities as he ins...   \n",
       "4  Supreme Court will hear case on bathroom rules...   \n",
       "\n",
       "                                                text  type  \n",
       "0  Attorney General Jeff Sessions is narrowing th...  Real  \n",
       "1  It’s basically three chords banged out on a pi...  Real  \n",
       "2  Our Grandmothers Know Best – Traditional Remed...  fake  \n",
       "3  The wall that Donald Trump has promised to bui...  Real  \n",
       "4  The Supreme Court said Friday it will hear a c...  fake  "
      ]
     },
     "execution_count": 2,
     "metadata": {
      "tags": []
     },
     "output_type": "execute_result"
    }
   ],
   "source": [
    "#------ Read the training data \n",
    "inp_df = pd.read_csv('train.csv')\n",
    "inp_df.head()"
   ]
  },
  {
   "cell_type": "markdown",
   "metadata": {
    "colab_type": "text",
    "id": "BrZuOf3anxc8"
   },
   "source": [
    "# Data Preprocessing"
   ]
  },
  {
   "cell_type": "code",
   "execution_count": 3,
   "metadata": {
    "colab": {
     "base_uri": "https://localhost:8080/",
     "height": 323
    },
    "colab_type": "code",
    "id": "GLNXjPCwdqMw",
    "outputId": "3dd47cf5-a488-400f-86b1-4303e5408c86"
   },
   "outputs": [
    {
     "name": "stdout",
     "output_type": "stream",
     "text": [
      "--------------------------------------------------------------------------------------------------------------\n",
      "Encoding Details\n",
      "--------------------------------------------------------------------------------------------------------------\n",
      "  Class  Encoding\n",
      "0  Real         0\n",
      "1  fake         1\n",
      "**************************************************************************************************************\n"
     ]
    },
    {
     "data": {
      "text/html": [
       "<div>\n",
       "<style scoped>\n",
       "    .dataframe tbody tr th:only-of-type {\n",
       "        vertical-align: middle;\n",
       "    }\n",
       "\n",
       "    .dataframe tbody tr th {\n",
       "        vertical-align: top;\n",
       "    }\n",
       "\n",
       "    .dataframe thead th {\n",
       "        text-align: right;\n",
       "    }\n",
       "</style>\n",
       "<table border=\"1\" class=\"dataframe\">\n",
       "  <thead>\n",
       "    <tr style=\"text-align: right;\">\n",
       "      <th></th>\n",
       "      <th>News</th>\n",
       "      <th>Type</th>\n",
       "    </tr>\n",
       "  </thead>\n",
       "  <tbody>\n",
       "    <tr>\n",
       "      <th>0</th>\n",
       "      <td>Justice Department Narrows Scope Of ’Sanctuary...</td>\n",
       "      <td>0</td>\n",
       "    </tr>\n",
       "    <tr>\n",
       "      <th>1</th>\n",
       "      <td>First Watch: Aldous Harding’s Elegant Video Fo...</td>\n",
       "      <td>0</td>\n",
       "    </tr>\n",
       "    <tr>\n",
       "      <th>2</th>\n",
       "      <td>Our Grandmothers Know Best – Traditional Remed...</td>\n",
       "      <td>1</td>\n",
       "    </tr>\n",
       "    <tr>\n",
       "      <th>3</th>\n",
       "      <td>Paul Ryan lists Trump-era priorities as he ins...</td>\n",
       "      <td>0</td>\n",
       "    </tr>\n",
       "    <tr>\n",
       "      <th>4</th>\n",
       "      <td>Supreme Court will hear case on bathroom rules...</td>\n",
       "      <td>1</td>\n",
       "    </tr>\n",
       "  </tbody>\n",
       "</table>\n",
       "</div>"
      ],
      "text/plain": [
       "                                                News  Type\n",
       "0  Justice Department Narrows Scope Of ’Sanctuary...     0\n",
       "1  First Watch: Aldous Harding’s Elegant Video Fo...     0\n",
       "2  Our Grandmothers Know Best – Traditional Remed...     1\n",
       "3  Paul Ryan lists Trump-era priorities as he ins...     0\n",
       "4  Supreme Court will hear case on bathroom rules...     1"
      ]
     },
     "execution_count": 3,
     "metadata": {
      "tags": []
     },
     "output_type": "execute_result"
    }
   ],
   "source": [
    "#----Create a training dataset\n",
    "#-----------------------------\n",
    "train_df= pd.DataFrame()\n",
    "\n",
    "#---- Concatenate the text fields together for modelling\n",
    "#-------------------------------------------------------\n",
    "train_df['News'] =  inp_df['title']+':'+inp_df['text']\n",
    "train_df['Type'] = le().fit_transform(inp_df['type'])\n",
    "\n",
    "#----Capture the label encodeing details for later reference\n",
    "#-----------------------------------------------------------\n",
    "label_encode_df = pd.DataFrame()\n",
    "encode = le().fit(inp_df['type'])\n",
    "label_encode_df['Class'] = encode.classes_\n",
    "label_encode_df['Encoding'] = label_encode_df.index\n",
    "\n",
    "#---Display the details\n",
    "#----------------------\n",
    "print(\"-\"*110)\n",
    "print(\"Encoding Details\")\n",
    "print(\"-\"*110)\n",
    "print(label_encode_df)\n",
    "print(\"*\"*110)\n",
    "\n",
    "train_df.head()\n"
   ]
  },
  {
   "cell_type": "code",
   "execution_count": 0,
   "metadata": {
    "colab": {},
    "colab_type": "code",
    "id": "B2PTfBNOdpsf"
   },
   "outputs": [],
   "source": [
    "#----Function to lemmatize (remove inflational word endings)\n",
    "#-----------------------------------------------------------\n",
    "def lemmatize(inp_text):\n",
    "    Lemmatizer=WordNetLemmatizer()\n",
    "    return Lemmatizer.lemmatize(Lemmatizer.lemmatize(Lemmatizer.lemmatize(Lemmatizer.lemmatize(inp_text,pos='v'),pos='a'),pos='r'),pos='n')\n",
    "\n",
    "#----Function to determine the root word\n",
    "#---------------------------------------\n",
    "def stemming(inp_text):\n",
    "    stemmer = SnowballStemmer(\"english\")\n",
    "    return stemmer.stem(inp_text)\n",
    "\n",
    "#----Tokenize and apply pre-processing defined above\n",
    "#---------------------------------------------------\n",
    "def preprocess_text(inp_txt):\n",
    "    proc_txt = []\n",
    "    for token in gensim.utils.simple_preprocess(str(inp_txt)):\n",
    "        if token not in gensim.parsing.preprocessing.STOPWORDS and len(str(inp_txt)) > 3:\n",
    "            proc_txt.append(stemming(lemmatize(token)))\n",
    "    return proc_txt"
   ]
  },
  {
   "cell_type": "code",
   "execution_count": 5,
   "metadata": {
    "colab": {
     "base_uri": "https://localhost:8080/",
     "height": 206
    },
    "colab_type": "code",
    "id": "UwQjfhMngl3G",
    "outputId": "0c3643a1-e8ce-4e26-b58b-f004d865ad4f"
   },
   "outputs": [
    {
     "data": {
      "text/plain": [
       "0    [justic, depart, narrow, scope, sanctuari, cit...\n",
       "1    [watch, aldous, hard, eleg, video, haunt, hori...\n",
       "2    [grandmoth, know, best, tradit, remedi, asthma...\n",
       "3    [paul, ryan, list, trump, era, prioriti, insis...\n",
       "4    [suprem, court, hear, case, bathroom, rule, tr...\n",
       "5    [modern, histori, rig, elect, licens, dmca, un...\n",
       "6    [ask, peopl, know, obamacar, know, answer, aff...\n",
       "7    [feed, say, june, hike, possibl, uk, employ, h...\n",
       "8    [alex, honnold, scale, el, capitan, rope, clim...\n",
       "9    [wild, conflict, inform, fbi, actual, renew, c...\n",
       "Name: News, dtype: object"
      ]
     },
     "execution_count": 5,
     "metadata": {
      "tags": []
     },
     "output_type": "execute_result"
    }
   ],
   "source": [
    "#---Apply preprocessing to the text columns\n",
    "preprocesd_docs = train_df['News'].map(preprocess_text)\n",
    "#---Display to check whether preprocessing is working as desired\n",
    "preprocesd_docs[:10]"
   ]
  },
  {
   "cell_type": "code",
   "execution_count": 0,
   "metadata": {
    "colab": {},
    "colab_type": "code",
    "id": "1KSQUMEHiOG7"
   },
   "outputs": [],
   "source": [
    "#----- Seggregate preprocessed versions of all, fake and real documents\n",
    "#-----------------------------------------------------------------------\n",
    "all_docs_preprocsd = preprocesd_docs\n",
    "fake_docs_preprocsd = preprocesd_docs.loc[train_df['Type']==1]\n",
    "real_docs_preprocsd = preprocesd_docs.loc[train_df['Type']==0]"
   ]
  },
  {
   "cell_type": "markdown",
   "metadata": {
    "colab_type": "text",
    "id": "Jam2X8MMiZxg"
   },
   "source": [
    "# Build Vocabulary"
   ]
  },
  {
   "cell_type": "code",
   "execution_count": 7,
   "metadata": {
    "colab": {
     "base_uri": "https://localhost:8080/",
     "height": 172
    },
    "colab_type": "code",
    "id": "bZ6Ed0yViTEi",
    "outputId": "b5a6caf2-de19-42b7-9567-33ff3a5d223a"
   },
   "outputs": [
    {
     "name": "stdout",
     "output_type": "stream",
     "text": [
      "----------------------------------------------------------------------------------------------------\n",
      "Vocabulary List\n",
      "----------------------------------------------------------------------------------------------------\n",
      "0 administ\n",
      "1 administr\n",
      "2 ag\n",
      "3 appli\n",
      "4 arriv\n",
      "5 attorney\n"
     ]
    }
   ],
   "source": [
    "#---create vocabulary dictionary (word to id mapping)\n",
    "#----------------------------------------------------\n",
    "all_docs_dict = gensim.corpora.Dictionary(all_docs_preprocsd)\n",
    "\n",
    "#--Filter out the least significant words (Appearing in less than 20 docs,appearing in more than 50% of corpus,)\n",
    "#---------------------------------------------------------------------------------------------------------------\n",
    "all_docs_dict.filter_extremes(no_below=15, no_above=0.5, keep_n=None)\n",
    "\n",
    "#----Print first 5 entries in the ditionary\n",
    "#-------------------------------------------\n",
    "count = 0\n",
    "print(\"-\"*100)\n",
    "print(\"Vocabulary List\")\n",
    "print(\"-\"*100)\n",
    "for k, v in all_docs_dict.iteritems():\n",
    "    print(k, v)\n",
    "    count += 1\n",
    "    if count > 5:\n",
    "        break"
   ]
  },
  {
   "cell_type": "code",
   "execution_count": 0,
   "metadata": {
    "colab": {},
    "colab_type": "code",
    "id": "pDjarWwWisQ5"
   },
   "outputs": [],
   "source": [
    "#---get bag of words corpus for each document in the dictionary (for all,real and fake documents) \n",
    "#------------------------------------------------------------------------------------------------\n",
    "all_docs_bowcorpus= [all_docs_dict.doc2bow(doc) for doc in all_docs_preprocsd]\n",
    "real_docs_bowcorpus= [all_docs_dict.doc2bow(doc) for doc in real_docs_preprocsd]\n",
    "fake_docs_bowcorpus= [all_docs_dict.doc2bow(doc) for doc in fake_docs_preprocsd]\n",
    "\n",
    "# ---get term frequency \n",
    "# ---------------------\n",
    "# Corpus does hold document frequency but not term frequency. Hence manually compute it\n",
    "def get_term_freq(docs_bowcorpus):\n",
    "    vocabulary_tf={}\n",
    "    for i in docs_bowcorpus:\n",
    "        for word,count in dict(i).items():\n",
    "            if word in vocabulary_tf:\n",
    "                vocabulary_tf[word] += count\n",
    "            else:\n",
    "                vocabulary_tf[word] = count\n",
    "    return vocabulary_tf\n",
    "\n",
    "#----Get TFIDF corpus for LDA modelling\n",
    "#--------------------------------------\n",
    "def get_tfidf_corpus(docs_bowcorpus):\n",
    "    #----Calculate TFIDF\n",
    "    tfidf = g_models.TfidfModel(docs_bowcorpus)\n",
    "    return tfidf[docs_bowcorpus]"
   ]
  },
  {
   "cell_type": "markdown",
   "metadata": {
    "colab_type": "text",
    "id": "1rO7nwiGjOJv"
   },
   "source": [
    "# Frequently occurring words\n",
    "\n",
    "<i><u>Note:</i></u> Since stemmer has been used, some words may seem to have slightly incorrect spelling "
   ]
  },
  {
   "cell_type": "code",
   "execution_count": 9,
   "metadata": {
    "colab": {
     "base_uri": "https://localhost:8080/",
     "height": 1204
    },
    "colab_type": "code",
    "id": "fT-mvZEDjqO8",
    "outputId": "100def16-ca35-44c9-d2dc-09309ab6a59e"
   },
   "outputs": [
    {
     "name": "stdout",
     "output_type": "stream",
     "text": [
      "20 Most Frequent words in entire data\n",
      "--------------------------------------------------------------------------------------------------------------\n",
      "Word:\"trump\" \t occurs:33626 times\n",
      "Word:\"state\" \t occurs:20821 times\n",
      "Word:\"clinton\" \t occurs:18805 times\n",
      "Word:\"know\" \t occurs:16439 times\n",
      "Word:\"go\" \t occurs:15854 times\n",
      "Word:\"presid\" \t occurs:15801 times\n",
      "Word:\"think\" \t occurs:14709 times\n",
      "Word:\"report\" \t occurs:14464 times\n",
      "Word:\"work\" \t occurs:14366 times\n",
      "Word:\"american\" \t occurs:13127 times\n",
      "Word:\"day\" \t occurs:12624 times\n",
      "Word:\"elect\" \t occurs:12621 times\n",
      "Word:\"tell\" \t occurs:12592 times\n",
      "Word:\"world\" \t occurs:12467 times\n",
      "Word:\"way\" \t occurs:12287 times\n",
      "Word:\"want\" \t occurs:11756 times\n",
      "Word:\"right\" \t occurs:11572 times\n",
      "Word:\"countri\" \t occurs:11334 times\n",
      "Word:\"hillari\" \t occurs:11032 times\n",
      "Word:\"nation\" \t occurs:10918 times\n",
      "--------------------------------------------------------------------------------------------------------------\n",
      "20 Most Frequent words in real news\n",
      "--------------------------------------------------------------------------------------------------------------\n",
      "Word:\"trump\" \t occurs:18406 times\n",
      "Word:\"go\" \t occurs:10415 times\n",
      "Word:\"state\" \t occurs:10308 times\n",
      "Word:\"know\" \t occurs:10225 times\n",
      "Word:\"think\" \t occurs:10055 times\n",
      "Word:\"work\" \t occurs:9591 times\n",
      "Word:\"presid\" \t occurs:9022 times\n",
      "Word:\"tell\" \t occurs:8725 times\n",
      "Word:\"report\" \t occurs:8716 times\n",
      "Word:\"way\" \t occurs:8060 times\n",
      "Word:\"day\" \t occurs:7835 times\n",
      "Word:\"want\" \t occurs:7669 times\n",
      "Word:\"woman\" \t occurs:7419 times\n",
      "Word:\"take\" \t occurs:6928 times\n",
      "Word:\"get\" \t occurs:6819 times\n",
      "Word:\"good\" \t occurs:6799 times\n",
      "Word:\"countri\" \t occurs:6646 times\n",
      "Word:\"world\" \t occurs:6509 times\n",
      "Word:\"right\" \t occurs:6438 times\n",
      "Word:\"look\" \t occurs:6375 times\n",
      "--------------------------------------------------------------------------------------------------------------\n",
      "20 Most Frequent words in fake news\n",
      "--------------------------------------------------------------------------------------------------------------\n",
      "Word:\"trump\" \t occurs:15220 times\n",
      "Word:\"clinton\" \t occurs:14245 times\n",
      "Word:\"state\" \t occurs:10513 times\n",
      "Word:\"hillari\" \t occurs:9490 times\n",
      "Word:\"elect\" \t occurs:8589 times\n",
      "Word:\"american\" \t occurs:6841 times\n",
      "Word:\"presid\" \t occurs:6779 times\n",
      "Word:\"know\" \t occurs:6214 times\n",
      "Word:\"world\" \t occurs:5958 times\n",
      "Word:\"war\" \t occurs:5795 times\n",
      "Word:\"report\" \t occurs:5748 times\n",
      "Word:\"govern\" \t occurs:5718 times\n",
      "Word:\"go\" \t occurs:5439 times\n",
      "Word:\"vote\" \t occurs:5316 times\n",
      "Word:\"email\" \t occurs:5158 times\n",
      "Word:\"polit\" \t occurs:5138 times\n",
      "Word:\"right\" \t occurs:5134 times\n",
      "Word:\"nation\" \t occurs:5023 times\n",
      "Word:\"russia\" \t occurs:5019 times\n",
      "Word:\"support\" \t occurs:4997 times\n",
      "--------------------------------------------------------------------------------------------------------------\n"
     ]
    }
   ],
   "source": [
    "def freq_words():\n",
    "    all_docs_df = Counter(get_term_freq(all_docs_bowcorpus))\n",
    "    real_docs_df = Counter(get_term_freq(real_docs_bowcorpus))\n",
    "    fake_docs_df = Counter(get_term_freq(fake_docs_bowcorpus))\n",
    "\n",
    "    print(\"20 Most Frequent words in entire data\")\n",
    "    print(\"-\"*110)\n",
    "    for k,v in all_docs_df.most_common(20):\n",
    "        print('Word:\\\"{}\\\" \\t occurs:{} times'.format(all_docs_dict[k],v))\n",
    "    print(\"-\"*110)\n",
    "\n",
    "    print(\"20 Most Frequent words in real news\")\n",
    "    print(\"-\"*110)\n",
    "    for k,v in real_docs_df.most_common(20):\n",
    "        print('Word:\\\"{}\\\" \\t occurs:{} times'.format(all_docs_dict[k],v))\n",
    "    print(\"-\"*110)\n",
    "\n",
    "    print(\"20 Most Frequent words in fake news\")\n",
    "    print(\"-\"*110)\n",
    "    for k,v in fake_docs_df.most_common(20):\n",
    "        print('Word:\\\"{}\\\" \\t occurs:{} times'.format(all_docs_dict[k],v))\n",
    "    print(\"-\"*110)\n",
    "\n",
    "freq_words()"
   ]
  },
  {
   "cell_type": "code",
   "execution_count": 0,
   "metadata": {
    "colab": {},
    "colab_type": "code",
    "id": "Q_7zL5AXj797"
   },
   "outputs": [],
   "source": [
    "#-----Generate TDIDF Scores\n",
    "#--------------------------\n",
    "tfidf_corpus_4_real = get_tfidf_corpus(real_docs_bowcorpus)\n",
    "tfidf_corpus_4_fake = get_tfidf_corpus(fake_docs_bowcorpus)"
   ]
  },
  {
   "cell_type": "markdown",
   "metadata": {
    "colab_type": "text",
    "id": "PccIBq9OkdcM"
   },
   "source": [
    "# Build LDA Model"
   ]
  },
  {
   "cell_type": "code",
   "execution_count": 0,
   "metadata": {
    "colab": {},
    "colab_type": "code",
    "id": "dmnoOYZDkZbj"
   },
   "outputs": [],
   "source": [
    "#----Create multiple instances of LDA model with different topic numbers and respective coherence scores\n",
    "def LDAModel(start,end,stepsize,corpus,doct_dict):\n",
    "    coh_values = []\n",
    "    models = []\n",
    "    num_topic = []\n",
    "    for num_topics in range(start, end, stepsize):\n",
    "        LDA_Model = g_models.LdaMulticore(corpus, num_topics=num_topics, id2word=doct_dict, passes=2, workers=2)\n",
    "        models.append(LDA_Model)\n",
    "        coh_model = CoherenceModel(model=LDA_Model, texts=preprocesd_docs, dictionary=doct_dict, coherence='c_v')\n",
    "        coh_values.append(coh_model.get_coherence())\n",
    "    return models,coh_values"
   ]
  },
  {
   "cell_type": "markdown",
   "metadata": {
    "colab_type": "text",
    "id": "dGjCRm_Hnq_9"
   },
   "source": [
    "## LDA for Real news"
   ]
  },
  {
   "cell_type": "code",
   "execution_count": 0,
   "metadata": {
    "colab": {},
    "colab_type": "code",
    "id": "zfZZ_1B7nKJf"
   },
   "outputs": [],
   "source": [
    "#------Get LDA and respective coherent score for Real news corpus\n",
    "lda_models_real,coh_score_real = LDAModel(2,14,2,tfidf_corpus_4_real,all_docs_dict)"
   ]
  },
  {
   "cell_type": "code",
   "execution_count": 14,
   "metadata": {
    "colab": {
     "base_uri": "https://localhost:8080/",
     "height": 361
    },
    "colab_type": "code",
    "id": "HaXKZtUIoVjn",
    "outputId": "2bba39c5-d50f-4f12-ba7f-0bae76d359aa"
   },
   "outputs": [
    {
     "data": {
      "image/png": "[encoded data removed]",
      "text/plain": [
       "<Figure size 576x396 with 1 Axes>"
      ]
     },
     "metadata": {
      "tags": []
     },
     "output_type": "display_data"
    }
   ],
   "source": [
    "#---- Plot the coherence scores for different number of topics to identify the ideal number of topics\n",
    "plt.plot(range(2,14,2), coh_score_real)\n",
    "plt.xlabel(\"#. of Topics\")\n",
    "plt.ylabel(\"Coherance score\")\n",
    "plt.show()\n"
   ]
  },
  {
   "cell_type": "markdown",
   "metadata": {
    "colab_type": "text",
    "id": "HjgH0LmGnxdz"
   },
   "source": [
    "#### From the above plot, we can infer that the coherence score is high for the model with  10 topics. Hence the ideal number of topics for real news corpus is 10 "
   ]
  },
  {
   "cell_type": "code",
   "execution_count": 15,
   "metadata": {
    "colab": {
     "base_uri": "https://localhost:8080/",
     "height": 605
    },
    "colab_type": "code",
    "id": "dYEd-5SL0IG4",
    "outputId": "f93f979c-b3a1-4d4d-fe97-4039efb5bbc5"
   },
   "outputs": [
    {
     "name": "stdout",
     "output_type": "stream",
     "text": [
      "--------------------------------------------------------------------------------------------------------------\n",
      "Topics determined for real news:\n",
      "--------------------------------------------------------------------------------------------------------------\n",
      "\n",
      " Topic:0 \n",
      " Word: 0.003*\"appl\" + 0.002*\"trump\" + 0.002*\"uber\" + 0.001*\"compani\" + 0.001*\"china\" + 0.001*\"fbi\" + 0.001*\"whale\" + 0.001*\"iphon\" + 0.001*\"facebook\" + 0.001*\"eu\"\n",
      "\n",
      " Topic:1 \n",
      " Word: 0.004*\"trump\" + 0.003*\"clinton\" + 0.003*\"sander\" + 0.003*\"cruz\" + 0.003*\"voter\" + 0.002*\"rubio\" + 0.002*\"vote\" + 0.002*\"candid\" + 0.002*\"poll\" + 0.002*\"republican\"\n",
      "\n",
      " Topic:2 \n",
      " Word: 0.007*\"trump\" + 0.003*\"presid\" + 0.003*\"republican\" + 0.003*\"senat\" + 0.002*\"court\" + 0.002*\"hous\" + 0.002*\"democrat\" + 0.002*\"health\" + 0.002*\"state\" + 0.002*\"law\"\n",
      "\n",
      " Topic:3 \n",
      " Word: 0.002*\"trump\" + 0.001*\"polic\" + 0.001*\"pipelin\" + 0.001*\"space\" + 0.001*\"record\" + 0.001*\"jazz\" + 0.001*\"oil\" + 0.001*\"protest\" + 0.001*\"facebook\" + 0.001*\"music\"\n",
      "\n",
      " Topic:4 \n",
      " Word: 0.002*\"trump\" + 0.001*\"woman\" + 0.001*\"polic\" + 0.001*\"presid\" + 0.001*\"sexual\" + 0.001*\"court\" + 0.001*\"clinton\" + 0.001*\"gun\" + 0.001*\"play\" + 0.001*\"shoot\"\n",
      "\n",
      " Topic:5 \n",
      " Word: 0.002*\"trump\" + 0.002*\"music\" + 0.002*\"song\" + 0.001*\"desk\" + 0.001*\"band\" + 0.001*\"game\" + 0.001*\"uber\" + 0.001*\"album\" + 0.001*\"tini\" + 0.001*\"play\"\n",
      "\n",
      " Topic:6 \n",
      " Word: 0.002*\"zika\" + 0.002*\"virus\" + 0.002*\"vaccin\" + 0.002*\"mosquito\" + 0.002*\"trump\" + 0.001*\"dylan\" + 0.001*\"outbreak\" + 0.001*\"le\" + 0.001*\"attack\" + 0.001*\"brussel\"\n",
      "\n",
      " Topic:7 \n",
      " Word: 0.004*\"trump\" + 0.003*\"iran\" + 0.002*\"syria\" + 0.002*\"syrian\" + 0.001*\"russia\" + 0.001*\"russian\" + 0.001*\"presid\" + 0.001*\"assad\" + 0.001*\"aleppo\" + 0.001*\"missil\"\n",
      "\n",
      " Topic:8 \n",
      " Word: 0.002*\"woman\" + 0.002*\"film\" + 0.001*\"music\" + 0.001*\"trump\" + 0.001*\"school\" + 0.001*\"student\" + 0.001*\"polic\" + 0.001*\"black\" + 0.001*\"child\" + 0.001*\"stori\"\n",
      "\n",
      " Topic:9 \n",
      " Word: 0.002*\"russia\" + 0.002*\"trump\" + 0.002*\"isi\" + 0.002*\"russian\" + 0.002*\"putin\" + 0.001*\"attack\" + 0.001*\"presid\" + 0.001*\"turkey\" + 0.001*\"food\" + 0.001*\"clinton\"\n"
     ]
    }
   ],
   "source": [
    "print(\"-\"*110)\n",
    "print(\"Topics determined for real news:\")\n",
    "print(\"-\"*110)\n",
    "for idx,topic in lda_models_real[4].print_topics(-1):\n",
    "        print('\\n Topic:{} \\n Word: {}'.format(idx,topic))\n"
   ]
  },
  {
   "cell_type": "markdown",
   "metadata": {
    "colab_type": "text",
    "id": "7lv8o2vT1IE7"
   },
   "source": [
    "## LDA Model for Fake news"
   ]
  },
  {
   "cell_type": "code",
   "execution_count": 0,
   "metadata": {
    "colab": {},
    "colab_type": "code",
    "id": "zpjJS4nc1Z-5"
   },
   "outputs": [],
   "source": [
    "#------Get LDA for fake news\n",
    "lda_models_fake,coh_score_fake = LDAModel(2,14,2,tfidf_corpus_4_fake,all_docs_dict)"
   ]
  },
  {
   "cell_type": "code",
   "execution_count": 17,
   "metadata": {
    "colab": {
     "base_uri": "https://localhost:8080/",
     "height": 361
    },
    "colab_type": "code",
    "id": "n8XtXtuh2DRD",
    "outputId": "e32500bf-336d-497a-f246-1a9178f6f810"
   },
   "outputs": [
    {
     "data": {
      "image/png": "[encoded data removed]",
      "text/plain": [
       "<Figure size 576x396 with 1 Axes>"
      ]
     },
     "metadata": {
      "tags": []
     },
     "output_type": "display_data"
    }
   ],
   "source": [
    "plt.plot(range(2,14,2), coh_score_fake)\n",
    "plt.xlabel(\"#. of Topics\")\n",
    "plt.ylabel(\"Coherance score\")\n",
    "plt.show()"
   ]
  },
  {
   "cell_type": "markdown",
   "metadata": {
    "colab_type": "text",
    "id": "OPeC0mfhnxeA"
   },
   "source": [
    "#### From the above plot, we can infer that the coherence score is high for the model with  2 topics. Hence the ideal number of topics for real news corpus is 2 "
   ]
  },
  {
   "cell_type": "code",
   "execution_count": 18,
   "metadata": {
    "colab": {
     "base_uri": "https://localhost:8080/",
     "height": 192
    },
    "colab_type": "code",
    "id": "biz9VAPF4w4G",
    "outputId": "9319d049-80da-48f1-d690-a2446f3a7439"
   },
   "outputs": [
    {
     "name": "stdout",
     "output_type": "stream",
     "text": [
      "--------------------------------------------------------------------------------------------------------------\n",
      "Topics determined for fake news:\n",
      "--------------------------------------------------------------------------------------------------------------\n",
      "\n",
      " Topic:0 \n",
      " Word: 0.003*\"trump\" + 0.003*\"clinton\" + 0.002*\"vote\" + 0.002*\"hillari\" + 0.002*\"russia\" + 0.002*\"syria\" + 0.002*\"email\" + 0.001*\"war\" + 0.001*\"presid\" + 0.001*\"elect\"\n",
      "\n",
      " Topic:1 \n",
      " Word: 0.003*\"trump\" + 0.003*\"clinton\" + 0.002*\"hillari\" + 0.002*\"elect\" + 0.002*\"email\" + 0.002*\"fbi\" + 0.001*\"world\" + 0.001*\"vote\" + 0.001*\"american\" + 0.001*\"obama\"\n"
     ]
    }
   ],
   "source": [
    "print(\"-\"*110)\n",
    "print(\"Topics determined for fake news:\")\n",
    "print(\"-\"*110)\n",
    "for idx,topic in lda_models_fake[0].print_topics(-1):\n",
    "        print('\\n Topic:{} \\n Word: {}'.format(idx,topic))\n"
   ]
  },
  {
   "cell_type": "markdown",
   "metadata": {
    "colab_type": "text",
    "id": "XjxDh7yx5vaQ"
   },
   "source": [
    "# Text Classification using CNN"
   ]
  },
  {
   "cell_type": "code",
   "execution_count": 0,
   "metadata": {
    "colab": {},
    "colab_type": "code",
    "id": "lxHsmYDcT4jq"
   },
   "outputs": [],
   "source": [
    "#----Instantiate Spacy English module for tokenization\n",
    "#-----------------------------------------------------\n",
    "spacy_en = English()\n",
    "\n",
    "#----Tokenize function \n",
    "#--------------------\n",
    "def tokenize(doc): # create a tokenizer function\n",
    "    return [token.text for token in spacy_en.tokenizer(doc)]"
   ]
  },
  {
   "cell_type": "code",
   "execution_count": 20,
   "metadata": {
    "colab": {
     "base_uri": "https://localhost:8080/",
     "height": 258
    },
    "colab_type": "code",
    "id": "C_2hGNV3T9AQ",
    "outputId": "13ed360c-e950-4942-89a0-1c83227e87b1"
   },
   "outputs": [
    {
     "name": "stdout",
     "output_type": "stream",
     "text": [
      "Training dataset\n",
      " ----------------------------------------------------------------------------------------------------\n",
      "The keys in dataset:\n",
      " dict_keys(['text', 'type']) \n",
      "\n",
      "input vector:\n",
      " ['attorney', 'general', 'jeff', 'sessions', 'is', 'narrowing', 'the', 'scope', 'of', 'an']\n",
      "Test dataset\n",
      " ----------------------------------------------------------------------------------------------------\n",
      "The keys in dataset:\n",
      " dict_keys(['text', 'type']) \n",
      "\n",
      "input vector:\n",
      " ['politics', 'british', 'prime', 'minister', 'theresa', 'may', 'waits', 'for', 'the', 'arrival']\n"
     ]
    }
   ],
   "source": [
    "from sklearn import preprocessing\n",
    "\n",
    "#-----Define label encoder \n",
    "#-------------------------\n",
    "def label_encoder(x):\n",
    "    if(x.lower().strip()=='real'):\n",
    "        x=0\n",
    "    else:\n",
    "        x=1\n",
    "    return x\n",
    "  \n",
    "\n",
    "#------ Define text pre-processing pipeline for input text (news) and label:\n",
    "#--------------------------------------------------------------------------\n",
    "\n",
    "NEWS  = Field(sequential=True,tokenize=tokenize, lower=True)\n",
    "LABEL = Field(sequential= False,use_vocab=False,lower=True,preprocessing= label_encoder) \n",
    "\n",
    "#---Apply the pre-processing pipeline defined above to the required columns of input file\n",
    "#----------------------------------------------------------------------------------------\n",
    "train_fields = [(\"id\", None), (\"published\", None), (\"title\", None), \n",
    "                (\"text\", NEWS),(\"type\", LABEL)]\n",
    "\n",
    "#path='./',\n",
    "#----Since train and test files has the same structure and requires same preprocessing\n",
    "#----Create relevent datasets using the same field mappings\n",
    "\n",
    "train_dataset = TabularDataset( path= 'train.csv', format='CSV', \n",
    "                               skip_header=True, fields=train_fields)\n",
    "\n",
    "\n",
    "test_dataset  = TabularDataset( path= 'test.csv', format='CSV', \n",
    "                               skip_header=True, fields=train_fields)\n",
    "\n",
    "#----Check the datasets to verify if the text are being read accordingly\n",
    "#----------------------------------------------------------------------\n",
    "print(\"Training dataset\\n\",\"-\"*100)\n",
    "print('The keys in dataset:\\n',train_dataset[0].__dict__.keys(),\n",
    "      '\\n\\ninput vector:\\n',train_dataset[0].text[:10])\n",
    "\n",
    "print(\"Test dataset\\n\",\"-\"*100)\n",
    "print('The keys in dataset:\\n',test_dataset[0].__dict__.keys(),\n",
    "      '\\n\\ninput vector:\\n',test_dataset[0].text[:10])\n",
    "\n"
   ]
  },
  {
   "cell_type": "code",
   "execution_count": 21,
   "metadata": {
    "colab": {
     "base_uri": "https://localhost:8080/",
     "height": 51
    },
    "colab_type": "code",
    "id": "vJP_gZvhUH55",
    "outputId": "1da8b7c4-201c-412b-caf6-8c488cefd3ec"
   },
   "outputs": [
    {
     "name": "stderr",
     "output_type": "stream",
     "text": [
      ".vector_cache/glove.6B.zip: 862MB [11:44, 1.22MB/s]                           \n",
      "100%|█████████▉| 398978/400000 [00:20<00:00, 19882.81it/s]"
     ]
    }
   ],
   "source": [
    "#-----build vocabulary\n",
    "#---------------------\n",
    "NEWS.build_vocab(train_dataset,max_size=30000,vectors=\"glove.6B.100d\")\n",
    "\n",
    "device = torch.device('cuda' if torch.cuda.is_available() else 'cpu')\n",
    "\n",
    "#-----Define iterator to load training data\n",
    "#------------------------------------------\n",
    "train_iterator= data.BucketIterator(train_dataset, batch_size = 32,  \n",
    "                                    sort_key=lambda x: len(x.text), \n",
    "                                    sort_within_batch=False,repeat = False,\n",
    "                                    device=device)\n",
    "\n",
    "#-----Define iterator to load test data\n",
    "#------------------------------------------\n",
    "test_iterator= data.BucketIterator(test_dataset, batch_size = 32,  \n",
    "                                   sort_key=lambda x: len(x.text), \n",
    "                                   sort_within_batch=False,repeat = False,\n",
    "                                   device=device)"
   ]
  },
  {
   "cell_type": "code",
   "execution_count": 0,
   "metadata": {
    "colab": {},
    "colab_type": "code",
    "id": "IZuWdNIby6t2"
   },
   "outputs": [],
   "source": [
    "class SimpleCNN(nn.Module):\n",
    "    def __init__(self, inp_dim, embed_chl, n_filters, \n",
    "                 filter_size, output_dim, dropout, pad_idx):\n",
    "        super().__init__()\n",
    "        #----Embedding layer(takes numericalized seq. of words as input and produces 100 channels \n",
    "        #----(based on the glove vector) of o/p)\n",
    "        self.embedding = nn.Embedding(inp_dim, embed_chl, padding_idx=pad_idx)\n",
    "        \n",
    "        #---- Convolution layers to learn 3-gram,4-gram and 5-gram features of the text\n",
    "        self.convs = nn.ModuleList([nn.Conv1d(in_channels = embed_chl, out_channels = n_filters, \n",
    "                                              kernel_size = fs) for fs in filter_size])\n",
    "        \n",
    "        #----- Fully connected layer\n",
    "        self.fc = nn.Linear(len(filter_size) * n_filters, output_dim)\n",
    "        #---- Dropout layer\n",
    "        self.dropout = nn.Dropout(dropout)\n",
    "    \n",
    "    #---- Forward Propogaion\n",
    "    def forward(self, text):\n",
    "        \n",
    "        \n",
    "        #----Transpose the incoming matrix so that the dimension will be batch size * text length\n",
    "        text = text.permute(1, 0)\n",
    "        embedded = self.embedding(text) #adds embed_chl 3. of channels (batch size * text length * embed_chl)\n",
    "                \n",
    "        #----Rearrange the data (batch size*embed_chl*text_lengh)        \n",
    "        embedded = embedded.permute(0, 2, 1)\n",
    "        \n",
    "        #----Apply convolution operation (3,4,5 filter sizes) with relu non-linearity as activation function\n",
    "        #----Each convolution will reduce the dimentsion by ((text_len-filter_size)/stride) -1\n",
    "        conved = [F.relu(conv(embedded)) for conv in self.convs] \n",
    "            \n",
    "        #----Apply maxpool1d\n",
    "        pooled = [F.max_pool1d(conv, conv.shape[2]).squeeze(2) for conv in conved]  #(batch size, n_filters)\n",
    "        \n",
    "        #---concatenate the dimensions and apply dropout\n",
    "        cat = self.dropout(torch.cat(pooled, dim=1))\n",
    "        #---return the fully connected layer\n",
    "        return self.fc(cat)\n",
    "\n",
    "\n",
    "#----- Populate the dimension\n",
    "#----------------------------\n",
    "\n",
    "#----Length of the vocabulary (Input size)\n",
    "inp_dim = len(NEWS.vocab)        \n",
    "#---- #. of Embedding channels should be equal to the number of filters (100)\n",
    "embed_chl = n_filters = 100\n",
    "#---- Filter sizes (to read the features of 3-gram,4-gram and 5-gram)\n",
    "filter_size = [3,4,5]\n",
    "#---- #. of output classes (1 - 0 or 1)\n",
    "output_dim = 1\n",
    "#---- Dropout to reduce exploding gradient \n",
    "dropout = 0.5\n",
    "#----- Padding index\n",
    "pad_idx = NEWS.vocab.stoi[NEWS.pad_token]\n",
    "\n",
    "#-----Instantiate the model\n",
    "model = SimpleCNN(inp_dim, \n",
    "                  embed_chl, \n",
    "                  n_filters, \n",
    "                  filter_size, \n",
    "                  output_dim, \n",
    "                  dropout, \n",
    "                  pad_idx)"
   ]
  },
  {
   "cell_type": "code",
   "execution_count": 23,
   "metadata": {
    "colab": {
     "base_uri": "https://localhost:8080/",
     "height": 189
    },
    "colab_type": "code",
    "id": "gY6BP9uC0rte",
    "outputId": "7a2cabe7-5a6d-4cd4-bd21-35d46c486e1f"
   },
   "outputs": [
    {
     "data": {
      "text/plain": [
       "SimpleCNN(\n",
       "  (embedding): Embedding(30002, 100, padding_idx=1)\n",
       "  (convs): ModuleList(\n",
       "    (0): Conv1d(100, 100, kernel_size=(3,), stride=(1,))\n",
       "    (1): Conv1d(100, 100, kernel_size=(4,), stride=(1,))\n",
       "    (2): Conv1d(100, 100, kernel_size=(5,), stride=(1,))\n",
       "  )\n",
       "  (fc): Linear(in_features=300, out_features=1, bias=True)\n",
       "  (dropout): Dropout(p=0.5)\n",
       ")"
      ]
     },
     "execution_count": 23,
     "metadata": {
      "tags": []
     },
     "output_type": "execute_result"
    }
   ],
   "source": [
    "model"
   ]
  },
  {
   "cell_type": "code",
   "execution_count": 24,
   "metadata": {
    "colab": {
     "base_uri": "https://localhost:8080/",
     "height": 34
    },
    "colab_type": "code",
    "id": "4cK2Pjor0rVn",
    "outputId": "bc441a81-7cc7-4c23-ca89-3f5293a92cd1"
   },
   "outputs": [
    {
     "name": "stdout",
     "output_type": "stream",
     "text": [
      "The model has 3,120,801 trainable parameters\n"
     ]
    }
   ],
   "source": [
    "#-----check the number of trainable parameter in the model\n",
    "def count_parameters(model):\n",
    "    return sum(p.numel() for p in model.parameters() if p.requires_grad)\n",
    "print(f'The model has {count_parameters(model):,} trainable parameters')"
   ]
  },
  {
   "cell_type": "code",
   "execution_count": 25,
   "metadata": {
    "colab": {
     "base_uri": "https://localhost:8080/",
     "height": 137
    },
    "colab_type": "code",
    "id": "JW0Czckb1fjW",
    "outputId": "782cb8df-be5a-4c92-9e69-80864b99a71c"
   },
   "outputs": [
    {
     "data": {
      "text/plain": [
       "tensor([[ 0.0000,  0.0000,  0.0000,  ...,  0.0000,  0.0000,  0.0000],\n",
       "        [ 0.0000,  0.0000,  0.0000,  ...,  0.0000,  0.0000,  0.0000],\n",
       "        [-0.0382, -0.2449,  0.7281,  ..., -0.1459,  0.8278,  0.2706],\n",
       "        ...,\n",
       "        [ 0.0371, -0.2098, -0.0383,  ...,  0.2884,  0.0683, -0.8658],\n",
       "        [-0.0132,  0.3681,  0.4478,  ..., -0.9901, -0.1159,  0.1895],\n",
       "        [-0.3322, -0.6721, -0.0505,  ..., -0.4044, -0.1407,  0.0277]])"
      ]
     },
     "execution_count": 25,
     "metadata": {
      "tags": []
     },
     "output_type": "execute_result"
    }
   ],
   "source": [
    "#-----Copy Pretrained embedding weights to the model\n",
    "#----------------------------------------------------\n",
    "model.embedding.weight.data.copy_(NEWS.vocab.vectors)\n"
   ]
  },
  {
   "cell_type": "code",
   "execution_count": 0,
   "metadata": {
    "colab": {},
    "colab_type": "code",
    "id": "tO3z-HEq17Gn"
   },
   "outputs": [],
   "source": [
    "# # #----Check if GPU is available for use, else use CPU\n",
    "device = torch.device(\"cuda:0\" if torch.cuda.is_available() else \"cpu\")\n",
    "\n",
    "#---Loss function\n",
    "criterion = nn.BCEWithLogitsLoss()\n",
    "\n",
    "# Initialize the optimizer function- ADAM optimization\n",
    "optimizer = optim.Adam(model.parameters(), lr=0.001)#optim.SGD(model.parameters(), lr=0.001, momentum=0.9) #optim.SGD(model.parameters(), lr=1e-2,)\n",
    "\n",
    "model = model.to(device)\n",
    "criterion = criterion.to(device)\n",
    "\n",
    "# Decay LR by a factor of 0.1 every 7 epochs\n",
    "#exp_lr_scheduler = lr_scheduler.StepLR(optimizer_ft, step_size=7, gamma=0.1)"
   ]
  },
  {
   "cell_type": "code",
   "execution_count": 0,
   "metadata": {
    "colab": {},
    "colab_type": "code",
    "id": "ZRDC1b6f2VOV"
   },
   "outputs": [],
   "source": [
    "#-----Function to calcualte the accuracy\n",
    "def appraise_accuracy(preds, y):\n",
    "    #---round predictions to the closest integer by applying sigmoid function\n",
    "    rounded_preds = torch.round(torch.sigmoid(preds))\n",
    "    #---Calculate the accuracy\n",
    "    correct = (rounded_preds == y).float() #convert into float for division \n",
    "    acc = correct.sum()/len(correct)\n",
    "    return acc"
   ]
  },
  {
   "cell_type": "code",
   "execution_count": 0,
   "metadata": {
    "colab": {},
    "colab_type": "code",
    "id": "pU-RW-A32eJs"
   },
   "outputs": [],
   "source": [
    "#------Define a function to train the model\n",
    "def train(model, iterator, optimizer, criterion):\n",
    "    #----reset epoch variables\n",
    "    epoch_loss = 0\n",
    "    epoch_acc = 0\n",
    "    \n",
    "    #---set the model to train mode\n",
    "    model.train()\n",
    "    \n",
    "    #-----Iterate through each mini batch\n",
    "    for batch in iterator:\n",
    "        #---Initialize the weights\n",
    "        optimizer.zero_grad()\n",
    "        \n",
    "        #Make prediction\n",
    "        predictions = model(batch.text).squeeze(1)\n",
    "        \n",
    "        #---calculate loss\n",
    "        loss = criterion(predictions, batch.type.float())\n",
    "        \n",
    "        #---appraise accuracy\n",
    "        acc = appraise_accuracy(predictions, batch.type.float())\n",
    "        \n",
    "        #---backwrd propogation\n",
    "        loss.backward()\n",
    "        optimizer.step()\n",
    "        #---accumulate the loss and accuracy        \n",
    "        epoch_loss += loss.item()\n",
    "        epoch_acc += acc.item() \n",
    "        \n",
    "    return epoch_loss / len(iterator), epoch_acc / len(iterator)"
   ]
  },
  {
   "cell_type": "code",
   "execution_count": 0,
   "metadata": {
    "colab": {},
    "colab_type": "code",
    "id": "4EmOJR233SMf"
   },
   "outputs": [],
   "source": [
    "#-----Function to test the model \n",
    "def evaluate(model, iterator, criterion):\n",
    "    #---Initialize epoch variables\n",
    "    epoch_loss = 0\n",
    "    epoch_acc = 0\n",
    "    y_pred = None\n",
    "    y_truth = None\n",
    "\n",
    "\n",
    "    #---put the model into evaluation mode so that gradiants wont be adjusted\n",
    "    model.eval()\n",
    "    \n",
    "    with torch.no_grad():\n",
    "    #---iterate through the mini batches\n",
    "        for batch in iterator:\n",
    "            #---make prediction\n",
    "            predictions = model(batch.text).squeeze(1)\n",
    "            #---appraise loss and accuracy\n",
    "            loss = criterion(predictions, batch.type.float())\n",
    "            acc = appraise_accuracy(predictions, batch.type.float())\n",
    "            #---accumulate the loss and accurac\n",
    "            epoch_loss += loss.item()\n",
    "            epoch_acc += acc.item()\n",
    "\n",
    "            #---accumulate the labels and prediction\n",
    "            y_pred_tmp = (torch.round(torch.sigmoid(predictions))).cpu().numpy()\n",
    "            if y_pred is None:\n",
    "                y_pred = y_pred_tmp\n",
    "                y_truth = batch.type.float().cpu().numpy()\n",
    "            else:\n",
    "                y_pred = np.append(y_pred,y_pred_tmp)  \n",
    "                y_truth =np.append(y_truth,batch.type.float().cpu().numpy())\n",
    "                  \n",
    "    return epoch_loss/len(iterator), epoch_acc/len(iterator),y_pred,y_truth"
   ]
  },
  {
   "cell_type": "code",
   "execution_count": 0,
   "metadata": {
    "colab": {},
    "colab_type": "code",
    "id": "1RWX3Tmh3-5x"
   },
   "outputs": [],
   "source": [
    "import time\n",
    "#---function to evaluate the time interval between each epoch\n",
    "def epoch_time(start_time, end_time):\n",
    "    elapsed_time = end_time - start_time\n",
    "    elapsed_mins = int(elapsed_time / 60)\n",
    "    elapsed_secs = int(elapsed_time - (elapsed_mins * 60))\n",
    "    return elapsed_mins, elapsed_secs"
   ]
  },
  {
   "cell_type": "markdown",
   "metadata": {
    "colab_type": "text",
    "id": "dObtPskFnxew"
   },
   "source": [
    "# Train the CNN"
   ]
  },
  {
   "cell_type": "code",
   "execution_count": 35,
   "metadata": {
    "colab": {
     "base_uri": "https://localhost:8080/",
     "height": 533
    },
    "colab_type": "code",
    "id": "VtCHnuD24OXp",
    "outputId": "fc8757b3-83d8-404b-d7c8-36b845a67ec6"
   },
   "outputs": [
    {
     "name": "stdout",
     "output_type": "stream",
     "text": [
      "-------------------------------------------------------------------------------------------------------------------\n",
      "Epoch: 01 | Epoch Time: 1m 2s\n",
      "\tTrain Loss: 0.002 | Train Accuracy: 99.98%\n",
      "------------------------------------------------------------------------------------------------------------------- \n",
      "\n",
      "-------------------------------------------------------------------------------------------------------------------\n",
      "Epoch: 02 | Epoch Time: 1m 2s\n",
      "\tTrain Loss: 0.001 | Train Accuracy: 99.98%\n",
      "------------------------------------------------------------------------------------------------------------------- \n",
      "\n",
      "-------------------------------------------------------------------------------------------------------------------\n",
      "Epoch: 03 | Epoch Time: 1m 2s\n",
      "\tTrain Loss: 0.000 | Train Accuracy: 100.00%\n",
      "------------------------------------------------------------------------------------------------------------------- \n",
      "\n",
      "-------------------------------------------------------------------------------------------------------------------\n",
      "Epoch: 04 | Epoch Time: 1m 2s\n",
      "\tTrain Loss: 0.000 | Train Accuracy: 100.00%\n",
      "------------------------------------------------------------------------------------------------------------------- \n",
      "\n",
      "-------------------------------------------------------------------------------------------------------------------\n",
      "Epoch: 05 | Epoch Time: 1m 3s\n",
      "\tTrain Loss: 0.000 | Train Accuracy: 100.00%\n",
      "------------------------------------------------------------------------------------------------------------------- \n",
      "\n",
      "-------------------------------------------------------------------------------------------------------------------\n",
      "Epoch: 06 | Epoch Time: 1m 2s\n",
      "\tTrain Loss: 0.002 | Train Accuracy: 99.94%\n",
      "------------------------------------------------------------------------------------------------------------------- \n",
      "\n"
     ]
    }
   ],
   "source": [
    "#-----------Train the convolutional network \n",
    "N_EPOCHS = 6\n",
    "\n",
    "for epoch in range(N_EPOCHS):\n",
    "\n",
    "    #---record the start time\n",
    "    start_time = time.time()\n",
    "    #train the model\n",
    "    train_loss, train_acc = train(model, train_iterator, optimizer, criterion)\n",
    "    #---record the end time\n",
    "    end_time = time.time()\n",
    "\n",
    "       \n",
    "    epoch_mins, epoch_secs = epoch_time(start_time, end_time)\n",
    "    print(\"-\"*115)\n",
    "    print(f'Epoch: {epoch+1:02} | Epoch Time: {epoch_mins}m {epoch_secs}s')\n",
    "    print(f'\\tTrain Loss: {train_loss:.3f} | Train Accuracy: {train_acc*100:.2f}%')\n",
    "    print(\"-\"*115,'\\n')\n",
    "    \n",
    "    "
   ]
  },
  {
   "cell_type": "markdown",
   "metadata": {
    "colab_type": "text",
    "id": "4PX37UGVnxez"
   },
   "source": [
    "# Evaluate the model "
   ]
  },
  {
   "cell_type": "code",
   "execution_count": 36,
   "metadata": {
    "colab": {
     "base_uri": "https://localhost:8080/",
     "height": 34
    },
    "colab_type": "code",
    "id": "E4hVoW-g86_s",
    "outputId": "8f406cff-dd35-4a90-b5a3-bed48830fc9e"
   },
   "outputs": [
    {
     "name": "stdout",
     "output_type": "stream",
     "text": [
      "\tTest Loss: 0.011 | Test Accuracy: 99.65%\n"
     ]
    }
   ],
   "source": [
    "test_loss, test_acc,y_cap,y = evaluate(model, test_iterator, criterion)\n",
    "\n",
    "print(f'\\tTest Loss: {test_loss:.3f} | Test Accuracy: {test_acc*100:.2f}%')\n"
   ]
  },
  {
   "cell_type": "code",
   "execution_count": 37,
   "metadata": {
    "colab": {
     "base_uri": "https://localhost:8080/",
     "height": 145
    },
    "colab_type": "code",
    "id": "JDlQQI-ZVnaZ",
    "outputId": "d7cb6251-c612-4446-ccf8-bc6e2b0ea527"
   },
   "outputs": [
    {
     "name": "stdout",
     "output_type": "stream",
     "text": [
      "Confusion Matrix:\n",
      "\n"
     ]
    },
    {
     "data": {
      "text/html": [
       "<div>\n",
       "<style scoped>\n",
       "    .dataframe tbody tr th:only-of-type {\n",
       "        vertical-align: middle;\n",
       "    }\n",
       "\n",
       "    .dataframe tbody tr th {\n",
       "        vertical-align: top;\n",
       "    }\n",
       "\n",
       "    .dataframe thead th {\n",
       "        text-align: right;\n",
       "    }\n",
       "</style>\n",
       "<table border=\"1\" class=\"dataframe\">\n",
       "  <thead>\n",
       "    <tr style=\"text-align: right;\">\n",
       "      <th></th>\n",
       "      <th>Genuine</th>\n",
       "      <th>Fake</th>\n",
       "    </tr>\n",
       "  </thead>\n",
       "  <tbody>\n",
       "    <tr>\n",
       "      <th>Genuine</th>\n",
       "      <td>1966</td>\n",
       "      <td>1</td>\n",
       "    </tr>\n",
       "    <tr>\n",
       "      <th>Fake</th>\n",
       "      <td>12</td>\n",
       "      <td>1761</td>\n",
       "    </tr>\n",
       "  </tbody>\n",
       "</table>\n",
       "</div>"
      ],
      "text/plain": [
       "         Genuine  Fake\n",
       "Genuine     1966     1\n",
       "Fake          12  1761"
      ]
     },
     "execution_count": 37,
     "metadata": {
      "tags": []
     },
     "output_type": "execute_result"
    }
   ],
   "source": [
    "#---- Label description for confusion matrix\n",
    "labl_descr = {0:'Genuine',1:'Fake'}\n",
    "\n",
    "#---Confusion matrix\n",
    "#-------------------\n",
    "cm = confusion_matrix(y,y_cap)\n",
    "cm_df = pd.DataFrame(cm)\n",
    "cm_df = cm_df.rename(labl_descr, axis='index')\n",
    "cm_df = cm_df.rename(labl_descr, axis='columns')\n",
    "print(\"Confusion Matrix:\\n\")\n",
    "cm_df"
   ]
  },
  {
   "cell_type": "code",
   "execution_count": 39,
   "metadata": {
    "colab": {
     "base_uri": "https://localhost:8080/",
     "height": 445
    },
    "colab_type": "code",
    "id": "3s8amBrE3j8i",
    "outputId": "c06a094c-0fe0-45ab-846b-d06ad60eca6e"
   },
   "outputs": [
    {
     "data": {
      "text/plain": [
       "<matplotlib.axes._subplots.AxesSubplot at 0x7ff8c054b630>"
      ]
     },
     "execution_count": 39,
     "metadata": {
      "tags": []
     },
     "output_type": "execute_result"
    },
    {
     "data": {
      "image/png": "[encoded data removed]",
      "text/plain": [
       "<Figure size 720x504 with 2 Axes>"
      ]
     },
     "metadata": {
      "tags": []
     },
     "output_type": "display_data"
    }
   ],
   "source": [
    "plt.figure(figsize = (10,7))\n",
    "sn.heatmap(cm_df, annot=True)"
   ]
  },
  {
   "cell_type": "code",
   "execution_count": 38,
   "metadata": {
    "colab": {
     "base_uri": "https://localhost:8080/",
     "height": 69
    },
    "colab_type": "code",
    "id": "pIyPsyMxW7OP",
    "outputId": "8cfa3985-8476-433d-db29-69eb03948de3"
   },
   "outputs": [
    {
     "name": "stdout",
     "output_type": "stream",
     "text": [
      "Accuracy Score :\n",
      " ---------------------------------------------------------------------------------------------------- \n",
      " 0.996524064171123\n"
     ]
    }
   ],
   "source": [
    "print ('Accuracy Score :\\n','-'*100,'\\n',accuracy_score(y, y_cap)) \n"
   ]
  },
  {
   "cell_type": "code",
   "execution_count": 40,
   "metadata": {
    "colab": {
     "base_uri": "https://localhost:8080/",
     "height": 223
    },
    "colab_type": "code",
    "id": "KlGRSqdTXHx9",
    "outputId": "e6b9f6aa-c573-428e-daa4-076f61e53939"
   },
   "outputs": [
    {
     "name": "stdout",
     "output_type": "stream",
     "text": [
      "\n",
      "Classification Report :\n",
      " ---------------------------------------------------------------------------------------------------- \n",
      "               precision    recall  f1-score   support\n",
      "\n",
      "         0.0       0.99      1.00      1.00      1967\n",
      "         1.0       1.00      0.99      1.00      1773\n",
      "\n",
      "   micro avg       1.00      1.00      1.00      3740\n",
      "   macro avg       1.00      1.00      1.00      3740\n",
      "weighted avg       1.00      1.00      1.00      3740\n",
      "\n"
     ]
    }
   ],
   "source": [
    "print ('\\nClassification Report :\\n','-'*100,'\\n',classification_report(y, y_cap) )"
   ]
  },
  {
   "cell_type": "markdown",
   "metadata": {
    "colab_type": "text",
    "id": "3ZrtLxQ76R0g"
   },
   "source": [
    "# Text Classification using RNN"
   ]
  },
  {
   "cell_type": "code",
   "execution_count": 0,
   "metadata": {
    "colab": {},
    "colab_type": "code",
    "id": "e0jm4QDyARyO"
   },
   "outputs": [],
   "source": []
  },
  {
   "cell_type": "code",
   "execution_count": 0,
   "metadata": {
    "colab": {},
    "colab_type": "code",
    "id": "OSTcB0YJXO3a"
   },
   "outputs": [],
   "source": [
    "class SimpleRNN(nn.Module):\n",
    "    def __init__(self, inp_dim, embed_chl, hidden_dim, output_dim, dropout, pad_idx):\n",
    "        super().__init__()\n",
    "        #----Embedding layer(takes numericalized seq. of words as input and produces 100 channels \n",
    "        #----(based on the glove vector) of o/p)\n",
    "        \n",
    "        self.embedding = nn.Embedding(inp_dim, embed_chl, padding_idx=pad_idx)\n",
    "        \n",
    "        #---- LSTM layers to analyse the pattern\n",
    "        self.lstm = nn.LSTM(embed_chl,hidden_dim,num_layers=2,bidirectional=True,dropout=dropout)\n",
    "        \n",
    "        #----- Fully connected layer\n",
    "        self.fc = nn.Linear(hidden_dim *2 , output_dim)\n",
    "        \n",
    "        #---- Dropout\n",
    "        self.dropout = nn.Dropout(dropout)\n",
    "       \n",
    "    \n",
    "    #---- Forward Propogaion\n",
    "    def forward(self, text):\n",
    "        #---- text length * batch size\n",
    "        embedded = self.embedding(text) \n",
    "        \n",
    "        #----Apply dropout for regularization\n",
    "        embedded = self.dropout(embedded)\n",
    "               \n",
    "        #----LSTM\n",
    "        out,(hidden,cell)   = self.lstm(embedded)\n",
    "        \n",
    "        #---Since it is birectional lstm concate forward feed and backward pass\n",
    "        hidden = self.dropout(torch.cat((hidden[-2,:,:], hidden[-1,:,:]), dim = 1))\n",
    "        \n",
    "        return self.fc(hidden.squeeze(0))\n",
    "\n",
    "\n",
    "\n",
    "#----- Populate the dimension\n",
    "#----------------------------\n",
    "\n",
    "#----Length of the vocabulary (Input size)\n",
    "inp_dim = len(NEWS.vocab)        \n",
    "#---- #. of Embedding channels should be equal to the number of filters (100)\n",
    "embed_chl = 100\n",
    "#---- hidden dimension\n",
    "hidden_dim = 256\n",
    "\n",
    "#---- #. of output classes (1 - 0 or 1)\n",
    "output_dim = 1\n",
    "#---- Dropout to reduce exploding gradient \n",
    "dropout = 0.5\n",
    "#----- Padding index\n",
    "pad_idx = NEWS.vocab.stoi[NEWS.pad_token]\n",
    "\n",
    "#-----Instantiate the model\n",
    "model_rnn = SimpleRNN(inp_dim, \n",
    "                  embed_chl, \n",
    "                  hidden_dim,\n",
    "                  output_dim, \n",
    "                  dropout, \n",
    "                  pad_idx)"
   ]
  },
  {
   "cell_type": "code",
   "execution_count": 42,
   "metadata": {
    "colab": {
     "base_uri": "https://localhost:8080/",
     "height": 120
    },
    "colab_type": "code",
    "id": "Tq23hH_-XrlK",
    "outputId": "46850b15-6b47-4f5b-e4f8-ab58719745db"
   },
   "outputs": [
    {
     "data": {
      "text/plain": [
       "SimpleRNN(\n",
       "  (embedding): Embedding(30002, 100, padding_idx=1)\n",
       "  (lstm): LSTM(100, 256, num_layers=2, dropout=0.5, bidirectional=True)\n",
       "  (fc): Linear(in_features=512, out_features=1, bias=True)\n",
       "  (dropout): Dropout(p=0.5)\n",
       ")"
      ]
     },
     "execution_count": 42,
     "metadata": {
      "tags": []
     },
     "output_type": "execute_result"
    }
   ],
   "source": [
    "model_rnn"
   ]
  },
  {
   "cell_type": "code",
   "execution_count": 43,
   "metadata": {
    "colab": {
     "base_uri": "https://localhost:8080/",
     "height": 137
    },
    "colab_type": "code",
    "id": "Qt6CXdqbE-wI",
    "outputId": "9aba1347-468a-467d-99a9-fd34830720c0"
   },
   "outputs": [
    {
     "data": {
      "text/plain": [
       "tensor([[ 0.0000,  0.0000,  0.0000,  ...,  0.0000,  0.0000,  0.0000],\n",
       "        [ 0.0000,  0.0000,  0.0000,  ...,  0.0000,  0.0000,  0.0000],\n",
       "        [-0.0382, -0.2449,  0.7281,  ..., -0.1459,  0.8278,  0.2706],\n",
       "        ...,\n",
       "        [ 0.0371, -0.2098, -0.0383,  ...,  0.2884,  0.0683, -0.8658],\n",
       "        [-0.0132,  0.3681,  0.4478,  ..., -0.9901, -0.1159,  0.1895],\n",
       "        [-0.3322, -0.6721, -0.0505,  ..., -0.4044, -0.1407,  0.0277]])"
      ]
     },
     "execution_count": 43,
     "metadata": {
      "tags": []
     },
     "output_type": "execute_result"
    }
   ],
   "source": [
    "#-----Copy Pretrained embedding weights to the model\n",
    "#----------------------------------------------------\n",
    "model_rnn.embedding.weight.data.copy_(NEWS.vocab.vectors)\n"
   ]
  },
  {
   "cell_type": "code",
   "execution_count": 0,
   "metadata": {
    "colab": {},
    "colab_type": "code",
    "id": "G30IIzUGX3z9"
   },
   "outputs": [],
   "source": [
    "#------Define a function to train the model\n",
    "def train1(model, iterator, optimizer, criterion):\n",
    "    #----reset epoch variables\n",
    "    epoch_loss = 0\n",
    "    epoch_acc = 0\n",
    "    \n",
    "    #---set the model to train mode\n",
    "    model.train()\n",
    "    model = model.cuda()\n",
    "    \n",
    "    #-----Iterate through each mini batch\n",
    "    for batch in iterator:\n",
    "        #---Initialize the weights\n",
    "        optimizer.zero_grad()\n",
    "        \n",
    "        #Make prediction\n",
    "        predictions = model(batch.text).squeeze(1)\n",
    "        \n",
    "        #---calculate loss\n",
    "        loss = criterion(predictions, batch.type.float())\n",
    "        \n",
    "        #---appraise accuracy\n",
    "        acc = appraise_accuracy(predictions, batch.type.float())\n",
    "        \n",
    "        #---backwrd propogation\n",
    "        loss.backward()\n",
    "        optimizer.step()\n",
    "        #---accumulate the loss and accuracy        \n",
    "        epoch_loss += loss.item()\n",
    "        epoch_acc += acc.item() \n",
    "        \n",
    "    return epoch_loss / len(iterator), epoch_acc / len(iterator)"
   ]
  },
  {
   "cell_type": "code",
   "execution_count": 0,
   "metadata": {
    "colab": {},
    "colab_type": "code",
    "id": "0EOC_aCJX80O"
   },
   "outputs": [],
   "source": [
    "N_EPOCHS = 1\n",
    "\n",
    "for epoch in range(N_EPOCHS):\n",
    "\n",
    "    #---record the start time\n",
    "    start_time = time.time()\n",
    "    #train the model\n",
    "    train_loss, train_acc = train1(model_rnn, train_iterator, optimizer, criterion)\n",
    "    #---record the end time\n",
    "    end_time = time.time()\n",
    "\n",
    "    epoch_mins, epoch_secs = epoch_time(start_time, end_time)\n",
    "    \n",
    "    \n",
    "    print(\"-\"*115)\n",
    "    print(f'Epoch: {epoch+1:02} | Epoch Time: {epoch_mins}m {epoch_secs}s')\n",
    "    print(f'\\tTrain Loss: {train_loss:.3f} | Train Acc: {train_acc*100:.2f}%')\n",
    "    print(\"-\"*115,'\\n')"
   ]
  },
  {
   "cell_type": "code",
   "execution_count": 0,
   "metadata": {
    "colab": {
     "base_uri": "https://localhost:8080/",
     "height": 34
    },
    "colab_type": "code",
    "id": "t7wTw3M5YCe1",
    "outputId": "c75f2fab-b497-4133-9403-78e4e430af49"
   },
   "outputs": [
    {
     "name": "stdout",
     "output_type": "stream",
     "text": [
      "\tTest Loss: 0.693 | Test Accuracy: 52.64%\n"
     ]
    }
   ],
   "source": [
    "test_loss_rnn, test_acc_rnn,y_cap_rnn,y_rnn = evaluate(model_rnn, test_iterator, criterion)\n",
    "\n",
    "print(f'\\tTest Loss: {test_loss_rnn:.3f} | Test Accuracy: {test_acc_rnn*100:.2f}%')\n"
   ]
  },
  {
   "cell_type": "code",
   "execution_count": 0,
   "metadata": {
    "colab": {
     "base_uri": "https://localhost:8080/",
     "height": 145
    },
    "colab_type": "code",
    "id": "TgRQql2c7THh",
    "outputId": "0fc2fcc1-74d0-43a3-e731-6249cee1cefa"
   },
   "outputs": [
    {
     "name": "stdout",
     "output_type": "stream",
     "text": [
      "Confusion Matrix:\n",
      "\n"
     ]
    },
    {
     "data": {
      "text/html": [
       "<div>\n",
       "<style scoped>\n",
       "    .dataframe tbody tr th:only-of-type {\n",
       "        vertical-align: middle;\n",
       "    }\n",
       "\n",
       "    .dataframe tbody tr th {\n",
       "        vertical-align: top;\n",
       "    }\n",
       "\n",
       "    .dataframe thead th {\n",
       "        text-align: right;\n",
       "    }\n",
       "</style>\n",
       "<table border=\"1\" class=\"dataframe\">\n",
       "  <thead>\n",
       "    <tr style=\"text-align: right;\">\n",
       "      <th></th>\n",
       "      <th>Genuine</th>\n",
       "      <th>Fake</th>\n",
       "    </tr>\n",
       "  </thead>\n",
       "  <tbody>\n",
       "    <tr>\n",
       "      <th>Genuine</th>\n",
       "      <td>1960</td>\n",
       "      <td>7</td>\n",
       "    </tr>\n",
       "    <tr>\n",
       "      <th>Fake</th>\n",
       "      <td>1764</td>\n",
       "      <td>9</td>\n",
       "    </tr>\n",
       "  </tbody>\n",
       "</table>\n",
       "</div>"
      ],
      "text/plain": [
       "         Genuine  Fake\n",
       "Genuine     1960     7\n",
       "Fake        1764     9"
      ]
     },
     "execution_count": 38,
     "metadata": {
      "tags": []
     },
     "output_type": "execute_result"
    }
   ],
   "source": [
    "#---- Label description for confusion matrix\n",
    "labl_descr = {0:'Genuine',1:'Fake'}\n",
    "\n",
    "#---Confusion matrix\n",
    "#-------------------\n",
    "cm_rnn = confusion_matrix(y_rnn,y_cap_rnn)\n",
    "cm_rnn_df = pd.DataFrame(cm_rnn)\n",
    "cm_rnn_df = cm_rnn_df.rename(labl_descr, axis='index')\n",
    "cm_rnn_df = cm_rnn_df.rename(labl_descr, axis='columns')\n",
    "print(\"Confusion Matrix:\\n\")\n",
    "cm_rnn_df"
   ]
  },
  {
   "cell_type": "code",
   "execution_count": 0,
   "metadata": {
    "colab": {},
    "colab_type": "code",
    "id": "7UAwC0894pUO"
   },
   "outputs": [],
   "source": [
    "print ('\\nClassification Report :\\n','-'*100,'\\n',classification_report(y_rnn, y_cap_rnn) )"
   ]
  },
  {
   "cell_type": "markdown",
   "metadata": {
    "colab_type": "text",
    "id": "1GvX2T8b30ie"
   },
   "source": [
    "\n",
    "# Summary\n",
    "##### Naïve Bayes vs Deep Neural Network\n",
    "\n",
    "Naive bayes are conditional classifiers which assumes independance assumptions between the features. Therefore, they rely on the occurances of features to perform classification. This means in our case, naive bayes merely checks the occurances of words and the order of the words does not really influence the classification. Therefore, it ignores the crucial aspect such as semantics and context of the sentences in text corpus. On contrast, neural network considers the sequence of the words in a given stream of data and learns the pattern of text to determine the context and semantics, thereby it is more effective and suitable for a NLP and classification of text stream.\n",
    "\n",
    "\n",
    "##### List of major topics identified from real news articles:\n",
    "\n",
    "Terrorism,Syria War, public policies in US under Trump administration,Zika Virus outbreak,entertainment, education,election,social network\n",
    "\n",
    "Below is the significant topic identified from the fake articles in the given dataset \n",
    "Allegations against Trump and Hillary Clinton during US presidential election\n",
    "\n",
    "##### Data Preprocessing\n",
    "Stream of text should be tokenized ie. the sentences should be broken into words. Now the words can be lemmatized to remove the inflated endings and stemming could be leveraged to obtain the root words.After this conversion the stopwords can be determined and eliminated as the stopwards will not influence classification. Similarly, term frequence and inverse document frequencey can be assesed to ignore insignificant word from corpus.Finally, there sequences of work can be converted into a vector of numericals which can be fed into the model.\n",
    "In case of CNN, lemmatization and stemming is not carried out so as to enable to the network to learn Natural language processing\n",
    "\n"
   ]
  },
  {
   "cell_type": "markdown",
   "metadata": {
    "colab_type": "text",
    "id": "RFDwIxVNsA2j"
   },
   "source": []
  }
 ],
 "metadata": {
  "accelerator": "GPU",
  "colab": {
   "collapsed_sections": [],
   "name": "AIHW4_Rofin Andonissamy.ipynb",
   "provenance": [],
   "toc_visible": true,
   "version": "0.3.2"
  },
  "kernelspec": {
   "display_name": "Python 3",
   "language": "python",
   "name": "python3"
  },
  "language_info": {
   "codemirror_mode": {
    "name": "ipython",
    "version": 3
   },
   "file_extension": ".py",
   "mimetype": "text/x-python",
   "name": "python",
   "nbconvert_exporter": "python",
   "pygments_lexer": "ipython3",
   "version": "3.7.4"
  }
 },
 "nbformat": 4,
 "nbformat_minor": 1
}

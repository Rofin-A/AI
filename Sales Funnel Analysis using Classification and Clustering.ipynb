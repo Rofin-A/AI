{
 "cells": [
  {
   "cell_type": "markdown",
   "metadata": {},
   "source": [
    "# Sales Funnel Analysis using Classification and Clustering\n",
    "\n",
    "#### Name      : Rofin Andonissamy\n"
   ]
  },
  {
   "cell_type": "code",
   "execution_count": 123,
   "metadata": {},
   "outputs": [],
   "source": [
    "#import Libraries\n",
    "#----------------\n",
    "import pandas as pd\n",
    "import matplotlib.pyplot as plt\n",
    "from sklearn.preprocessing import LabelEncoder as le\n",
    "from sklearn.model_selection import train_test_split as split\n",
    "from sklearn.linear_model import LogisticRegression as logreg\n",
    "from sklearn.neighbors import KNeighborsClassifier as kn\n",
    "from sklearn.svm import SVC  \n",
    "from sklearn.tree import DecisionTreeClassifier as DT\n",
    "from sklearn.cluster import KMeans\n",
    "from sklearn.model_selection import KFold\n",
    "from sklearn.metrics import roc_curve\n",
    "from sklearn.metrics import accuracy_score"
   ]
  },
  {
   "cell_type": "markdown",
   "metadata": {},
   "source": [
    "# Read the dataset from input files\n",
    "#### Read the user data from input file"
   ]
  },
  {
   "cell_type": "code",
   "execution_count": 124,
   "metadata": {},
   "outputs": [
    {
     "data": {
      "text/html": [
       "<div>\n",
       "<style scoped>\n",
       "    .dataframe tbody tr th:only-of-type {\n",
       "        vertical-align: middle;\n",
       "    }\n",
       "\n",
       "    .dataframe tbody tr th {\n",
       "        vertical-align: top;\n",
       "    }\n",
       "\n",
       "    .dataframe thead th {\n",
       "        text-align: right;\n",
       "    }\n",
       "</style>\n",
       "<table border=\"1\" class=\"dataframe\">\n",
       "  <thead>\n",
       "    <tr style=\"text-align: right;\">\n",
       "      <th></th>\n",
       "      <th>user_id</th>\n",
       "      <th>date</th>\n",
       "      <th>device</th>\n",
       "      <th>sex</th>\n",
       "    </tr>\n",
       "  </thead>\n",
       "  <tbody>\n",
       "    <tr>\n",
       "      <th>0</th>\n",
       "      <td>450007</td>\n",
       "      <td>2015-02-28</td>\n",
       "      <td>Desktop</td>\n",
       "      <td>Female</td>\n",
       "    </tr>\n",
       "    <tr>\n",
       "      <th>1</th>\n",
       "      <td>756838</td>\n",
       "      <td>2015-01-13</td>\n",
       "      <td>Desktop</td>\n",
       "      <td>Male</td>\n",
       "    </tr>\n",
       "    <tr>\n",
       "      <th>2</th>\n",
       "      <td>568983</td>\n",
       "      <td>2015-04-09</td>\n",
       "      <td>Desktop</td>\n",
       "      <td>Male</td>\n",
       "    </tr>\n",
       "    <tr>\n",
       "      <th>3</th>\n",
       "      <td>190794</td>\n",
       "      <td>2015-02-18</td>\n",
       "      <td>Desktop</td>\n",
       "      <td>Female</td>\n",
       "    </tr>\n",
       "    <tr>\n",
       "      <th>4</th>\n",
       "      <td>537909</td>\n",
       "      <td>2015-01-15</td>\n",
       "      <td>Desktop</td>\n",
       "      <td>Male</td>\n",
       "    </tr>\n",
       "  </tbody>\n",
       "</table>\n",
       "</div>"
      ],
      "text/plain": [
       "   user_id        date   device     sex\n",
       "0   450007  2015-02-28  Desktop  Female\n",
       "1   756838  2015-01-13  Desktop    Male\n",
       "2   568983  2015-04-09  Desktop    Male\n",
       "3   190794  2015-02-18  Desktop  Female\n",
       "4   537909  2015-01-15  Desktop    Male"
      ]
     },
     "execution_count": 124,
     "metadata": {},
     "output_type": "execute_result"
    }
   ],
   "source": [
    "#---Read the user data from input file\n",
    "#-------------------------------------\n",
    "user_df = pd.read_csv('user_table.csv',parse_dates=True)\n",
    "#---Display top 5 records from the table to perceive the data\n",
    "user_df.head(5)"
   ]
  },
  {
   "cell_type": "markdown",
   "metadata": {},
   "source": [
    "#### Read the \"Home Page Visit\" details from input file"
   ]
  },
  {
   "cell_type": "code",
   "execution_count": 125,
   "metadata": {},
   "outputs": [
    {
     "name": "stdout",
     "output_type": "stream",
     "text": [
      "(90400, 2)\n"
     ]
    },
    {
     "data": {
      "text/html": [
       "<div>\n",
       "<style scoped>\n",
       "    .dataframe tbody tr th:only-of-type {\n",
       "        vertical-align: middle;\n",
       "    }\n",
       "\n",
       "    .dataframe tbody tr th {\n",
       "        vertical-align: top;\n",
       "    }\n",
       "\n",
       "    .dataframe thead th {\n",
       "        text-align: right;\n",
       "    }\n",
       "</style>\n",
       "<table border=\"1\" class=\"dataframe\">\n",
       "  <thead>\n",
       "    <tr style=\"text-align: right;\">\n",
       "      <th></th>\n",
       "      <th>user_id</th>\n",
       "      <th>page</th>\n",
       "    </tr>\n",
       "  </thead>\n",
       "  <tbody>\n",
       "    <tr>\n",
       "      <th>0</th>\n",
       "      <td>313593</td>\n",
       "      <td>home_page</td>\n",
       "    </tr>\n",
       "    <tr>\n",
       "      <th>1</th>\n",
       "      <td>468315</td>\n",
       "      <td>home_page</td>\n",
       "    </tr>\n",
       "    <tr>\n",
       "      <th>2</th>\n",
       "      <td>264005</td>\n",
       "      <td>home_page</td>\n",
       "    </tr>\n",
       "    <tr>\n",
       "      <th>3</th>\n",
       "      <td>290784</td>\n",
       "      <td>home_page</td>\n",
       "    </tr>\n",
       "    <tr>\n",
       "      <th>4</th>\n",
       "      <td>639104</td>\n",
       "      <td>home_page</td>\n",
       "    </tr>\n",
       "  </tbody>\n",
       "</table>\n",
       "</div>"
      ],
      "text/plain": [
       "   user_id       page\n",
       "0   313593  home_page\n",
       "1   468315  home_page\n",
       "2   264005  home_page\n",
       "3   290784  home_page\n",
       "4   639104  home_page"
      ]
     },
     "execution_count": 125,
     "metadata": {},
     "output_type": "execute_result"
    }
   ],
   "source": [
    "#---Read the home page visit data from input file\n",
    "#------------------------------------------------\n",
    "homepg_df = pd.read_csv('home_page_table.csv')\n",
    "#---Display top 5 records from the table to perceive the data\n",
    "print(homepg_df.shape)\n",
    "homepg_df.head(5)"
   ]
  },
  {
   "cell_type": "markdown",
   "metadata": {},
   "source": [
    "#### Read the \"Search Page Visit\" details from input file"
   ]
  },
  {
   "cell_type": "code",
   "execution_count": 126,
   "metadata": {},
   "outputs": [
    {
     "name": "stdout",
     "output_type": "stream",
     "text": [
      "(45200, 2)\n"
     ]
    },
    {
     "data": {
      "text/html": [
       "<div>\n",
       "<style scoped>\n",
       "    .dataframe tbody tr th:only-of-type {\n",
       "        vertical-align: middle;\n",
       "    }\n",
       "\n",
       "    .dataframe tbody tr th {\n",
       "        vertical-align: top;\n",
       "    }\n",
       "\n",
       "    .dataframe thead th {\n",
       "        text-align: right;\n",
       "    }\n",
       "</style>\n",
       "<table border=\"1\" class=\"dataframe\">\n",
       "  <thead>\n",
       "    <tr style=\"text-align: right;\">\n",
       "      <th></th>\n",
       "      <th>user_id</th>\n",
       "      <th>page</th>\n",
       "    </tr>\n",
       "  </thead>\n",
       "  <tbody>\n",
       "    <tr>\n",
       "      <th>0</th>\n",
       "      <td>15866</td>\n",
       "      <td>search_page</td>\n",
       "    </tr>\n",
       "    <tr>\n",
       "      <th>1</th>\n",
       "      <td>347058</td>\n",
       "      <td>search_page</td>\n",
       "    </tr>\n",
       "    <tr>\n",
       "      <th>2</th>\n",
       "      <td>577020</td>\n",
       "      <td>search_page</td>\n",
       "    </tr>\n",
       "    <tr>\n",
       "      <th>3</th>\n",
       "      <td>780347</td>\n",
       "      <td>search_page</td>\n",
       "    </tr>\n",
       "    <tr>\n",
       "      <th>4</th>\n",
       "      <td>383739</td>\n",
       "      <td>search_page</td>\n",
       "    </tr>\n",
       "  </tbody>\n",
       "</table>\n",
       "</div>"
      ],
      "text/plain": [
       "   user_id         page\n",
       "0    15866  search_page\n",
       "1   347058  search_page\n",
       "2   577020  search_page\n",
       "3   780347  search_page\n",
       "4   383739  search_page"
      ]
     },
     "execution_count": 126,
     "metadata": {},
     "output_type": "execute_result"
    }
   ],
   "source": [
    "#---Read the home search visit data from input file\n",
    "srchpg_df = pd.read_csv('search_page_table.csv')\n",
    "#---Display top 5 records from the table to perceive the data\n",
    "print(srchpg_df.shape)\n",
    "srchpg_df.head(5)"
   ]
  },
  {
   "cell_type": "markdown",
   "metadata": {},
   "source": [
    "#### Read the \"Payment Page Visit\" details from input file"
   ]
  },
  {
   "cell_type": "code",
   "execution_count": 127,
   "metadata": {},
   "outputs": [
    {
     "name": "stdout",
     "output_type": "stream",
     "text": [
      "(6030, 2)\n"
     ]
    },
    {
     "data": {
      "text/html": [
       "<div>\n",
       "<style scoped>\n",
       "    .dataframe tbody tr th:only-of-type {\n",
       "        vertical-align: middle;\n",
       "    }\n",
       "\n",
       "    .dataframe tbody tr th {\n",
       "        vertical-align: top;\n",
       "    }\n",
       "\n",
       "    .dataframe thead th {\n",
       "        text-align: right;\n",
       "    }\n",
       "</style>\n",
       "<table border=\"1\" class=\"dataframe\">\n",
       "  <thead>\n",
       "    <tr style=\"text-align: right;\">\n",
       "      <th></th>\n",
       "      <th>user_id</th>\n",
       "      <th>page</th>\n",
       "    </tr>\n",
       "  </thead>\n",
       "  <tbody>\n",
       "    <tr>\n",
       "      <th>0</th>\n",
       "      <td>253019</td>\n",
       "      <td>payment_page</td>\n",
       "    </tr>\n",
       "    <tr>\n",
       "      <th>1</th>\n",
       "      <td>310478</td>\n",
       "      <td>payment_page</td>\n",
       "    </tr>\n",
       "    <tr>\n",
       "      <th>2</th>\n",
       "      <td>304081</td>\n",
       "      <td>payment_page</td>\n",
       "    </tr>\n",
       "    <tr>\n",
       "      <th>3</th>\n",
       "      <td>901286</td>\n",
       "      <td>payment_page</td>\n",
       "    </tr>\n",
       "    <tr>\n",
       "      <th>4</th>\n",
       "      <td>195052</td>\n",
       "      <td>payment_page</td>\n",
       "    </tr>\n",
       "  </tbody>\n",
       "</table>\n",
       "</div>"
      ],
      "text/plain": [
       "   user_id          page\n",
       "0   253019  payment_page\n",
       "1   310478  payment_page\n",
       "2   304081  payment_page\n",
       "3   901286  payment_page\n",
       "4   195052  payment_page"
      ]
     },
     "execution_count": 127,
     "metadata": {},
     "output_type": "execute_result"
    }
   ],
   "source": [
    "#---Read the payment page visit data from input file\n",
    "paymtpg_df = pd.read_csv('payment_page_table.csv')\n",
    "#---Display top 5 records from the table to perceive the data\n",
    "print(paymtpg_df.shape)\n",
    "paymtpg_df.head(5)"
   ]
  },
  {
   "cell_type": "markdown",
   "metadata": {},
   "source": [
    "#### Read the \"Payment Confirmation Page Visit\" details from input file"
   ]
  },
  {
   "cell_type": "code",
   "execution_count": 128,
   "metadata": {},
   "outputs": [
    {
     "name": "stdout",
     "output_type": "stream",
     "text": [
      "(452, 2)\n"
     ]
    },
    {
     "data": {
      "text/html": [
       "<div>\n",
       "<style scoped>\n",
       "    .dataframe tbody tr th:only-of-type {\n",
       "        vertical-align: middle;\n",
       "    }\n",
       "\n",
       "    .dataframe tbody tr th {\n",
       "        vertical-align: top;\n",
       "    }\n",
       "\n",
       "    .dataframe thead th {\n",
       "        text-align: right;\n",
       "    }\n",
       "</style>\n",
       "<table border=\"1\" class=\"dataframe\">\n",
       "  <thead>\n",
       "    <tr style=\"text-align: right;\">\n",
       "      <th></th>\n",
       "      <th>user_id</th>\n",
       "      <th>page</th>\n",
       "    </tr>\n",
       "  </thead>\n",
       "  <tbody>\n",
       "    <tr>\n",
       "      <th>0</th>\n",
       "      <td>123100</td>\n",
       "      <td>payment_confirmation_page</td>\n",
       "    </tr>\n",
       "    <tr>\n",
       "      <th>1</th>\n",
       "      <td>704999</td>\n",
       "      <td>payment_confirmation_page</td>\n",
       "    </tr>\n",
       "    <tr>\n",
       "      <th>2</th>\n",
       "      <td>407188</td>\n",
       "      <td>payment_confirmation_page</td>\n",
       "    </tr>\n",
       "    <tr>\n",
       "      <th>3</th>\n",
       "      <td>538348</td>\n",
       "      <td>payment_confirmation_page</td>\n",
       "    </tr>\n",
       "    <tr>\n",
       "      <th>4</th>\n",
       "      <td>841681</td>\n",
       "      <td>payment_confirmation_page</td>\n",
       "    </tr>\n",
       "  </tbody>\n",
       "</table>\n",
       "</div>"
      ],
      "text/plain": [
       "   user_id                       page\n",
       "0   123100  payment_confirmation_page\n",
       "1   704999  payment_confirmation_page\n",
       "2   407188  payment_confirmation_page\n",
       "3   538348  payment_confirmation_page\n",
       "4   841681  payment_confirmation_page"
      ]
     },
     "execution_count": 128,
     "metadata": {},
     "output_type": "execute_result"
    }
   ],
   "source": [
    "#---Read the payment confirmation page visit data from input file\n",
    "paymtcnf_df = pd.read_csv('payment_confirmation_table.csv')\n",
    "#---Display top 5 records from the table to perceive the data\n",
    "print(paymtcnf_df.shape)\n",
    "paymtcnf_df.head(5)"
   ]
  },
  {
   "cell_type": "markdown",
   "metadata": {},
   "source": [
    "# Exploratory Analysis\n",
    "####  Number of home page hits\n"
   ]
  },
  {
   "cell_type": "code",
   "execution_count": 129,
   "metadata": {},
   "outputs": [
    {
     "name": "stdout",
     "output_type": "stream",
     "text": [
      "Number of home page hits: 90400\n"
     ]
    },
    {
     "data": {
      "text/html": [
       "<div>\n",
       "<style scoped>\n",
       "    .dataframe tbody tr th:only-of-type {\n",
       "        vertical-align: middle;\n",
       "    }\n",
       "\n",
       "    .dataframe tbody tr th {\n",
       "        vertical-align: top;\n",
       "    }\n",
       "\n",
       "    .dataframe thead th {\n",
       "        text-align: right;\n",
       "    }\n",
       "</style>\n",
       "<table border=\"1\" class=\"dataframe\">\n",
       "  <thead>\n",
       "    <tr style=\"text-align: right;\">\n",
       "      <th></th>\n",
       "      <th>user_id</th>\n",
       "      <th>page</th>\n",
       "    </tr>\n",
       "  </thead>\n",
       "  <tbody>\n",
       "    <tr>\n",
       "      <th>0</th>\n",
       "      <td>17</td>\n",
       "      <td>1</td>\n",
       "    </tr>\n",
       "    <tr>\n",
       "      <th>1</th>\n",
       "      <td>28</td>\n",
       "      <td>1</td>\n",
       "    </tr>\n",
       "    <tr>\n",
       "      <th>2</th>\n",
       "      <td>37</td>\n",
       "      <td>1</td>\n",
       "    </tr>\n",
       "    <tr>\n",
       "      <th>3</th>\n",
       "      <td>38</td>\n",
       "      <td>1</td>\n",
       "    </tr>\n",
       "    <tr>\n",
       "      <th>4</th>\n",
       "      <td>55</td>\n",
       "      <td>1</td>\n",
       "    </tr>\n",
       "  </tbody>\n",
       "</table>\n",
       "</div>"
      ],
      "text/plain": [
       "   user_id  page\n",
       "0       17     1\n",
       "1       28     1\n",
       "2       37     1\n",
       "3       38     1\n",
       "4       55     1"
      ]
     },
     "execution_count": 129,
     "metadata": {},
     "output_type": "execute_result"
    }
   ],
   "source": [
    "homepg_agg = homepg_df.groupby('user_id',as_index=False).agg({\"page\":\"count\"})\n",
    "home_visit =homepg_agg.page.sum()\n",
    "print(\"Number of home page hits:\",home_visit)\n",
    "homepg_agg.head(5)"
   ]
  },
  {
   "cell_type": "markdown",
   "metadata": {},
   "source": [
    "####  Number of Search page hits"
   ]
  },
  {
   "cell_type": "code",
   "execution_count": 130,
   "metadata": {},
   "outputs": [
    {
     "name": "stdout",
     "output_type": "stream",
     "text": [
      "Number of search page hits: 45200\n"
     ]
    },
    {
     "data": {
      "text/html": [
       "<div>\n",
       "<style scoped>\n",
       "    .dataframe tbody tr th:only-of-type {\n",
       "        vertical-align: middle;\n",
       "    }\n",
       "\n",
       "    .dataframe tbody tr th {\n",
       "        vertical-align: top;\n",
       "    }\n",
       "\n",
       "    .dataframe thead th {\n",
       "        text-align: right;\n",
       "    }\n",
       "</style>\n",
       "<table border=\"1\" class=\"dataframe\">\n",
       "  <thead>\n",
       "    <tr style=\"text-align: right;\">\n",
       "      <th></th>\n",
       "      <th>user_id</th>\n",
       "      <th>page</th>\n",
       "    </tr>\n",
       "  </thead>\n",
       "  <tbody>\n",
       "    <tr>\n",
       "      <th>0</th>\n",
       "      <td>17</td>\n",
       "      <td>1</td>\n",
       "    </tr>\n",
       "    <tr>\n",
       "      <th>1</th>\n",
       "      <td>37</td>\n",
       "      <td>1</td>\n",
       "    </tr>\n",
       "    <tr>\n",
       "      <th>2</th>\n",
       "      <td>38</td>\n",
       "      <td>1</td>\n",
       "    </tr>\n",
       "    <tr>\n",
       "      <th>3</th>\n",
       "      <td>210</td>\n",
       "      <td>1</td>\n",
       "    </tr>\n",
       "    <tr>\n",
       "      <th>4</th>\n",
       "      <td>214</td>\n",
       "      <td>1</td>\n",
       "    </tr>\n",
       "  </tbody>\n",
       "</table>\n",
       "</div>"
      ],
      "text/plain": [
       "   user_id  page\n",
       "0       17     1\n",
       "1       37     1\n",
       "2       38     1\n",
       "3      210     1\n",
       "4      214     1"
      ]
     },
     "execution_count": 130,
     "metadata": {},
     "output_type": "execute_result"
    }
   ],
   "source": [
    "srch_agg = srchpg_df.groupby('user_id',as_index=False).agg({\"page\":\"count\"})\n",
    "srch_visit =srch_agg.page.sum()\n",
    "print(\"Number of search page hits:\",srch_visit)\n",
    "srch_agg.head(5)"
   ]
  },
  {
   "cell_type": "markdown",
   "metadata": {},
   "source": [
    "####  Number of Payment page hits"
   ]
  },
  {
   "cell_type": "code",
   "execution_count": 131,
   "metadata": {},
   "outputs": [
    {
     "name": "stdout",
     "output_type": "stream",
     "text": [
      "Number of payment page hits: 6030\n"
     ]
    },
    {
     "data": {
      "text/html": [
       "<div>\n",
       "<style scoped>\n",
       "    .dataframe tbody tr th:only-of-type {\n",
       "        vertical-align: middle;\n",
       "    }\n",
       "\n",
       "    .dataframe tbody tr th {\n",
       "        vertical-align: top;\n",
       "    }\n",
       "\n",
       "    .dataframe thead th {\n",
       "        text-align: right;\n",
       "    }\n",
       "</style>\n",
       "<table border=\"1\" class=\"dataframe\">\n",
       "  <thead>\n",
       "    <tr style=\"text-align: right;\">\n",
       "      <th></th>\n",
       "      <th>user_id</th>\n",
       "      <th>page</th>\n",
       "    </tr>\n",
       "  </thead>\n",
       "  <tbody>\n",
       "    <tr>\n",
       "      <th>0</th>\n",
       "      <td>38</td>\n",
       "      <td>1</td>\n",
       "    </tr>\n",
       "    <tr>\n",
       "      <th>1</th>\n",
       "      <td>459</td>\n",
       "      <td>1</td>\n",
       "    </tr>\n",
       "    <tr>\n",
       "      <th>2</th>\n",
       "      <td>677</td>\n",
       "      <td>1</td>\n",
       "    </tr>\n",
       "    <tr>\n",
       "      <th>3</th>\n",
       "      <td>1549</td>\n",
       "      <td>1</td>\n",
       "    </tr>\n",
       "    <tr>\n",
       "      <th>4</th>\n",
       "      <td>1728</td>\n",
       "      <td>1</td>\n",
       "    </tr>\n",
       "  </tbody>\n",
       "</table>\n",
       "</div>"
      ],
      "text/plain": [
       "   user_id  page\n",
       "0       38     1\n",
       "1      459     1\n",
       "2      677     1\n",
       "3     1549     1\n",
       "4     1728     1"
      ]
     },
     "execution_count": 131,
     "metadata": {},
     "output_type": "execute_result"
    }
   ],
   "source": [
    "paymt_agg = paymtpg_df.groupby('user_id',as_index=False).agg({\"page\":\"count\"})\n",
    "paymt_visit =paymt_agg.page.sum()\n",
    "print(\"Number of payment page hits:\",paymt_visit)\n",
    "paymt_agg.head(5)"
   ]
  },
  {
   "cell_type": "markdown",
   "metadata": {},
   "source": [
    "####  Number of Payment confirmation page hits\n",
    "<u>452 users converted after hitting the homepage</u>"
   ]
  },
  {
   "cell_type": "code",
   "execution_count": 132,
   "metadata": {},
   "outputs": [
    {
     "name": "stdout",
     "output_type": "stream",
     "text": [
      "Number of payment confirmation page hits: 452\n"
     ]
    },
    {
     "data": {
      "text/html": [
       "<div>\n",
       "<style scoped>\n",
       "    .dataframe tbody tr th:only-of-type {\n",
       "        vertical-align: middle;\n",
       "    }\n",
       "\n",
       "    .dataframe tbody tr th {\n",
       "        vertical-align: top;\n",
       "    }\n",
       "\n",
       "    .dataframe thead th {\n",
       "        text-align: right;\n",
       "    }\n",
       "</style>\n",
       "<table border=\"1\" class=\"dataframe\">\n",
       "  <thead>\n",
       "    <tr style=\"text-align: right;\">\n",
       "      <th></th>\n",
       "      <th>user_id</th>\n",
       "      <th>page</th>\n",
       "    </tr>\n",
       "  </thead>\n",
       "  <tbody>\n",
       "    <tr>\n",
       "      <th>0</th>\n",
       "      <td>4561</td>\n",
       "      <td>1</td>\n",
       "    </tr>\n",
       "    <tr>\n",
       "      <th>1</th>\n",
       "      <td>9477</td>\n",
       "      <td>1</td>\n",
       "    </tr>\n",
       "    <tr>\n",
       "      <th>2</th>\n",
       "      <td>13830</td>\n",
       "      <td>1</td>\n",
       "    </tr>\n",
       "    <tr>\n",
       "      <th>3</th>\n",
       "      <td>14647</td>\n",
       "      <td>1</td>\n",
       "    </tr>\n",
       "    <tr>\n",
       "      <th>4</th>\n",
       "      <td>18898</td>\n",
       "      <td>1</td>\n",
       "    </tr>\n",
       "  </tbody>\n",
       "</table>\n",
       "</div>"
      ],
      "text/plain": [
       "   user_id  page\n",
       "0     4561     1\n",
       "1     9477     1\n",
       "2    13830     1\n",
       "3    14647     1\n",
       "4    18898     1"
      ]
     },
     "execution_count": 132,
     "metadata": {},
     "output_type": "execute_result"
    }
   ],
   "source": [
    "paymtcnf_agg = paymtcnf_df.groupby('user_id',as_index=False).agg({\"page\":\"count\"})\n",
    "paymtcnf_visit =paymtcnf_agg.page.sum()\n",
    "print(\"Number of payment confirmation page hits:\",paymtcnf_visit)\n",
    "paymtcnf_agg.head(5)"
   ]
  },
  {
   "cell_type": "markdown",
   "metadata": {},
   "source": [
    "# Distribution of users across pages"
   ]
  },
  {
   "cell_type": "code",
   "execution_count": 214,
   "metadata": {},
   "outputs": [
    {
     "data": {
      "text/html": [
       "<div>\n",
       "<style scoped>\n",
       "    .dataframe tbody tr th:only-of-type {\n",
       "        vertical-align: middle;\n",
       "    }\n",
       "\n",
       "    .dataframe tbody tr th {\n",
       "        vertical-align: top;\n",
       "    }\n",
       "\n",
       "    .dataframe thead th {\n",
       "        text-align: right;\n",
       "    }\n",
       "</style>\n",
       "<table border=\"1\" class=\"dataframe\">\n",
       "  <thead>\n",
       "    <tr style=\"text-align: right;\">\n",
       "      <th></th>\n",
       "      <th>Page</th>\n",
       "      <th>visit</th>\n",
       "    </tr>\n",
       "    <tr>\n",
       "      <th>Page</th>\n",
       "      <th></th>\n",
       "      <th></th>\n",
       "    </tr>\n",
       "  </thead>\n",
       "  <tbody>\n",
       "    <tr>\n",
       "      <th>Paymentconfirmationpage_Visit</th>\n",
       "      <td>Paymentconfirmationpage_Visit</td>\n",
       "      <td>452</td>\n",
       "    </tr>\n",
       "    <tr>\n",
       "      <th>Paymentpage_Visit</th>\n",
       "      <td>Paymentpage_Visit</td>\n",
       "      <td>6030</td>\n",
       "    </tr>\n",
       "    <tr>\n",
       "      <th>Searchpage_Visit</th>\n",
       "      <td>Searchpage_Visit</td>\n",
       "      <td>45200</td>\n",
       "    </tr>\n",
       "    <tr>\n",
       "      <th>Homepage_Visit</th>\n",
       "      <td>Homepage_Visit</td>\n",
       "      <td>90400</td>\n",
       "    </tr>\n",
       "  </tbody>\n",
       "</table>\n",
       "</div>"
      ],
      "text/plain": [
       "                                                        Page  visit\n",
       "Page                                                               \n",
       "Paymentconfirmationpage_Visit  Paymentconfirmationpage_Visit    452\n",
       "Paymentpage_Visit                          Paymentpage_Visit   6030\n",
       "Searchpage_Visit                            Searchpage_Visit  45200\n",
       "Homepage_Visit                                Homepage_Visit  90400"
      ]
     },
     "execution_count": 214,
     "metadata": {},
     "output_type": "execute_result"
    },
    {
     "data": {
      "image/png": "[encoded data removed]",
      "text/plain": [
       "<Figure size 432x288 with 1 Axes>"
      ]
     },
     "metadata": {},
     "output_type": "display_data"
    }
   ],
   "source": [
    "sls_funnel = pd.DataFrame()\n",
    "title = (\"Paymentconfirmationpage_Visit\",\"Paymentpage_Visit\",\"Searchpage_Visit\",\"Homepage_Visit\")\n",
    "value = (paymtcnf_visit,paymt_visit,srch_visit,home_visit)\n",
    "sls_funnel['Page'] = title\n",
    "sls_funnel['visit'] = value\n",
    "sls_funnel.index = sls_funnel.Page\n",
    "sls_funnel.plot.barh()\n",
    "plt.title(\"Distribution of users\")\n",
    "plt.xlabel(\"Number of users\")\n",
    "sls_funnel"
   ]
  },
  {
   "cell_type": "markdown",
   "metadata": {},
   "source": [
    "#### Checking for missing data\n",
    " Observation: No missing data found"
   ]
  },
  {
   "cell_type": "code",
   "execution_count": 179,
   "metadata": {},
   "outputs": [
    {
     "name": "stdout",
     "output_type": "stream",
     "text": [
      "******************************************************************************************\n",
      "Home page aggregate details\n",
      "******************************************************************************************\n",
      "<class 'pandas.core.frame.DataFrame'>\n",
      "Int64Index: 90400 entries, 0 to 90399\n",
      "Data columns (total 2 columns):\n",
      "user_id    90400 non-null int64\n",
      "homepg     90400 non-null int64\n",
      "dtypes: int64(2)\n",
      "memory usage: 2.1 MB\n",
      "None\n",
      "user_id    0\n",
      "homepg     0\n",
      "dtype: int64\n",
      "******************************************************************************************\n",
      "Search page aggregate details\n",
      "******************************************************************************************\n",
      "<class 'pandas.core.frame.DataFrame'>\n",
      "Int64Index: 45200 entries, 0 to 45199\n",
      "Data columns (total 2 columns):\n",
      "user_id    45200 non-null int64\n",
      "srchpg     45200 non-null int64\n",
      "dtypes: int64(2)\n",
      "memory usage: 1.0 MB\n",
      "None\n",
      "user_id    0\n",
      "srchpg     0\n",
      "dtype: int64\n",
      "******************************************************************************************\n",
      "Payment page aggregate details\n",
      "******************************************************************************************\n",
      "<class 'pandas.core.frame.DataFrame'>\n",
      "Int64Index: 6030 entries, 0 to 6029\n",
      "Data columns (total 2 columns):\n",
      "user_id    6030 non-null int64\n",
      "paymtpg    6030 non-null int64\n",
      "dtypes: int64(2)\n",
      "memory usage: 141.3 KB\n",
      "None\n",
      "user_id    0\n",
      "paymtpg    0\n",
      "dtype: int64\n",
      "******************************************************************************************\n",
      "Payment confirmation page aggregate details\n",
      "******************************************************************************************\n",
      "<class 'pandas.core.frame.DataFrame'>\n",
      "Int64Index: 452 entries, 0 to 451\n",
      "Data columns (total 2 columns):\n",
      "user_id     452 non-null int64\n",
      "paymtcnf    452 non-null int64\n",
      "dtypes: int64(2)\n",
      "memory usage: 10.6 KB\n",
      "None\n",
      "user_id     0\n",
      "paymtcnf    0\n",
      "dtype: int64\n"
     ]
    }
   ],
   "source": [
    "print(\"*\"*90)\n",
    "print(\"Home page aggregate details\")\n",
    "print(\"*\"*90)\n",
    "print(homepg_agg.info())\n",
    "print(homepg_agg.isna().sum())\n",
    "print(\"*\"*90)\n",
    "print(\"Search page aggregate details\")\n",
    "print(\"*\"*90)\n",
    "print(srch_agg.info())\n",
    "print(srch_agg.isna().sum())\n",
    "print(\"*\"*90)\n",
    "print(\"Payment page aggregate details\")\n",
    "print(\"*\"*90)\n",
    "print(paymt_agg.info())\n",
    "print(paymt_agg.isna().sum())\n",
    "print(\"*\"*90)\n",
    "print(\"Payment confirmation page aggregate details\")\n",
    "print(\"*\"*90)\n",
    "print(paymtcnf_agg.info())\n",
    "print(paymtcnf_agg.isna().sum())"
   ]
  },
  {
   "cell_type": "markdown",
   "metadata": {},
   "source": [
    "# Data Wrangling"
   ]
  },
  {
   "cell_type": "code",
   "execution_count": 180,
   "metadata": {},
   "outputs": [],
   "source": [
    "#-- Rename the the column name in aggregation so that it can be merged together\n",
    "#------------------------------------------------------------------------------\n",
    "homepg_agg.columns = ['user_id','homepg']\n",
    "srch_agg.columns = ['user_id','srchpg']\n",
    "paymt_agg.columns = ['user_id','paymtpg']\n",
    "paymtcnf_agg.columns = ['user_id','paymtcnf']\n",
    "\n",
    "#-- Encode the page visit as 1\n",
    "#-----------------------------\n",
    "homepg_agg['homepg']=1\n",
    "srch_agg['srchpg']=1\n",
    "paymt_agg['paymtpg']=1\n",
    "paymtcnf_agg['paymtcnf']=1\n"
   ]
  },
  {
   "cell_type": "markdown",
   "metadata": {},
   "source": [
    "#### Merge the details together for further analysis"
   ]
  },
  {
   "cell_type": "code",
   "execution_count": 181,
   "metadata": {},
   "outputs": [
    {
     "data": {
      "text/html": [
       "<div>\n",
       "<style scoped>\n",
       "    .dataframe tbody tr th:only-of-type {\n",
       "        vertical-align: middle;\n",
       "    }\n",
       "\n",
       "    .dataframe tbody tr th {\n",
       "        vertical-align: top;\n",
       "    }\n",
       "\n",
       "    .dataframe thead th {\n",
       "        text-align: right;\n",
       "    }\n",
       "</style>\n",
       "<table border=\"1\" class=\"dataframe\">\n",
       "  <thead>\n",
       "    <tr style=\"text-align: right;\">\n",
       "      <th></th>\n",
       "      <th>user_id</th>\n",
       "      <th>date</th>\n",
       "      <th>device</th>\n",
       "      <th>sex</th>\n",
       "      <th>homepg</th>\n",
       "      <th>srchpg</th>\n",
       "      <th>paymtpg</th>\n",
       "      <th>paymtcnf</th>\n",
       "    </tr>\n",
       "  </thead>\n",
       "  <tbody>\n",
       "    <tr>\n",
       "      <th>0</th>\n",
       "      <td>450007</td>\n",
       "      <td>2015-02-28</td>\n",
       "      <td>Desktop</td>\n",
       "      <td>Female</td>\n",
       "      <td>1</td>\n",
       "      <td>NaN</td>\n",
       "      <td>NaN</td>\n",
       "      <td>NaN</td>\n",
       "    </tr>\n",
       "    <tr>\n",
       "      <th>1</th>\n",
       "      <td>756838</td>\n",
       "      <td>2015-01-13</td>\n",
       "      <td>Desktop</td>\n",
       "      <td>Male</td>\n",
       "      <td>1</td>\n",
       "      <td>NaN</td>\n",
       "      <td>NaN</td>\n",
       "      <td>NaN</td>\n",
       "    </tr>\n",
       "    <tr>\n",
       "      <th>2</th>\n",
       "      <td>568983</td>\n",
       "      <td>2015-04-09</td>\n",
       "      <td>Desktop</td>\n",
       "      <td>Male</td>\n",
       "      <td>1</td>\n",
       "      <td>1.0</td>\n",
       "      <td>NaN</td>\n",
       "      <td>NaN</td>\n",
       "    </tr>\n",
       "    <tr>\n",
       "      <th>3</th>\n",
       "      <td>190794</td>\n",
       "      <td>2015-02-18</td>\n",
       "      <td>Desktop</td>\n",
       "      <td>Female</td>\n",
       "      <td>1</td>\n",
       "      <td>1.0</td>\n",
       "      <td>NaN</td>\n",
       "      <td>NaN</td>\n",
       "    </tr>\n",
       "    <tr>\n",
       "      <th>4</th>\n",
       "      <td>537909</td>\n",
       "      <td>2015-01-15</td>\n",
       "      <td>Desktop</td>\n",
       "      <td>Male</td>\n",
       "      <td>1</td>\n",
       "      <td>NaN</td>\n",
       "      <td>NaN</td>\n",
       "      <td>NaN</td>\n",
       "    </tr>\n",
       "  </tbody>\n",
       "</table>\n",
       "</div>"
      ],
      "text/plain": [
       "   user_id        date   device     sex  homepg  srchpg  paymtpg  paymtcnf\n",
       "0   450007  2015-02-28  Desktop  Female       1     NaN      NaN       NaN\n",
       "1   756838  2015-01-13  Desktop    Male       1     NaN      NaN       NaN\n",
       "2   568983  2015-04-09  Desktop    Male       1     1.0      NaN       NaN\n",
       "3   190794  2015-02-18  Desktop  Female       1     1.0      NaN       NaN\n",
       "4   537909  2015-01-15  Desktop    Male       1     NaN      NaN       NaN"
      ]
     },
     "execution_count": 181,
     "metadata": {},
     "output_type": "execute_result"
    }
   ],
   "source": [
    "#-- Outer join the aggregate details of page visit with user details for further analysis\n",
    "#----------------------------------------------------------------------------------------\n",
    "conv_df = pd.merge(user_df,homepg_agg, how='outer',on='user_id')\n",
    "conv_df = pd.merge(conv_df,srch_agg,how='outer', on='user_id',)\n",
    "conv_df = pd.merge(conv_df,paymt_agg,how='outer', on='user_id')\n",
    "conv_df = pd.merge(conv_df,paymtcnf_agg,how='outer', on='user_id')\n",
    "\n",
    "conv_df.head()"
   ]
  },
  {
   "cell_type": "markdown",
   "metadata": {},
   "source": [
    " #### Treat the missing data"
   ]
  },
  {
   "cell_type": "code",
   "execution_count": 182,
   "metadata": {},
   "outputs": [
    {
     "name": "stdout",
     "output_type": "stream",
     "text": [
      "The final shape of result: (90400, 8)\n",
      "******************************************************************************************\n",
      "Validate that there are no null values\n",
      "******************************************************************************************\n",
      "user_id     0\n",
      "date        0\n",
      "device      0\n",
      "sex         0\n",
      "homepg      0\n",
      "srchpg      0\n",
      "paymtpg     0\n",
      "paymtcnf    0\n",
      "dtype: int64\n"
     ]
    },
    {
     "data": {
      "text/html": [
       "<div>\n",
       "<style scoped>\n",
       "    .dataframe tbody tr th:only-of-type {\n",
       "        vertical-align: middle;\n",
       "    }\n",
       "\n",
       "    .dataframe tbody tr th {\n",
       "        vertical-align: top;\n",
       "    }\n",
       "\n",
       "    .dataframe thead th {\n",
       "        text-align: right;\n",
       "    }\n",
       "</style>\n",
       "<table border=\"1\" class=\"dataframe\">\n",
       "  <thead>\n",
       "    <tr style=\"text-align: right;\">\n",
       "      <th></th>\n",
       "      <th>user_id</th>\n",
       "      <th>date</th>\n",
       "      <th>device</th>\n",
       "      <th>sex</th>\n",
       "      <th>homepg</th>\n",
       "      <th>srchpg</th>\n",
       "      <th>paymtpg</th>\n",
       "      <th>paymtcnf</th>\n",
       "    </tr>\n",
       "  </thead>\n",
       "  <tbody>\n",
       "    <tr>\n",
       "      <th>0</th>\n",
       "      <td>450007</td>\n",
       "      <td>2015-02-28</td>\n",
       "      <td>Desktop</td>\n",
       "      <td>Female</td>\n",
       "      <td>1</td>\n",
       "      <td>0</td>\n",
       "      <td>0</td>\n",
       "      <td>0</td>\n",
       "    </tr>\n",
       "    <tr>\n",
       "      <th>1</th>\n",
       "      <td>756838</td>\n",
       "      <td>2015-01-13</td>\n",
       "      <td>Desktop</td>\n",
       "      <td>Male</td>\n",
       "      <td>1</td>\n",
       "      <td>0</td>\n",
       "      <td>0</td>\n",
       "      <td>0</td>\n",
       "    </tr>\n",
       "    <tr>\n",
       "      <th>2</th>\n",
       "      <td>568983</td>\n",
       "      <td>2015-04-09</td>\n",
       "      <td>Desktop</td>\n",
       "      <td>Male</td>\n",
       "      <td>1</td>\n",
       "      <td>1</td>\n",
       "      <td>0</td>\n",
       "      <td>0</td>\n",
       "    </tr>\n",
       "    <tr>\n",
       "      <th>3</th>\n",
       "      <td>190794</td>\n",
       "      <td>2015-02-18</td>\n",
       "      <td>Desktop</td>\n",
       "      <td>Female</td>\n",
       "      <td>1</td>\n",
       "      <td>1</td>\n",
       "      <td>0</td>\n",
       "      <td>0</td>\n",
       "    </tr>\n",
       "    <tr>\n",
       "      <th>4</th>\n",
       "      <td>537909</td>\n",
       "      <td>2015-01-15</td>\n",
       "      <td>Desktop</td>\n",
       "      <td>Male</td>\n",
       "      <td>1</td>\n",
       "      <td>0</td>\n",
       "      <td>0</td>\n",
       "      <td>0</td>\n",
       "    </tr>\n",
       "    <tr>\n",
       "      <th>5</th>\n",
       "      <td>993454</td>\n",
       "      <td>2015-03-03</td>\n",
       "      <td>Desktop</td>\n",
       "      <td>Male</td>\n",
       "      <td>1</td>\n",
       "      <td>0</td>\n",
       "      <td>0</td>\n",
       "      <td>0</td>\n",
       "    </tr>\n",
       "    <tr>\n",
       "      <th>6</th>\n",
       "      <td>377150</td>\n",
       "      <td>2015-04-15</td>\n",
       "      <td>Desktop</td>\n",
       "      <td>Female</td>\n",
       "      <td>1</td>\n",
       "      <td>1</td>\n",
       "      <td>0</td>\n",
       "      <td>0</td>\n",
       "    </tr>\n",
       "    <tr>\n",
       "      <th>7</th>\n",
       "      <td>137258</td>\n",
       "      <td>2015-01-27</td>\n",
       "      <td>Mobile</td>\n",
       "      <td>Male</td>\n",
       "      <td>1</td>\n",
       "      <td>0</td>\n",
       "      <td>0</td>\n",
       "      <td>0</td>\n",
       "    </tr>\n",
       "    <tr>\n",
       "      <th>8</th>\n",
       "      <td>608249</td>\n",
       "      <td>2015-04-12</td>\n",
       "      <td>Desktop</td>\n",
       "      <td>Female</td>\n",
       "      <td>1</td>\n",
       "      <td>0</td>\n",
       "      <td>0</td>\n",
       "      <td>0</td>\n",
       "    </tr>\n",
       "    <tr>\n",
       "      <th>9</th>\n",
       "      <td>615615</td>\n",
       "      <td>2015-02-24</td>\n",
       "      <td>Mobile</td>\n",
       "      <td>Female</td>\n",
       "      <td>1</td>\n",
       "      <td>1</td>\n",
       "      <td>0</td>\n",
       "      <td>0</td>\n",
       "    </tr>\n",
       "  </tbody>\n",
       "</table>\n",
       "</div>"
      ],
      "text/plain": [
       "   user_id        date   device     sex  homepg  srchpg  paymtpg  paymtcnf\n",
       "0   450007  2015-02-28  Desktop  Female       1       0        0         0\n",
       "1   756838  2015-01-13  Desktop    Male       1       0        0         0\n",
       "2   568983  2015-04-09  Desktop    Male       1       1        0         0\n",
       "3   190794  2015-02-18  Desktop  Female       1       1        0         0\n",
       "4   537909  2015-01-15  Desktop    Male       1       0        0         0\n",
       "5   993454  2015-03-03  Desktop    Male       1       0        0         0\n",
       "6   377150  2015-04-15  Desktop  Female       1       1        0         0\n",
       "7   137258  2015-01-27   Mobile    Male       1       0        0         0\n",
       "8   608249  2015-04-12  Desktop  Female       1       0        0         0\n",
       "9   615615  2015-02-24   Mobile  Female       1       1        0         0"
      ]
     },
     "execution_count": 182,
     "metadata": {},
     "output_type": "execute_result"
    }
   ],
   "source": [
    "conv_df = conv_df.fillna(0)\n",
    "\n",
    "#---Cast the categorical values as integer\n",
    "#----------------------------------------\n",
    "conv_df['homepg'] = conv_df['homepg'].astype(int)\n",
    "conv_df['srchpg'] = conv_df['srchpg'].astype(int)\n",
    "conv_df['paymtpg'] = conv_df['paymtpg'].astype(int)\n",
    "conv_df['paymtcnf'] = conv_df['paymtcnf'].astype(int)\n",
    "\n",
    "print(\"The final shape of result:\",conv_df.shape)\n",
    "print(\"*\"*90)\n",
    "print(\"Validate that there are no null values\")\n",
    "print(\"*\"*90)\n",
    "print(conv_df.isnull().sum())\n",
    "conv_df.head(10)"
   ]
  },
  {
   "cell_type": "markdown",
   "metadata": {},
   "source": [
    "\n",
    "\n",
    "# Univariate Analysis\n",
    "#### Device Usage Pattern\n",
    "Observation : More users access the website using desktop \n",
    "Inference: Mobile Website experience should be studied for any possible improvements to attract more adoption  "
   ]
  },
  {
   "cell_type": "code",
   "execution_count": 183,
   "metadata": {},
   "outputs": [
    {
     "data": {
      "text/plain": [
       "Desktop    60200\n",
       "Mobile     30200\n",
       "Name: device, dtype: int64"
      ]
     },
     "execution_count": 183,
     "metadata": {},
     "output_type": "execute_result"
    },
    {
     "data": {
      "image/png": "[encoded data removed]",
      "text/plain": [
       "<Figure size 432x288 with 1 Axes>"
      ]
     },
     "metadata": {},
     "output_type": "display_data"
    }
   ],
   "source": [
    "#---Spread of devices\n",
    "#--------------------\n",
    "dev = []\n",
    "dev = conv_df['device'].value_counts()\n",
    "dev.plot.barh()\n",
    "plt.title(\"Device Preferrence\")\n",
    "plt.xlabel(\"Number of users\")\n",
    "dev"
   ]
  },
  {
   "cell_type": "markdown",
   "metadata": {},
   "source": [
    "#### Gender Distribution\n",
    "Observation: Distribution seems almost even."
   ]
  },
  {
   "cell_type": "code",
   "execution_count": 184,
   "metadata": {},
   "outputs": [
    {
     "data": {
      "text/plain": [
       "Male      45325\n",
       "Female    45075\n",
       "Name: sex, dtype: int64"
      ]
     },
     "execution_count": 184,
     "metadata": {},
     "output_type": "execute_result"
    },
    {
     "data": {
      "image/png": "[encoded data removed]",
      "text/plain": [
       "<Figure size 432x288 with 1 Axes>"
      ]
     },
     "metadata": {},
     "output_type": "display_data"
    }
   ],
   "source": [
    "#---Spread of gender\n",
    "#-------------------\n",
    "sex = []\n",
    "sex = conv_df['sex'].value_counts()\n",
    "sex.plot.barh()\n",
    "plt.title('Gender Distribution')\n",
    "plt.xlabel('Number of users')\n",
    "sex"
   ]
  },
  {
   "cell_type": "markdown",
   "metadata": {},
   "source": [
    "#### Distribution by Date\n",
    "Observation: Data is spread around four months : January, February, March, and April of 2015"
   ]
  },
  {
   "cell_type": "code",
   "execution_count": 185,
   "metadata": {},
   "outputs": [
    {
     "name": "stdout",
     "output_type": "stream",
     "text": [
      "The earliest date : 2015-01-01\n",
      "The latest date : 2015-04-30\n"
     ]
    }
   ],
   "source": [
    "print(\"The earliest date :\",conv_df['date'].min()) \n",
    "print(\"The latest date :\",conv_df['date'].max())\n"
   ]
  },
  {
   "cell_type": "markdown",
   "metadata": {},
   "source": [
    "# Bivariate Analysis\n",
    "#### Conversion Achieved in Various months \n",
    "Observation: Conversion rate seems to decline over subsequent months<br>\n",
    "<u>Maximum conversion was achieved in January </u>"
   ]
  },
  {
   "cell_type": "code",
   "execution_count": 193,
   "metadata": {},
   "outputs": [
    {
     "data": {
      "text/plain": [
       "01-15    189\n",
       "02-15    173\n",
       "04-15     46\n",
       "03-15     44\n",
       "Name: month, dtype: int64"
      ]
     },
     "execution_count": 193,
     "metadata": {},
     "output_type": "execute_result"
    },
    {
     "data": {
      "image/png": "[encoded data removed]",
      "text/plain": [
       "<Figure size 432x288 with 1 Axes>"
      ]
     },
     "metadata": {},
     "output_type": "display_data"
    }
   ],
   "source": [
    "dates = conv_df.loc[conv_df['paymtcnf']==1].copy('deep')\n",
    "dates['month']= pd.to_datetime(dates['date']).dt.strftime('%m-%y')\n",
    "\n",
    "paymtcnf = []\n",
    "paymtcnf = dates['month'].value_counts()\n",
    "\n",
    "paymtcnf.plot.barh()\n",
    "plt.title(\"Conversion Achieved in Various months\")\n",
    "plt.ylabel(\"Month\")\n",
    "plt.xlabel(\"Number of users\")\n",
    "paymtcnf\n",
    "\n"
   ]
  },
  {
   "cell_type": "markdown",
   "metadata": {},
   "source": [
    "#### Distribution of users abondoned at payment page\n",
    "<b>Observation:</b> There is a steady decrease in the number of users droping out at payment page. \n",
    "<br>\n",
    "<b>Inference:</b> Further studies could be conducted on various aspects like payment failures to find out possible scope of increasing customer retention"
   ]
  },
  {
   "cell_type": "code",
   "execution_count": 194,
   "metadata": {},
   "outputs": [
    {
     "data": {
      "text/plain": [
       "02-15    2239\n",
       "01-15    2201\n",
       "03-15     587\n",
       "04-15     551\n",
       "Name: month, dtype: int64"
      ]
     },
     "execution_count": 194,
     "metadata": {},
     "output_type": "execute_result"
    },
    {
     "data": {
      "image/png": "[encoded data removed]",
      "text/plain": [
       "<Figure size 432x288 with 1 Axes>"
      ]
     },
     "metadata": {},
     "output_type": "display_data"
    }
   ],
   "source": [
    "date_srch = conv_df.loc[(conv_df['paymtcnf']==0) & (conv_df['paymtpg']==1)].copy('deep')\n",
    "\n",
    "date_srch['month']= pd.to_datetime(date_srch['date']).dt.strftime('%m-%y')\n",
    "\n",
    "payfail = []\n",
    "\n",
    "payfail = date_srch['month'].value_counts()\n",
    "\n",
    "payfail.plot.barh()\n",
    "plt.title(\"Distribution of users abondoned at payment page\")\n",
    "plt.ylabel(\"Month\")\n",
    "plt.xlabel(\"Number of users\")\n",
    "payfail"
   ]
  },
  {
   "cell_type": "markdown",
   "metadata": {},
   "source": [
    "#### Distribution of users abondoned the website at HomePage\n",
    "<b>Observation:</b>There is a steady increase in the number of users abondoning the website at homepage\n",
    "<br>\n",
    "<b>Inference:</b>Homepage could be studied further for possible improvements and scope for making it more user friendly"
   ]
  },
  {
   "cell_type": "code",
   "execution_count": 195,
   "metadata": {},
   "outputs": [
    {
     "data": {
      "text/plain": [
       "03-15    13721\n",
       "04-15    13520\n",
       "01-15     9046\n",
       "02-15     8913\n",
       "Name: month, dtype: int64"
      ]
     },
     "execution_count": 195,
     "metadata": {},
     "output_type": "execute_result"
    },
    {
     "data": {
      "image/png": "[encoded data removed]",
      "text/plain": [
       "<Figure size 432x288 with 1 Axes>"
      ]
     },
     "metadata": {},
     "output_type": "display_data"
    }
   ],
   "source": [
    "home_fail = conv_df.loc[(conv_df['srchpg']==0) & (conv_df['homepg']==1)].copy('deep')\n",
    "\n",
    "home_fail['month']= pd.to_datetime(home_fail['date']).dt.strftime('%m-%y')\n",
    "homefail = []\n",
    "homefail = home_fail['month'].value_counts()\n",
    "\n",
    "homefail.plot.barh()\n",
    "plt.title(\"Distribution of users abondoned the website at HomePage\")\n",
    "plt.ylabel(\"Month\")\n",
    "plt.xlabel(\"Number of users\")\n",
    "homefail"
   ]
  },
  {
   "cell_type": "markdown",
   "metadata": {},
   "source": [
    "#### Distribution of users abondoned the website at Search\n",
    "<b>Observation:</b>There is some decline in the number of users abondoning the website at searchpage.However, there are significan number of users abondoning the website at searchpage\n",
    "<br>\n",
    "<b>Inference:</b>Further study should be conducted to determine scope of improvment in search module or possibility to increase the product variety listed in website "
   ]
  },
  {
   "cell_type": "code",
   "execution_count": 196,
   "metadata": {},
   "outputs": [
    {
     "data": {
      "text/plain": [
       "02-15    11275\n",
       "01-15    11164\n",
       "04-15     8483\n",
       "03-15     8248\n",
       "Name: month, dtype: int64"
      ]
     },
     "execution_count": 196,
     "metadata": {},
     "output_type": "execute_result"
    },
    {
     "data": {
      "image/png": "[encoded data removed]",
      "text/plain": [
       "<Figure size 432x288 with 1 Axes>"
      ]
     },
     "metadata": {},
     "output_type": "display_data"
    }
   ],
   "source": [
    "home_srch = conv_df.loc[(conv_df['srchpg']==1) & (conv_df['paymtpg']==0)].copy('deep')\n",
    "\n",
    "home_srch['month']= pd.to_datetime(home_srch['date']).dt.strftime('%m-%y')\n",
    "\n",
    "srchfail = []\n",
    "\n",
    "srchfail = home_srch['month'].value_counts()\n",
    "\n",
    "srchfail.plot.barh()\n",
    "plt.title(\"Distribution of users abondoned the website at Search\")\n",
    "plt.ylabel(\"Month\")\n",
    "plt.xlabel(\"Number of users\")\n",
    "srchfail"
   ]
  },
  {
   "cell_type": "markdown",
   "metadata": {},
   "source": [
    "#### Distribution of conversion rate by gender\n",
    "Observation: It seems to be almost even"
   ]
  },
  {
   "cell_type": "code",
   "execution_count": 198,
   "metadata": {},
   "outputs": [
    {
     "data": {
      "text/plain": [
       "Female    2859\n",
       "Male      2719\n",
       "Name: sex, dtype: int64"
      ]
     },
     "execution_count": 198,
     "metadata": {},
     "output_type": "execute_result"
    },
    {
     "data": {
      "image/png": "[encoded data removed]",
      "text/plain": [
       "<Figure size 432x288 with 1 Axes>"
      ]
     },
     "metadata": {},
     "output_type": "display_data"
    }
   ],
   "source": [
    "gender = conv_df.loc[(conv_df['paymtcnf']==1)].copy('deep')\n",
    "\n",
    "gender['month']= pd.to_datetime(gender['date']).dt.strftime('%m-%y')\n",
    "\n",
    "conv_suceed= []\n",
    "\n",
    "conv_suceed = date_srch['sex'].value_counts()\n",
    "\n",
    "conv_suceed.plot.barh()\n",
    "plt.title(\"Distribution of conversion rate by gender\")\n",
    "\n",
    "conv_suceed"
   ]
  },
  {
   "cell_type": "markdown",
   "metadata": {},
   "source": [
    "#### Distribution of abadonment at search page by gender\n",
    "<b>Observation:</b> It seems to be almost even"
   ]
  },
  {
   "cell_type": "code",
   "execution_count": 199,
   "metadata": {},
   "outputs": [
    {
     "data": {
      "text/plain": [
       "Male      19594\n",
       "Female    19576\n",
       "Name: sex, dtype: int64"
      ]
     },
     "execution_count": 199,
     "metadata": {},
     "output_type": "execute_result"
    },
    {
     "data": {
      "image/png": "[encoded data removed]",
      "text/plain": [
       "<Figure size 432x288 with 1 Axes>"
      ]
     },
     "metadata": {},
     "output_type": "display_data"
    }
   ],
   "source": [
    "gender_srfail = conv_df.loc[(conv_df['srchpg']==1) & (conv_df['paymtpg']==0)].copy('deep')\n",
    "count= []\n",
    "count = gender_srfail['sex'].value_counts()\n",
    "\n",
    "count.plot.barh()\n",
    "plt.title(\"Distribution of abadonment at search page by gender\")\n",
    "count"
   ]
  },
  {
   "cell_type": "markdown",
   "metadata": {},
   "source": [
    "#### Encode categorical Values"
   ]
  },
  {
   "cell_type": "code",
   "execution_count": 200,
   "metadata": {},
   "outputs": [
    {
     "data": {
      "text/html": [
       "<div>\n",
       "<style scoped>\n",
       "    .dataframe tbody tr th:only-of-type {\n",
       "        vertical-align: middle;\n",
       "    }\n",
       "\n",
       "    .dataframe tbody tr th {\n",
       "        vertical-align: top;\n",
       "    }\n",
       "\n",
       "    .dataframe thead th {\n",
       "        text-align: right;\n",
       "    }\n",
       "</style>\n",
       "<table border=\"1\" class=\"dataframe\">\n",
       "  <thead>\n",
       "    <tr style=\"text-align: right;\">\n",
       "      <th></th>\n",
       "      <th>user_id</th>\n",
       "      <th>month</th>\n",
       "      <th>device</th>\n",
       "      <th>sex</th>\n",
       "      <th>homepg</th>\n",
       "      <th>srchpg</th>\n",
       "      <th>paymtpg</th>\n",
       "      <th>paymtcnf</th>\n",
       "    </tr>\n",
       "  </thead>\n",
       "  <tbody>\n",
       "    <tr>\n",
       "      <th>0</th>\n",
       "      <td>450007</td>\n",
       "      <td>2</td>\n",
       "      <td>0</td>\n",
       "      <td>0</td>\n",
       "      <td>1</td>\n",
       "      <td>0</td>\n",
       "      <td>0</td>\n",
       "      <td>0</td>\n",
       "    </tr>\n",
       "    <tr>\n",
       "      <th>1</th>\n",
       "      <td>756838</td>\n",
       "      <td>1</td>\n",
       "      <td>0</td>\n",
       "      <td>1</td>\n",
       "      <td>1</td>\n",
       "      <td>0</td>\n",
       "      <td>0</td>\n",
       "      <td>0</td>\n",
       "    </tr>\n",
       "    <tr>\n",
       "      <th>2</th>\n",
       "      <td>568983</td>\n",
       "      <td>4</td>\n",
       "      <td>0</td>\n",
       "      <td>1</td>\n",
       "      <td>1</td>\n",
       "      <td>1</td>\n",
       "      <td>0</td>\n",
       "      <td>0</td>\n",
       "    </tr>\n",
       "    <tr>\n",
       "      <th>3</th>\n",
       "      <td>190794</td>\n",
       "      <td>2</td>\n",
       "      <td>0</td>\n",
       "      <td>0</td>\n",
       "      <td>1</td>\n",
       "      <td>1</td>\n",
       "      <td>0</td>\n",
       "      <td>0</td>\n",
       "    </tr>\n",
       "    <tr>\n",
       "      <th>4</th>\n",
       "      <td>537909</td>\n",
       "      <td>1</td>\n",
       "      <td>0</td>\n",
       "      <td>1</td>\n",
       "      <td>1</td>\n",
       "      <td>0</td>\n",
       "      <td>0</td>\n",
       "      <td>0</td>\n",
       "    </tr>\n",
       "  </tbody>\n",
       "</table>\n",
       "</div>"
      ],
      "text/plain": [
       "   user_id  month  device  sex  homepg  srchpg  paymtpg  paymtcnf\n",
       "0   450007      2       0    0       1       0        0         0\n",
       "1   756838      1       0    1       1       0        0         0\n",
       "2   568983      4       0    1       1       1        0         0\n",
       "3   190794      2       0    0       1       1        0         0\n",
       "4   537909      1       0    1       1       0        0         0"
      ]
     },
     "execution_count": 200,
     "metadata": {},
     "output_type": "execute_result"
    }
   ],
   "source": [
    "#--- Encode categorical values\n",
    "#-----------------------------\n",
    "\n",
    "#---Make a deep copy of the existing table and preserve the existing table \n",
    "final_df = conv_df.copy('deep')\n",
    "final_df['homepg'] = final_df['homepg'].astype(int)\n",
    "#---Encode device\n",
    "final_df['device'] =  le().fit_transform(final_df['device']) #(Desktop - 0, Mobile - 1)\n",
    "#---Encode sex\n",
    "final_df['sex']    =  le().fit_transform(final_df['sex']) #(Female - 0, Male - 1)\n",
    "\n",
    "#----Extract month\n",
    "final_df['date']  = pd.to_datetime(final_df['date']).dt.month\n",
    "final_df.rename(columns={ final_df.columns[1]: \"month\" },inplace=True)\n",
    "#dummies_df = pd.get_dummies(final_df['month'], prefix='month_', drop_first = False)\n",
    "#final_df = pd.concat([final_df, dummies_df], axis = 1)\n",
    "\n",
    "\n",
    "\n",
    "final_df.head()\n"
   ]
  },
  {
   "cell_type": "markdown",
   "metadata": {},
   "source": [
    "# Correlation Matrix\n",
    "From the following table we can see the correlation of each feature to the output variable.\n",
    "<br><b>Month</b> Has weak negative correlation to the output variables\n",
    "<br><b>Device</b> has moderate positive correlation to the output variables.<br>\n",
    "<b>Sex</b> has relatively lesser negative correlation to the the output variables.<br>\n",
    "<b>Homepage</b> does not have any correlation and is an independant variable (no variance in this data, hence standard deviation will be zero and so not possible to calculate correlation)<br>\n",
    "<b>Search page</b> has relatively significant positive correlation to the output vairable<br>\n",
    "<b>Payment page </b> seems to have strong positive correlation to the output variables<br>\n",
    "\n",
    "\n",
    "\n"
   ]
  },
  {
   "cell_type": "code",
   "execution_count": 201,
   "metadata": {
    "scrolled": true
   },
   "outputs": [
    {
     "data": {
      "text/html": [
       "<div>\n",
       "<style scoped>\n",
       "    .dataframe tbody tr th:only-of-type {\n",
       "        vertical-align: middle;\n",
       "    }\n",
       "\n",
       "    .dataframe tbody tr th {\n",
       "        vertical-align: top;\n",
       "    }\n",
       "\n",
       "    .dataframe thead th {\n",
       "        text-align: right;\n",
       "    }\n",
       "</style>\n",
       "<table border=\"1\" class=\"dataframe\">\n",
       "  <thead>\n",
       "    <tr style=\"text-align: right;\">\n",
       "      <th></th>\n",
       "      <th>srchpg</th>\n",
       "      <th>paymtpg</th>\n",
       "      <th>paymtcnf</th>\n",
       "    </tr>\n",
       "  </thead>\n",
       "  <tbody>\n",
       "    <tr>\n",
       "      <th>month</th>\n",
       "      <td>-1.803696e-01</td>\n",
       "      <td>-0.141963</td>\n",
       "      <td>-0.039137</td>\n",
       "    </tr>\n",
       "    <tr>\n",
       "      <th>device</th>\n",
       "      <td>6.447022e-18</td>\n",
       "      <td>0.094519</td>\n",
       "      <td>0.050209</td>\n",
       "    </tr>\n",
       "    <tr>\n",
       "      <th>sex</th>\n",
       "      <td>-6.128342e-03</td>\n",
       "      <td>-0.008276</td>\n",
       "      <td>-0.004901</td>\n",
       "    </tr>\n",
       "    <tr>\n",
       "      <th>homepg</th>\n",
       "      <td>NaN</td>\n",
       "      <td>NaN</td>\n",
       "      <td>NaN</td>\n",
       "    </tr>\n",
       "    <tr>\n",
       "      <th>srchpg</th>\n",
       "      <td>1.000000e+00</td>\n",
       "      <td>0.267340</td>\n",
       "      <td>0.070888</td>\n",
       "    </tr>\n",
       "    <tr>\n",
       "      <th>paymtpg</th>\n",
       "      <td>2.673404e-01</td>\n",
       "      <td>1.000000</td>\n",
       "      <td>0.265161</td>\n",
       "    </tr>\n",
       "    <tr>\n",
       "      <th>paymtcnf</th>\n",
       "      <td>7.088812e-02</td>\n",
       "      <td>0.265161</td>\n",
       "      <td>1.000000</td>\n",
       "    </tr>\n",
       "  </tbody>\n",
       "</table>\n",
       "</div>"
      ],
      "text/plain": [
       "                srchpg   paymtpg  paymtcnf\n",
       "month    -1.803696e-01 -0.141963 -0.039137\n",
       "device    6.447022e-18  0.094519  0.050209\n",
       "sex      -6.128342e-03 -0.008276 -0.004901\n",
       "homepg             NaN       NaN       NaN\n",
       "srchpg    1.000000e+00  0.267340  0.070888\n",
       "paymtpg   2.673404e-01  1.000000  0.265161\n",
       "paymtcnf  7.088812e-02  0.265161  1.000000"
      ]
     },
     "execution_count": 201,
     "metadata": {},
     "output_type": "execute_result"
    }
   ],
   "source": [
    "#---Correlation matrix\n",
    "#----------------------\n",
    "correlation = final_df.iloc[:,1:].corr()\n",
    "correlation.drop(correlation.columns[0:-3],axis = 1,inplace = True)\n",
    "correlation\n",
    "\n"
   ]
  },
  {
   "cell_type": "markdown",
   "metadata": {},
   "source": [
    "# Prepare the features and labels for training"
   ]
  },
  {
   "cell_type": "code",
   "execution_count": 202,
   "metadata": {},
   "outputs": [],
   "source": [
    "#---Data required to develop prediction model for searchpage conversion\n",
    "pymtpg_pred = final_df[final_df['srchpg']==1].copy('deep')\n",
    "#---Data required to develop prediction model for Paymentpage conversion\n",
    "pymtcnf_pred = final_df[final_df['paymtpg']==1].copy('deep')\n"
   ]
  },
  {
   "cell_type": "code",
   "execution_count": 203,
   "metadata": {},
   "outputs": [
    {
     "name": "stdout",
     "output_type": "stream",
     "text": [
      "labels:\n",
      "0    0\n",
      "1    0\n",
      "2    1\n",
      "3    1\n",
      "4    0\n",
      "Name: srchpg, dtype: int32\n",
      "Features:\n"
     ]
    },
    {
     "data": {
      "text/html": [
       "<div>\n",
       "<style scoped>\n",
       "    .dataframe tbody tr th:only-of-type {\n",
       "        vertical-align: middle;\n",
       "    }\n",
       "\n",
       "    .dataframe tbody tr th {\n",
       "        vertical-align: top;\n",
       "    }\n",
       "\n",
       "    .dataframe thead th {\n",
       "        text-align: right;\n",
       "    }\n",
       "</style>\n",
       "<table border=\"1\" class=\"dataframe\">\n",
       "  <thead>\n",
       "    <tr style=\"text-align: right;\">\n",
       "      <th></th>\n",
       "      <th>month</th>\n",
       "      <th>device</th>\n",
       "      <th>sex</th>\n",
       "    </tr>\n",
       "  </thead>\n",
       "  <tbody>\n",
       "    <tr>\n",
       "      <th>0</th>\n",
       "      <td>2</td>\n",
       "      <td>0</td>\n",
       "      <td>0</td>\n",
       "    </tr>\n",
       "    <tr>\n",
       "      <th>1</th>\n",
       "      <td>1</td>\n",
       "      <td>0</td>\n",
       "      <td>1</td>\n",
       "    </tr>\n",
       "    <tr>\n",
       "      <th>2</th>\n",
       "      <td>4</td>\n",
       "      <td>0</td>\n",
       "      <td>1</td>\n",
       "    </tr>\n",
       "    <tr>\n",
       "      <th>3</th>\n",
       "      <td>2</td>\n",
       "      <td>0</td>\n",
       "      <td>0</td>\n",
       "    </tr>\n",
       "    <tr>\n",
       "      <th>4</th>\n",
       "      <td>1</td>\n",
       "      <td>0</td>\n",
       "      <td>1</td>\n",
       "    </tr>\n",
       "  </tbody>\n",
       "</table>\n",
       "</div>"
      ],
      "text/plain": [
       "   month  device  sex\n",
       "0      2       0    0\n",
       "1      1       0    1\n",
       "2      4       0    1\n",
       "3      2       0    0\n",
       "4      1       0    1"
      ]
     },
     "execution_count": 203,
     "metadata": {},
     "output_type": "execute_result"
    }
   ],
   "source": [
    "#---Searchpage prediction features and labels\n",
    "srchpg_X = final_df[final_df.columns[1:4]]\n",
    "srchpg_Y = final_df['srchpg']\n",
    "print('labels:')\n",
    "print(srchpg_Y.head())\n",
    "print('Features:')\n",
    "srchpg_X.head()\n",
    "\n"
   ]
  },
  {
   "cell_type": "code",
   "execution_count": 204,
   "metadata": {},
   "outputs": [
    {
     "name": "stdout",
     "output_type": "stream",
     "text": [
      "labels:\n",
      "2     0\n",
      "3     0\n",
      "6     0\n",
      "9     0\n",
      "12    0\n",
      "Name: paymtpg, dtype: int32\n",
      "Features:\n"
     ]
    },
    {
     "data": {
      "text/html": [
       "<div>\n",
       "<style scoped>\n",
       "    .dataframe tbody tr th:only-of-type {\n",
       "        vertical-align: middle;\n",
       "    }\n",
       "\n",
       "    .dataframe tbody tr th {\n",
       "        vertical-align: top;\n",
       "    }\n",
       "\n",
       "    .dataframe thead th {\n",
       "        text-align: right;\n",
       "    }\n",
       "</style>\n",
       "<table border=\"1\" class=\"dataframe\">\n",
       "  <thead>\n",
       "    <tr style=\"text-align: right;\">\n",
       "      <th></th>\n",
       "      <th>month</th>\n",
       "      <th>device</th>\n",
       "      <th>sex</th>\n",
       "    </tr>\n",
       "  </thead>\n",
       "  <tbody>\n",
       "    <tr>\n",
       "      <th>2</th>\n",
       "      <td>4</td>\n",
       "      <td>0</td>\n",
       "      <td>1</td>\n",
       "    </tr>\n",
       "    <tr>\n",
       "      <th>3</th>\n",
       "      <td>2</td>\n",
       "      <td>0</td>\n",
       "      <td>0</td>\n",
       "    </tr>\n",
       "    <tr>\n",
       "      <th>6</th>\n",
       "      <td>4</td>\n",
       "      <td>0</td>\n",
       "      <td>0</td>\n",
       "    </tr>\n",
       "    <tr>\n",
       "      <th>9</th>\n",
       "      <td>2</td>\n",
       "      <td>1</td>\n",
       "      <td>0</td>\n",
       "    </tr>\n",
       "    <tr>\n",
       "      <th>12</th>\n",
       "      <td>3</td>\n",
       "      <td>0</td>\n",
       "      <td>1</td>\n",
       "    </tr>\n",
       "  </tbody>\n",
       "</table>\n",
       "</div>"
      ],
      "text/plain": [
       "    month  device  sex\n",
       "2       4       0    1\n",
       "3       2       0    0\n",
       "6       4       0    0\n",
       "9       2       1    0\n",
       "12      3       0    1"
      ]
     },
     "execution_count": 204,
     "metadata": {},
     "output_type": "execute_result"
    }
   ],
   "source": [
    "paymnt_X = pymtpg_pred[pymtpg_pred.columns[1:4]]\n",
    "paymnt_Y = pymtpg_pred['paymtpg']\n",
    "print('labels:')\n",
    "print(paymnt_Y.head())\n",
    "print('Features:')\n",
    "paymnt_X.head()"
   ]
  },
  {
   "cell_type": "code",
   "execution_count": 205,
   "metadata": {},
   "outputs": [
    {
     "name": "stdout",
     "output_type": "stream",
     "text": [
      "labels:\n",
      "2     0\n",
      "3     0\n",
      "6     0\n",
      "9     0\n",
      "12    0\n",
      "Name: paymtpg, dtype: int32\n",
      "Features:\n"
     ]
    },
    {
     "data": {
      "text/html": [
       "<div>\n",
       "<style scoped>\n",
       "    .dataframe tbody tr th:only-of-type {\n",
       "        vertical-align: middle;\n",
       "    }\n",
       "\n",
       "    .dataframe tbody tr th {\n",
       "        vertical-align: top;\n",
       "    }\n",
       "\n",
       "    .dataframe thead th {\n",
       "        text-align: right;\n",
       "    }\n",
       "</style>\n",
       "<table border=\"1\" class=\"dataframe\">\n",
       "  <thead>\n",
       "    <tr style=\"text-align: right;\">\n",
       "      <th></th>\n",
       "      <th>month</th>\n",
       "      <th>device</th>\n",
       "      <th>sex</th>\n",
       "    </tr>\n",
       "  </thead>\n",
       "  <tbody>\n",
       "    <tr>\n",
       "      <th>2</th>\n",
       "      <td>4</td>\n",
       "      <td>0</td>\n",
       "      <td>1</td>\n",
       "    </tr>\n",
       "    <tr>\n",
       "      <th>3</th>\n",
       "      <td>2</td>\n",
       "      <td>0</td>\n",
       "      <td>0</td>\n",
       "    </tr>\n",
       "    <tr>\n",
       "      <th>6</th>\n",
       "      <td>4</td>\n",
       "      <td>0</td>\n",
       "      <td>0</td>\n",
       "    </tr>\n",
       "    <tr>\n",
       "      <th>9</th>\n",
       "      <td>2</td>\n",
       "      <td>1</td>\n",
       "      <td>0</td>\n",
       "    </tr>\n",
       "    <tr>\n",
       "      <th>12</th>\n",
       "      <td>3</td>\n",
       "      <td>0</td>\n",
       "      <td>1</td>\n",
       "    </tr>\n",
       "  </tbody>\n",
       "</table>\n",
       "</div>"
      ],
      "text/plain": [
       "    month  device  sex\n",
       "2       4       0    1\n",
       "3       2       0    0\n",
       "6       4       0    0\n",
       "9       2       1    0\n",
       "12      3       0    1"
      ]
     },
     "execution_count": 205,
     "metadata": {},
     "output_type": "execute_result"
    }
   ],
   "source": [
    "pymtcnf_X = pymtcnf_pred[pymtcnf_pred.columns[1:4]]\n",
    "pymtcnf_Y = pymtcnf_pred['paymtcnf']\n",
    "print('labels:')\n",
    "print(paymnt_Y.head())\n",
    "print('Features:')\n",
    "paymnt_X.head()"
   ]
  },
  {
   "cell_type": "markdown",
   "metadata": {},
   "source": [
    "##### Split the training and test data "
   ]
  },
  {
   "cell_type": "code",
   "execution_count": 206,
   "metadata": {},
   "outputs": [],
   "source": [
    "def split_data(X,Y):\n",
    "    return split(X, Y, test_size=0.20, random_state=55)"
   ]
  },
  {
   "cell_type": "markdown",
   "metadata": {},
   "source": [
    "#### - Logistic Regression"
   ]
  },
  {
   "cell_type": "code",
   "execution_count": 207,
   "metadata": {},
   "outputs": [],
   "source": [
    "def log_reg(X_train,Y_train) :\n",
    "    lr_model = logreg().fit(X_train,Y_train)\n",
    "    #Prints the accuracy of the model on training data\n",
    "    print(\"Logistic Regression Model : Accuracy of training:\",lr_model.score(X_train,Y_train))\n",
    "    lr_Y_predicted = lr_model.predict(X_test)\n",
    "    lr_prob = lr_model.predict_proba(X_test)\n",
    "    #---retain the probablility for 1\n",
    "    #--------------------------------\n",
    "    lr_prob = lr_prob[:, 1]\n",
    "    #--Roc\n",
    "    lr_false_pos_rat, lr_true_pos_rat, lr_thresholds = roc_curve(Y_test, lr_prob)\n"
   ]
  },
  {
   "cell_type": "markdown",
   "metadata": {},
   "source": [
    "#### K-Nearest Neighbour"
   ]
  },
  {
   "cell_type": "code",
   "execution_count": 208,
   "metadata": {},
   "outputs": [],
   "source": [
    "def knn(X_train,Y_train) :\n",
    "    kn_model = kn(n_neighbors=3).fit(X_train,Y_train)\n",
    "    #Prints the accuracy of the model on training data\n",
    "    print(\"K-nearest neighbour Model : Accuracy of training:\",kn_model.score(X_train,Y_train))\n",
    "\n",
    "    kn_Y_predicted = kn_model.predict(X_test)\n",
    "    kn_prob = kn_model.predict_proba(X_test)\n",
    "    #---retain the probablility for 1\n",
    "    #--------------------------------\n",
    "    kn_prob = kn_prob[:, 1]\n",
    "    #--Roc\n",
    "    kn_false_pos_rat, kn_true_pos_rat, kn_thresholds = roc_curve(Y_test, kn_prob)"
   ]
  },
  {
   "cell_type": "markdown",
   "metadata": {},
   "source": [
    "#### SVM"
   ]
  },
  {
   "cell_type": "code",
   "execution_count": 209,
   "metadata": {},
   "outputs": [],
   "source": [
    "def svm(X_train,Y_train) :\n",
    "    svm_model = SVC(kernel='linear', probability=True).fit(X_train,Y_train)\n",
    "    #Prints the accuracy of the model on training data\n",
    "    print(\"SVM Model : Accuracy of training:\",svm_model.score(X_train,Y_train))\n",
    "\n",
    "    svm_Y_predicted = svm_model.predict(X_test)\n",
    "    svm_prob = svm_model.predict_proba(X_test)\n",
    "    #---retain the probablility for 1\n",
    "    #--------------------------------\n",
    "    svm_prob = svm_prob[:, 1]\n",
    "    #--Roc\n",
    "    svm_false_pos_rat, svm_true_pos_rat, svm_thresholds = roc_curve(Y_test, svm_prob)"
   ]
  },
  {
   "cell_type": "markdown",
   "metadata": {},
   "source": [
    "#### Decision Tree"
   ]
  },
  {
   "cell_type": "code",
   "execution_count": 210,
   "metadata": {},
   "outputs": [],
   "source": [
    "def decision_tree(X_train,Y_train) :\n",
    "    dt_model = DT().fit(X_train,Y_train)\n",
    "    #Prints the accuracy of the model on training data\n",
    "    print(\"Decision Tree Model : Accuracy of training:\",dt_model.score(X_train,Y_train))\n",
    "\n",
    "    dt_Y_predicted = dt_model.predict(X_test)\n",
    "    dt_prob = dt_model.predict_proba(X_test)\n",
    "    #---retain the probablility for 1\n",
    "    #--------------------------------\n",
    "    dt_prob = dt_prob[:, 1]\n",
    "    #--Roc\n",
    "    dt_false_pos_rat, dt_true_pos_rat, dt_thresholds = roc_curve(Y_test, dt_prob)"
   ]
  },
  {
   "cell_type": "markdown",
   "metadata": {},
   "source": [
    "# ROC"
   ]
  },
  {
   "cell_type": "code",
   "execution_count": 211,
   "metadata": {
    "scrolled": true
   },
   "outputs": [],
   "source": [
    "\n",
    "\n",
    "def draw_roc():\n",
    "    # plot no skill\n",
    "    plt.plot([0, 1], [0, 1], linestyle='--')\n",
    "\n",
    "    # plot the roc curve for the logistic regression model\n",
    "    plt.plot(lr_false_pos_rat, lr_true_pos_rat, marker='.',label='Logistic Regression')\n",
    "\n",
    "    # plot the roc curve for the K-Nearest Neighbour model\n",
    "    plt.plot(kn_false_pos_rat, kn_true_pos_rat, marker='x',label='KNN')\n",
    "\n",
    "    # plot the roc curve for the SVM  model\n",
    "    plt.plot(svm_false_pos_rat, svm_true_pos_rat, marker='d',label='SVM')\n",
    "\n",
    "    # plot the roc curve for the decision tree  model\n",
    "    plt.plot(dt_false_pos_rat, dt_true_pos_rat, marker='*',label='Decision Tree')\n",
    "    plt.legend(loc='lower right')\n",
    "    plt.title('ROC Curve')\n",
    "\n",
    "    # show the plot\n",
    "    plt.show()"
   ]
  },
  {
   "cell_type": "markdown",
   "metadata": {},
   "source": [
    "### Classification - Homepage conversion"
   ]
  },
  {
   "cell_type": "code",
   "execution_count": 213,
   "metadata": {},
   "outputs": [
    {
     "name": "stdout",
     "output_type": "stream",
     "text": [
      "Logistic Regression Model : Accuracy of training: 0.6019321533923304\n",
      "K-nearest neighbour Model : Accuracy of training: 0.6010914454277286\n",
      "SVM Model : Accuracy of training: 0.6019321533923304\n",
      "Decision Tree Model : Accuracy of training: 0.6050737463126844\n"
     ]
    },
    {
     "data": {
      "image/png": "[encoded data removed]",
      "text/plain": [
       "<Figure size 432x288 with 1 Axes>"
      ]
     },
     "metadata": {},
     "output_type": "display_data"
    }
   ],
   "source": [
    "X_train, X_test, Y_train, Y_test = split(srchpg_X,srchpg_Y) \n",
    "log_reg(X_train,Y_train)\n",
    "knn(X_train,Y_train)\n",
    "svm(X_train,Y_train)\n",
    "decision_tree(X_train,Y_train)\n",
    "draw_roc()"
   ]
  },
  {
   "cell_type": "markdown",
   "metadata": {},
   "source": [
    "From, the above ROC curve, it seems that logistic regression, Decision tree, SVM performs  good in this scenario. However, in this case data is heavily skewed;Hence it could benefit from k-fold cross validation"
   ]
  },
  {
   "cell_type": "markdown",
   "metadata": {},
   "source": [
    "### Classification - Searchpage conversion"
   ]
  },
  {
   "cell_type": "code",
   "execution_count": 215,
   "metadata": {},
   "outputs": [
    {
     "name": "stdout",
     "output_type": "stream",
     "text": [
      "Logistic Regression Model : Accuracy of training: 0.866283185840708\n",
      "K-nearest neighbour Model : Accuracy of training: 0.8168731563421829\n",
      "SVM Model : Accuracy of training: 0.866283185840708\n",
      "Decision Tree Model : Accuracy of training: 0.866283185840708\n"
     ]
    },
    {
     "data": {
      "image/png": "[encoded data removed]",
      "text/plain": [
       "<Figure size 432x288 with 1 Axes>"
      ]
     },
     "metadata": {},
     "output_type": "display_data"
    }
   ],
   "source": [
    "X_train, X_test, Y_train, Y_test = split(paymnt_X,paymnt_Y) \n",
    "log_reg(X_train,Y_train)\n",
    "knn(X_train,Y_train)\n",
    "svm(X_train,Y_train)\n",
    "decision_tree(X_train,Y_train)\n",
    "draw_roc()"
   ]
  },
  {
   "cell_type": "markdown",
   "metadata": {},
   "source": [
    "From, the above ROC curve, it seems that logistic regression, Decision tree, SVM performs good in this scenario. However, in this case data is heavily skewed;Hence it could benefit from k-fold cross validation"
   ]
  },
  {
   "cell_type": "markdown",
   "metadata": {},
   "source": [
    "# Classification - Payment confirmation conversion"
   ]
  },
  {
   "cell_type": "code",
   "execution_count": 218,
   "metadata": {},
   "outputs": [
    {
     "name": "stdout",
     "output_type": "stream",
     "text": [
      "Logistic Regression Model : Accuracy of training: 0.9274657231313578\n",
      "K-nearest neighbour Model : Accuracy of training: 0.9274657231313578\n",
      "SVM Model : Accuracy of training: 0.9274657231313578\n",
      "Decision Tree Model : Accuracy of training: 0.9274657231313578\n"
     ]
    },
    {
     "data": {
      "image/png": "[encoded data removed]",
      "text/plain": [
       "<Figure size 432x288 with 1 Axes>"
      ]
     },
     "metadata": {},
     "output_type": "display_data"
    }
   ],
   "source": [
    "X_train, X_test, Y_train, Y_test = split(pymtcnf_X,pymtcnf_Y) \n",
    "log_reg(X_train,Y_train)\n",
    "knn(X_train,Y_train)\n",
    "svm(X_train,Y_train)\n",
    "decision_tree(X_train,Y_train)\n",
    "draw_roc()"
   ]
  },
  {
   "cell_type": "markdown",
   "metadata": {},
   "source": [
    "From, the above ROC curve, it seems that logistic regression, Decision tree, SVM performs good in this scenario. However, in this case data is heavily skewed;Hence it could benefit from k-fold cross validation"
   ]
  },
  {
   "cell_type": "markdown",
   "metadata": {},
   "source": [
    "# Clustering "
   ]
  },
  {
   "cell_type": "code",
   "execution_count": 219,
   "metadata": {
    "scrolled": true
   },
   "outputs": [
    {
     "data": {
      "text/html": [
       "<div>\n",
       "<style scoped>\n",
       "    .dataframe tbody tr th:only-of-type {\n",
       "        vertical-align: middle;\n",
       "    }\n",
       "\n",
       "    .dataframe tbody tr th {\n",
       "        vertical-align: top;\n",
       "    }\n",
       "\n",
       "    .dataframe thead th {\n",
       "        text-align: right;\n",
       "    }\n",
       "</style>\n",
       "<table border=\"1\" class=\"dataframe\">\n",
       "  <thead>\n",
       "    <tr style=\"text-align: right;\">\n",
       "      <th>user_id</th>\n",
       "      <th>17</th>\n",
       "      <th>28</th>\n",
       "      <th>37</th>\n",
       "      <th>38</th>\n",
       "      <th>55</th>\n",
       "      <th>72</th>\n",
       "      <th>112</th>\n",
       "      <th>136</th>\n",
       "      <th>139</th>\n",
       "      <th>158</th>\n",
       "      <th>...</th>\n",
       "      <th>999912</th>\n",
       "      <th>999913</th>\n",
       "      <th>999916</th>\n",
       "      <th>999919</th>\n",
       "      <th>999928</th>\n",
       "      <th>999934</th>\n",
       "      <th>999948</th>\n",
       "      <th>999957</th>\n",
       "      <th>999978</th>\n",
       "      <th>999979</th>\n",
       "    </tr>\n",
       "  </thead>\n",
       "  <tbody>\n",
       "    <tr>\n",
       "      <th>device</th>\n",
       "      <td>0</td>\n",
       "      <td>0</td>\n",
       "      <td>1</td>\n",
       "      <td>1</td>\n",
       "      <td>0</td>\n",
       "      <td>0</td>\n",
       "      <td>1</td>\n",
       "      <td>0</td>\n",
       "      <td>0</td>\n",
       "      <td>0</td>\n",
       "      <td>...</td>\n",
       "      <td>0</td>\n",
       "      <td>1</td>\n",
       "      <td>0</td>\n",
       "      <td>1</td>\n",
       "      <td>1</td>\n",
       "      <td>1</td>\n",
       "      <td>0</td>\n",
       "      <td>1</td>\n",
       "      <td>0</td>\n",
       "      <td>0</td>\n",
       "    </tr>\n",
       "    <tr>\n",
       "      <th>month</th>\n",
       "      <td>4</td>\n",
       "      <td>4</td>\n",
       "      <td>2</td>\n",
       "      <td>3</td>\n",
       "      <td>2</td>\n",
       "      <td>4</td>\n",
       "      <td>3</td>\n",
       "      <td>3</td>\n",
       "      <td>2</td>\n",
       "      <td>4</td>\n",
       "      <td>...</td>\n",
       "      <td>4</td>\n",
       "      <td>2</td>\n",
       "      <td>3</td>\n",
       "      <td>4</td>\n",
       "      <td>1</td>\n",
       "      <td>4</td>\n",
       "      <td>2</td>\n",
       "      <td>4</td>\n",
       "      <td>4</td>\n",
       "      <td>3</td>\n",
       "    </tr>\n",
       "    <tr>\n",
       "      <th>sex</th>\n",
       "      <td>1</td>\n",
       "      <td>1</td>\n",
       "      <td>1</td>\n",
       "      <td>0</td>\n",
       "      <td>1</td>\n",
       "      <td>1</td>\n",
       "      <td>1</td>\n",
       "      <td>1</td>\n",
       "      <td>0</td>\n",
       "      <td>0</td>\n",
       "      <td>...</td>\n",
       "      <td>1</td>\n",
       "      <td>1</td>\n",
       "      <td>1</td>\n",
       "      <td>1</td>\n",
       "      <td>0</td>\n",
       "      <td>0</td>\n",
       "      <td>0</td>\n",
       "      <td>0</td>\n",
       "      <td>0</td>\n",
       "      <td>0</td>\n",
       "    </tr>\n",
       "  </tbody>\n",
       "</table>\n",
       "<p>3 rows × 90400 columns</p>\n",
       "</div>"
      ],
      "text/plain": [
       "user_id  17      28      37      38      55      72      112     136     \\\n",
       "device        0       0       1       1       0       0       1       0   \n",
       "month         4       4       2       3       2       4       3       3   \n",
       "sex           1       1       1       0       1       1       1       1   \n",
       "\n",
       "user_id  139     158      ...    999912  999913  999916  999919  999928  \\\n",
       "device        0       0   ...         0       1       0       1       1   \n",
       "month         2       4   ...         4       2       3       4       1   \n",
       "sex           0       0   ...         1       1       1       1       0   \n",
       "\n",
       "user_id  999934  999948  999957  999978  999979  \n",
       "device        1       0       1       0       0  \n",
       "month         4       2       4       4       3  \n",
       "sex           0       0       0       0       0  \n",
       "\n",
       "[3 rows x 90400 columns]"
      ]
     },
     "execution_count": 219,
     "metadata": {},
     "output_type": "execute_result"
    }
   ],
   "source": [
    "div = final_df.iloc[:,2:].copy('deep')\n",
    "distribution = pd.pivot_table(final_df,values =[\"month\",\"device\",\"sex\"],fill_value= 0,columns=[\"user_id\"],aggfunc='sum')\n",
    "distribution"
   ]
  },
  {
   "cell_type": "code",
   "execution_count": 220,
   "metadata": {},
   "outputs": [
    {
     "data": {
      "text/html": [
       "<div>\n",
       "<style scoped>\n",
       "    .dataframe tbody tr th:only-of-type {\n",
       "        vertical-align: middle;\n",
       "    }\n",
       "\n",
       "    .dataframe tbody tr th {\n",
       "        vertical-align: top;\n",
       "    }\n",
       "\n",
       "    .dataframe thead th {\n",
       "        text-align: right;\n",
       "    }\n",
       "</style>\n",
       "<table border=\"1\" class=\"dataframe\">\n",
       "  <thead>\n",
       "    <tr style=\"text-align: right;\">\n",
       "      <th></th>\n",
       "      <th>device</th>\n",
       "      <th>month</th>\n",
       "      <th>sex</th>\n",
       "    </tr>\n",
       "    <tr>\n",
       "      <th>user_id</th>\n",
       "      <th></th>\n",
       "      <th></th>\n",
       "      <th></th>\n",
       "    </tr>\n",
       "  </thead>\n",
       "  <tbody>\n",
       "    <tr>\n",
       "      <th>17</th>\n",
       "      <td>0</td>\n",
       "      <td>4</td>\n",
       "      <td>1</td>\n",
       "    </tr>\n",
       "    <tr>\n",
       "      <th>28</th>\n",
       "      <td>0</td>\n",
       "      <td>4</td>\n",
       "      <td>1</td>\n",
       "    </tr>\n",
       "    <tr>\n",
       "      <th>37</th>\n",
       "      <td>1</td>\n",
       "      <td>2</td>\n",
       "      <td>1</td>\n",
       "    </tr>\n",
       "    <tr>\n",
       "      <th>38</th>\n",
       "      <td>1</td>\n",
       "      <td>3</td>\n",
       "      <td>0</td>\n",
       "    </tr>\n",
       "    <tr>\n",
       "      <th>55</th>\n",
       "      <td>0</td>\n",
       "      <td>2</td>\n",
       "      <td>1</td>\n",
       "    </tr>\n",
       "  </tbody>\n",
       "</table>\n",
       "</div>"
      ],
      "text/plain": [
       "         device  month  sex\n",
       "user_id                    \n",
       "17            0      4    1\n",
       "28            0      4    1\n",
       "37            1      2    1\n",
       "38            1      3    0\n",
       "55            0      2    1"
      ]
     },
     "execution_count": 220,
     "metadata": {},
     "output_type": "execute_result"
    }
   ],
   "source": [
    "kmeans_df = distribution.transpose()\n",
    "kmeans_df.head()"
   ]
  },
  {
   "cell_type": "markdown",
   "metadata": {},
   "source": [
    "#### Implement K-Means Algorithm"
   ]
  },
  {
   "cell_type": "code",
   "execution_count": 221,
   "metadata": {},
   "outputs": [
    {
     "data": {
      "text/html": [
       "<div>\n",
       "<style scoped>\n",
       "    .dataframe tbody tr th:only-of-type {\n",
       "        vertical-align: middle;\n",
       "    }\n",
       "\n",
       "    .dataframe tbody tr th {\n",
       "        vertical-align: top;\n",
       "    }\n",
       "\n",
       "    .dataframe thead th {\n",
       "        text-align: right;\n",
       "    }\n",
       "</style>\n",
       "<table border=\"1\" class=\"dataframe\">\n",
       "  <thead>\n",
       "    <tr style=\"text-align: right;\">\n",
       "      <th></th>\n",
       "      <th>Cluster</th>\n",
       "      <th>SSE</th>\n",
       "    </tr>\n",
       "    <tr>\n",
       "      <th>Cluster</th>\n",
       "      <th></th>\n",
       "      <th></th>\n",
       "    </tr>\n",
       "  </thead>\n",
       "  <tbody>\n",
       "    <tr>\n",
       "      <th>2.0</th>\n",
       "      <td>2.0</td>\n",
       "      <td>65310.636881</td>\n",
       "    </tr>\n",
       "    <tr>\n",
       "      <th>3.0</th>\n",
       "      <td>3.0</td>\n",
       "      <td>54009.247983</td>\n",
       "    </tr>\n",
       "    <tr>\n",
       "      <th>4.0</th>\n",
       "      <td>4.0</td>\n",
       "      <td>42709.825182</td>\n",
       "    </tr>\n",
       "    <tr>\n",
       "      <th>5.0</th>\n",
       "      <td>5.0</td>\n",
       "      <td>37716.331928</td>\n",
       "    </tr>\n",
       "    <tr>\n",
       "      <th>6.0</th>\n",
       "      <td>6.0</td>\n",
       "      <td>31990.028312</td>\n",
       "    </tr>\n",
       "  </tbody>\n",
       "</table>\n",
       "</div>"
      ],
      "text/plain": [
       "         Cluster           SSE\n",
       "Cluster                       \n",
       "2.0          2.0  65310.636881\n",
       "3.0          3.0  54009.247983\n",
       "4.0          4.0  42709.825182\n",
       "5.0          5.0  37716.331928\n",
       "6.0          6.0  31990.028312"
      ]
     },
     "execution_count": 221,
     "metadata": {},
     "output_type": "execute_result"
    }
   ],
   "source": [
    "\n",
    "minClust = 2      # Hypothesized minimum number of segments\n",
    "maxClust = 7      # Hypothesized maximum number of segments\n",
    "\n",
    "#---List to hold cluster sets\n",
    "k_means_res = list()\n",
    "k_means_sse  = list()\n",
    "\n",
    "result = pd.DataFrame(columns = ['Cluster','SSE']);\n",
    "\n",
    "i=0\n",
    "\n",
    "for folds in range(minClust,maxClust):\n",
    "    km_model = KMeans(n_clusters=folds,random_state = 27).fit(kmeans_df)\n",
    "    k_means_res.append(km_model)\n",
    "    k_means_sse.append(k_means_res[i].inertia_)\n",
    "    result.loc[i]= [folds,k_means_sse[i]]\n",
    "    i=i+1\n",
    "result.index = result.Cluster\n",
    "result"
   ]
  },
  {
   "cell_type": "markdown",
   "metadata": {},
   "source": [
    "#### Use elbow method to determine the number of clusters\n",
    "From the below plot we can infer that there are 4 ideal clusters"
   ]
  },
  {
   "cell_type": "code",
   "execution_count": 222,
   "metadata": {},
   "outputs": [
    {
     "data": {
      "text/plain": [
       "[<matplotlib.lines.Line2D at 0x29bf6700358>]"
      ]
     },
     "execution_count": 222,
     "metadata": {},
     "output_type": "execute_result"
    },
    {
     "data": {
      "image/png": "[encoded data removed]",
      "text/plain": [
       "<Figure size 432x288 with 1 Axes>"
      ]
     },
     "metadata": {},
     "output_type": "display_data"
    }
   ],
   "source": [
    "plt.plot(result.Cluster,result.SSE)"
   ]
  },
  {
   "cell_type": "markdown",
   "metadata": {},
   "source": [
    "#### Display and Describe the customer segments"
   ]
  },
  {
   "cell_type": "code",
   "execution_count": 223,
   "metadata": {},
   "outputs": [],
   "source": [
    "cluster_map = pd.DataFrame()\n",
    "cluster_map['user_id'] = kmeans_df.index.values\n",
    "cluster_map['cluster'] = k_means_res[2].labels_"
   ]
  },
  {
   "cell_type": "markdown",
   "metadata": {},
   "source": [
    "#### Cluster 0\n",
    "\n",
    "From below data, we can infer that cluster 0 comprises mostlu of <u>female</u> users who predominantly used <u>desktop</u> to reach <u>homepage</u> in <u>march and april</u>; Most of them seem to have abandoned the website at homepage; Perhaps they could have found the difficult to navigate further. Website design could be studied for any possible navigation difficulty  "
   ]
  },
  {
   "cell_type": "code",
   "execution_count": 224,
   "metadata": {},
   "outputs": [
    {
     "data": {
      "text/html": [
       "<div>\n",
       "<style scoped>\n",
       "    .dataframe tbody tr th:only-of-type {\n",
       "        vertical-align: middle;\n",
       "    }\n",
       "\n",
       "    .dataframe tbody tr th {\n",
       "        vertical-align: top;\n",
       "    }\n",
       "\n",
       "    .dataframe thead th {\n",
       "        text-align: right;\n",
       "    }\n",
       "</style>\n",
       "<table border=\"1\" class=\"dataframe\">\n",
       "  <thead>\n",
       "    <tr style=\"text-align: right;\">\n",
       "      <th></th>\n",
       "      <th>user_id</th>\n",
       "      <th>cluster</th>\n",
       "      <th>date</th>\n",
       "      <th>device</th>\n",
       "      <th>sex</th>\n",
       "      <th>homepg</th>\n",
       "      <th>srchpg</th>\n",
       "      <th>paymtpg</th>\n",
       "      <th>paymtcnf</th>\n",
       "    </tr>\n",
       "  </thead>\n",
       "  <tbody>\n",
       "    <tr>\n",
       "      <th>0</th>\n",
       "      <td>38</td>\n",
       "      <td>0</td>\n",
       "      <td>2015-03-23</td>\n",
       "      <td>Mobile</td>\n",
       "      <td>Female</td>\n",
       "      <td>1</td>\n",
       "      <td>1</td>\n",
       "      <td>1</td>\n",
       "      <td>0</td>\n",
       "    </tr>\n",
       "    <tr>\n",
       "      <th>1</th>\n",
       "      <td>158</td>\n",
       "      <td>0</td>\n",
       "      <td>2015-04-18</td>\n",
       "      <td>Desktop</td>\n",
       "      <td>Female</td>\n",
       "      <td>1</td>\n",
       "      <td>0</td>\n",
       "      <td>0</td>\n",
       "      <td>0</td>\n",
       "    </tr>\n",
       "    <tr>\n",
       "      <th>2</th>\n",
       "      <td>228</td>\n",
       "      <td>0</td>\n",
       "      <td>2015-04-01</td>\n",
       "      <td>Desktop</td>\n",
       "      <td>Female</td>\n",
       "      <td>1</td>\n",
       "      <td>0</td>\n",
       "      <td>0</td>\n",
       "      <td>0</td>\n",
       "    </tr>\n",
       "    <tr>\n",
       "      <th>3</th>\n",
       "      <td>257</td>\n",
       "      <td>0</td>\n",
       "      <td>2015-04-18</td>\n",
       "      <td>Desktop</td>\n",
       "      <td>Female</td>\n",
       "      <td>1</td>\n",
       "      <td>1</td>\n",
       "      <td>0</td>\n",
       "      <td>0</td>\n",
       "    </tr>\n",
       "    <tr>\n",
       "      <th>4</th>\n",
       "      <td>261</td>\n",
       "      <td>0</td>\n",
       "      <td>2015-04-09</td>\n",
       "      <td>Desktop</td>\n",
       "      <td>Female</td>\n",
       "      <td>1</td>\n",
       "      <td>0</td>\n",
       "      <td>0</td>\n",
       "      <td>0</td>\n",
       "    </tr>\n",
       "    <tr>\n",
       "      <th>5</th>\n",
       "      <td>294</td>\n",
       "      <td>0</td>\n",
       "      <td>2015-04-22</td>\n",
       "      <td>Desktop</td>\n",
       "      <td>Female</td>\n",
       "      <td>1</td>\n",
       "      <td>0</td>\n",
       "      <td>0</td>\n",
       "      <td>0</td>\n",
       "    </tr>\n",
       "    <tr>\n",
       "      <th>6</th>\n",
       "      <td>303</td>\n",
       "      <td>0</td>\n",
       "      <td>2015-04-14</td>\n",
       "      <td>Desktop</td>\n",
       "      <td>Female</td>\n",
       "      <td>1</td>\n",
       "      <td>0</td>\n",
       "      <td>0</td>\n",
       "      <td>0</td>\n",
       "    </tr>\n",
       "    <tr>\n",
       "      <th>7</th>\n",
       "      <td>348</td>\n",
       "      <td>0</td>\n",
       "      <td>2015-04-12</td>\n",
       "      <td>Mobile</td>\n",
       "      <td>Female</td>\n",
       "      <td>1</td>\n",
       "      <td>0</td>\n",
       "      <td>0</td>\n",
       "      <td>0</td>\n",
       "    </tr>\n",
       "    <tr>\n",
       "      <th>8</th>\n",
       "      <td>389</td>\n",
       "      <td>0</td>\n",
       "      <td>2015-03-12</td>\n",
       "      <td>Desktop</td>\n",
       "      <td>Female</td>\n",
       "      <td>1</td>\n",
       "      <td>0</td>\n",
       "      <td>0</td>\n",
       "      <td>0</td>\n",
       "    </tr>\n",
       "    <tr>\n",
       "      <th>9</th>\n",
       "      <td>395</td>\n",
       "      <td>0</td>\n",
       "      <td>2015-04-06</td>\n",
       "      <td>Desktop</td>\n",
       "      <td>Female</td>\n",
       "      <td>1</td>\n",
       "      <td>0</td>\n",
       "      <td>0</td>\n",
       "      <td>0</td>\n",
       "    </tr>\n",
       "  </tbody>\n",
       "</table>\n",
       "</div>"
      ],
      "text/plain": [
       "   user_id  cluster        date   device     sex  homepg  srchpg  paymtpg  \\\n",
       "0       38        0  2015-03-23   Mobile  Female       1       1        1   \n",
       "1      158        0  2015-04-18  Desktop  Female       1       0        0   \n",
       "2      228        0  2015-04-01  Desktop  Female       1       0        0   \n",
       "3      257        0  2015-04-18  Desktop  Female       1       1        0   \n",
       "4      261        0  2015-04-09  Desktop  Female       1       0        0   \n",
       "5      294        0  2015-04-22  Desktop  Female       1       0        0   \n",
       "6      303        0  2015-04-14  Desktop  Female       1       0        0   \n",
       "7      348        0  2015-04-12   Mobile  Female       1       0        0   \n",
       "8      389        0  2015-03-12  Desktop  Female       1       0        0   \n",
       "9      395        0  2015-04-06  Desktop  Female       1       0        0   \n",
       "\n",
       "   paymtcnf  \n",
       "0         0  \n",
       "1         0  \n",
       "2         0  \n",
       "3         0  \n",
       "4         0  \n",
       "5         0  \n",
       "6         0  \n",
       "7         0  \n",
       "8         0  \n",
       "9         0  "
      ]
     },
     "execution_count": 224,
     "metadata": {},
     "output_type": "execute_result"
    }
   ],
   "source": [
    "pd.merge(cluster_map[cluster_map.cluster == 0].head(10),conv_df,on='user_id')\n"
   ]
  },
  {
   "cell_type": "markdown",
   "metadata": {},
   "source": [
    "#### Cluster 1\n",
    "From below data, we can infer that cluster 0 comprises of both <u>male and female</u> users who predominantly used <u>desktop</u> to reach homepage in </u>February</u>; Most of them seem to have goneforward to the searchpage and abandoned the website at search page. Perhaps they did not find the product that they were searching for or UI might have been difficult for them to navigate further. Further studies could be conducted to validate this hypothesis\n"
   ]
  },
  {
   "cell_type": "code",
   "execution_count": 225,
   "metadata": {},
   "outputs": [
    {
     "data": {
      "text/html": [
       "<div>\n",
       "<style scoped>\n",
       "    .dataframe tbody tr th:only-of-type {\n",
       "        vertical-align: middle;\n",
       "    }\n",
       "\n",
       "    .dataframe tbody tr th {\n",
       "        vertical-align: top;\n",
       "    }\n",
       "\n",
       "    .dataframe thead th {\n",
       "        text-align: right;\n",
       "    }\n",
       "</style>\n",
       "<table border=\"1\" class=\"dataframe\">\n",
       "  <thead>\n",
       "    <tr style=\"text-align: right;\">\n",
       "      <th></th>\n",
       "      <th>user_id</th>\n",
       "      <th>cluster</th>\n",
       "      <th>date</th>\n",
       "      <th>device</th>\n",
       "      <th>sex</th>\n",
       "      <th>homepg</th>\n",
       "      <th>srchpg</th>\n",
       "      <th>paymtpg</th>\n",
       "      <th>paymtcnf</th>\n",
       "    </tr>\n",
       "  </thead>\n",
       "  <tbody>\n",
       "    <tr>\n",
       "      <th>0</th>\n",
       "      <td>37</td>\n",
       "      <td>1</td>\n",
       "      <td>2015-02-21</td>\n",
       "      <td>Mobile</td>\n",
       "      <td>Male</td>\n",
       "      <td>1</td>\n",
       "      <td>1</td>\n",
       "      <td>0</td>\n",
       "      <td>0</td>\n",
       "    </tr>\n",
       "    <tr>\n",
       "      <th>1</th>\n",
       "      <td>55</td>\n",
       "      <td>1</td>\n",
       "      <td>2015-02-01</td>\n",
       "      <td>Desktop</td>\n",
       "      <td>Male</td>\n",
       "      <td>1</td>\n",
       "      <td>0</td>\n",
       "      <td>0</td>\n",
       "      <td>0</td>\n",
       "    </tr>\n",
       "    <tr>\n",
       "      <th>2</th>\n",
       "      <td>139</td>\n",
       "      <td>1</td>\n",
       "      <td>2015-02-05</td>\n",
       "      <td>Desktop</td>\n",
       "      <td>Female</td>\n",
       "      <td>1</td>\n",
       "      <td>0</td>\n",
       "      <td>0</td>\n",
       "      <td>0</td>\n",
       "    </tr>\n",
       "    <tr>\n",
       "      <th>3</th>\n",
       "      <td>214</td>\n",
       "      <td>1</td>\n",
       "      <td>2015-02-13</td>\n",
       "      <td>Desktop</td>\n",
       "      <td>Female</td>\n",
       "      <td>1</td>\n",
       "      <td>1</td>\n",
       "      <td>0</td>\n",
       "      <td>0</td>\n",
       "    </tr>\n",
       "    <tr>\n",
       "      <th>4</th>\n",
       "      <td>242</td>\n",
       "      <td>1</td>\n",
       "      <td>2015-02-11</td>\n",
       "      <td>Mobile</td>\n",
       "      <td>Male</td>\n",
       "      <td>1</td>\n",
       "      <td>1</td>\n",
       "      <td>0</td>\n",
       "      <td>0</td>\n",
       "    </tr>\n",
       "    <tr>\n",
       "      <th>5</th>\n",
       "      <td>270</td>\n",
       "      <td>1</td>\n",
       "      <td>2015-02-16</td>\n",
       "      <td>Desktop</td>\n",
       "      <td>Female</td>\n",
       "      <td>1</td>\n",
       "      <td>1</td>\n",
       "      <td>0</td>\n",
       "      <td>0</td>\n",
       "    </tr>\n",
       "    <tr>\n",
       "      <th>6</th>\n",
       "      <td>430</td>\n",
       "      <td>1</td>\n",
       "      <td>2015-02-07</td>\n",
       "      <td>Desktop</td>\n",
       "      <td>Male</td>\n",
       "      <td>1</td>\n",
       "      <td>1</td>\n",
       "      <td>0</td>\n",
       "      <td>0</td>\n",
       "    </tr>\n",
       "    <tr>\n",
       "      <th>7</th>\n",
       "      <td>504</td>\n",
       "      <td>1</td>\n",
       "      <td>2015-02-06</td>\n",
       "      <td>Desktop</td>\n",
       "      <td>Female</td>\n",
       "      <td>1</td>\n",
       "      <td>0</td>\n",
       "      <td>0</td>\n",
       "      <td>0</td>\n",
       "    </tr>\n",
       "    <tr>\n",
       "      <th>8</th>\n",
       "      <td>579</td>\n",
       "      <td>1</td>\n",
       "      <td>2015-02-22</td>\n",
       "      <td>Desktop</td>\n",
       "      <td>Male</td>\n",
       "      <td>1</td>\n",
       "      <td>1</td>\n",
       "      <td>0</td>\n",
       "      <td>0</td>\n",
       "    </tr>\n",
       "    <tr>\n",
       "      <th>9</th>\n",
       "      <td>585</td>\n",
       "      <td>1</td>\n",
       "      <td>2015-02-13</td>\n",
       "      <td>Desktop</td>\n",
       "      <td>Female</td>\n",
       "      <td>1</td>\n",
       "      <td>0</td>\n",
       "      <td>0</td>\n",
       "      <td>0</td>\n",
       "    </tr>\n",
       "  </tbody>\n",
       "</table>\n",
       "</div>"
      ],
      "text/plain": [
       "   user_id  cluster        date   device     sex  homepg  srchpg  paymtpg  \\\n",
       "0       37        1  2015-02-21   Mobile    Male       1       1        0   \n",
       "1       55        1  2015-02-01  Desktop    Male       1       0        0   \n",
       "2      139        1  2015-02-05  Desktop  Female       1       0        0   \n",
       "3      214        1  2015-02-13  Desktop  Female       1       1        0   \n",
       "4      242        1  2015-02-11   Mobile    Male       1       1        0   \n",
       "5      270        1  2015-02-16  Desktop  Female       1       1        0   \n",
       "6      430        1  2015-02-07  Desktop    Male       1       1        0   \n",
       "7      504        1  2015-02-06  Desktop  Female       1       0        0   \n",
       "8      579        1  2015-02-22  Desktop    Male       1       1        0   \n",
       "9      585        1  2015-02-13  Desktop  Female       1       0        0   \n",
       "\n",
       "   paymtcnf  \n",
       "0         0  \n",
       "1         0  \n",
       "2         0  \n",
       "3         0  \n",
       "4         0  \n",
       "5         0  \n",
       "6         0  \n",
       "7         0  \n",
       "8         0  \n",
       "9         0  "
      ]
     },
     "execution_count": 225,
     "metadata": {},
     "output_type": "execute_result"
    }
   ],
   "source": [
    "pd.merge(cluster_map[cluster_map.cluster == 1].head(10),conv_df,on='user_id')\n"
   ]
  },
  {
   "cell_type": "markdown",
   "metadata": {},
   "source": [
    "#### Cluster 2\n",
    "From below data, we can infer that cluster 1 comprises of <u>Male</u> users who used both <u>desktop and mobile</u> to visit the <u>home page</u> in <u>March and april</u> and abondoned the website. Most of them seem to have abandoned the funnel at search page and observing the pattern, most of the customer were exiting the funnel from march onwards. We may study any changes occured in business or UI during March to validate the aforementioned hypothesis"
   ]
  },
  {
   "cell_type": "code",
   "execution_count": 226,
   "metadata": {},
   "outputs": [
    {
     "data": {
      "text/html": [
       "<div>\n",
       "<style scoped>\n",
       "    .dataframe tbody tr th:only-of-type {\n",
       "        vertical-align: middle;\n",
       "    }\n",
       "\n",
       "    .dataframe tbody tr th {\n",
       "        vertical-align: top;\n",
       "    }\n",
       "\n",
       "    .dataframe thead th {\n",
       "        text-align: right;\n",
       "    }\n",
       "</style>\n",
       "<table border=\"1\" class=\"dataframe\">\n",
       "  <thead>\n",
       "    <tr style=\"text-align: right;\">\n",
       "      <th></th>\n",
       "      <th>user_id</th>\n",
       "      <th>cluster</th>\n",
       "      <th>date</th>\n",
       "      <th>device</th>\n",
       "      <th>sex</th>\n",
       "      <th>homepg</th>\n",
       "      <th>srchpg</th>\n",
       "      <th>paymtpg</th>\n",
       "      <th>paymtcnf</th>\n",
       "    </tr>\n",
       "  </thead>\n",
       "  <tbody>\n",
       "    <tr>\n",
       "      <th>0</th>\n",
       "      <td>17</td>\n",
       "      <td>2</td>\n",
       "      <td>2015-04-21</td>\n",
       "      <td>Desktop</td>\n",
       "      <td>Male</td>\n",
       "      <td>1</td>\n",
       "      <td>1</td>\n",
       "      <td>0</td>\n",
       "      <td>0</td>\n",
       "    </tr>\n",
       "    <tr>\n",
       "      <th>1</th>\n",
       "      <td>28</td>\n",
       "      <td>2</td>\n",
       "      <td>2015-04-29</td>\n",
       "      <td>Desktop</td>\n",
       "      <td>Male</td>\n",
       "      <td>1</td>\n",
       "      <td>0</td>\n",
       "      <td>0</td>\n",
       "      <td>0</td>\n",
       "    </tr>\n",
       "    <tr>\n",
       "      <th>2</th>\n",
       "      <td>72</td>\n",
       "      <td>2</td>\n",
       "      <td>2015-04-22</td>\n",
       "      <td>Desktop</td>\n",
       "      <td>Male</td>\n",
       "      <td>1</td>\n",
       "      <td>0</td>\n",
       "      <td>0</td>\n",
       "      <td>0</td>\n",
       "    </tr>\n",
       "    <tr>\n",
       "      <th>3</th>\n",
       "      <td>112</td>\n",
       "      <td>2</td>\n",
       "      <td>2015-03-17</td>\n",
       "      <td>Mobile</td>\n",
       "      <td>Male</td>\n",
       "      <td>1</td>\n",
       "      <td>0</td>\n",
       "      <td>0</td>\n",
       "      <td>0</td>\n",
       "    </tr>\n",
       "    <tr>\n",
       "      <th>4</th>\n",
       "      <td>136</td>\n",
       "      <td>2</td>\n",
       "      <td>2015-03-28</td>\n",
       "      <td>Desktop</td>\n",
       "      <td>Male</td>\n",
       "      <td>1</td>\n",
       "      <td>0</td>\n",
       "      <td>0</td>\n",
       "      <td>0</td>\n",
       "    </tr>\n",
       "    <tr>\n",
       "      <th>5</th>\n",
       "      <td>198</td>\n",
       "      <td>2</td>\n",
       "      <td>2015-03-17</td>\n",
       "      <td>Mobile</td>\n",
       "      <td>Male</td>\n",
       "      <td>1</td>\n",
       "      <td>0</td>\n",
       "      <td>0</td>\n",
       "      <td>0</td>\n",
       "    </tr>\n",
       "    <tr>\n",
       "      <th>6</th>\n",
       "      <td>265</td>\n",
       "      <td>2</td>\n",
       "      <td>2015-03-21</td>\n",
       "      <td>Mobile</td>\n",
       "      <td>Male</td>\n",
       "      <td>1</td>\n",
       "      <td>0</td>\n",
       "      <td>0</td>\n",
       "      <td>0</td>\n",
       "    </tr>\n",
       "    <tr>\n",
       "      <th>7</th>\n",
       "      <td>307</td>\n",
       "      <td>2</td>\n",
       "      <td>2015-03-26</td>\n",
       "      <td>Mobile</td>\n",
       "      <td>Male</td>\n",
       "      <td>1</td>\n",
       "      <td>0</td>\n",
       "      <td>0</td>\n",
       "      <td>0</td>\n",
       "    </tr>\n",
       "    <tr>\n",
       "      <th>8</th>\n",
       "      <td>317</td>\n",
       "      <td>2</td>\n",
       "      <td>2015-04-30</td>\n",
       "      <td>Desktop</td>\n",
       "      <td>Male</td>\n",
       "      <td>1</td>\n",
       "      <td>1</td>\n",
       "      <td>0</td>\n",
       "      <td>0</td>\n",
       "    </tr>\n",
       "    <tr>\n",
       "      <th>9</th>\n",
       "      <td>411</td>\n",
       "      <td>2</td>\n",
       "      <td>2015-04-13</td>\n",
       "      <td>Desktop</td>\n",
       "      <td>Male</td>\n",
       "      <td>1</td>\n",
       "      <td>1</td>\n",
       "      <td>0</td>\n",
       "      <td>0</td>\n",
       "    </tr>\n",
       "  </tbody>\n",
       "</table>\n",
       "</div>"
      ],
      "text/plain": [
       "   user_id  cluster        date   device   sex  homepg  srchpg  paymtpg  \\\n",
       "0       17        2  2015-04-21  Desktop  Male       1       1        0   \n",
       "1       28        2  2015-04-29  Desktop  Male       1       0        0   \n",
       "2       72        2  2015-04-22  Desktop  Male       1       0        0   \n",
       "3      112        2  2015-03-17   Mobile  Male       1       0        0   \n",
       "4      136        2  2015-03-28  Desktop  Male       1       0        0   \n",
       "5      198        2  2015-03-17   Mobile  Male       1       0        0   \n",
       "6      265        2  2015-03-21   Mobile  Male       1       0        0   \n",
       "7      307        2  2015-03-26   Mobile  Male       1       0        0   \n",
       "8      317        2  2015-04-30  Desktop  Male       1       1        0   \n",
       "9      411        2  2015-04-13  Desktop  Male       1       1        0   \n",
       "\n",
       "   paymtcnf  \n",
       "0         0  \n",
       "1         0  \n",
       "2         0  \n",
       "3         0  \n",
       "4         0  \n",
       "5         0  \n",
       "6         0  \n",
       "7         0  \n",
       "8         0  \n",
       "9         0  "
      ]
     },
     "execution_count": 226,
     "metadata": {},
     "output_type": "execute_result"
    }
   ],
   "source": [
    "pd.merge(cluster_map[cluster_map.cluster == 2].head(10),conv_df,on='user_id')\n"
   ]
  },
  {
   "cell_type": "markdown",
   "metadata": {},
   "source": [
    "#### Cluster 3\n",
    "From below data, we can infer that cluster 0 comprises of predominantly <u>male</u> users who used mostly <u>desktop</u> to visit the <u>homepage</u> in <u>January</u> and about half of them seem to have been converted "
   ]
  },
  {
   "cell_type": "code",
   "execution_count": 227,
   "metadata": {},
   "outputs": [
    {
     "data": {
      "text/html": [
       "<div>\n",
       "<style scoped>\n",
       "    .dataframe tbody tr th:only-of-type {\n",
       "        vertical-align: middle;\n",
       "    }\n",
       "\n",
       "    .dataframe tbody tr th {\n",
       "        vertical-align: top;\n",
       "    }\n",
       "\n",
       "    .dataframe thead th {\n",
       "        text-align: right;\n",
       "    }\n",
       "</style>\n",
       "<table border=\"1\" class=\"dataframe\">\n",
       "  <thead>\n",
       "    <tr style=\"text-align: right;\">\n",
       "      <th></th>\n",
       "      <th>user_id</th>\n",
       "      <th>cluster</th>\n",
       "      <th>date</th>\n",
       "      <th>device</th>\n",
       "      <th>sex</th>\n",
       "      <th>homepg</th>\n",
       "      <th>srchpg</th>\n",
       "      <th>paymtpg</th>\n",
       "      <th>paymtcnf</th>\n",
       "    </tr>\n",
       "  </thead>\n",
       "  <tbody>\n",
       "    <tr>\n",
       "      <th>0</th>\n",
       "      <td>210</td>\n",
       "      <td>3</td>\n",
       "      <td>2015-01-22</td>\n",
       "      <td>Desktop</td>\n",
       "      <td>Male</td>\n",
       "      <td>1</td>\n",
       "      <td>1</td>\n",
       "      <td>0</td>\n",
       "      <td>0</td>\n",
       "    </tr>\n",
       "    <tr>\n",
       "      <th>1</th>\n",
       "      <td>212</td>\n",
       "      <td>3</td>\n",
       "      <td>2015-01-20</td>\n",
       "      <td>Desktop</td>\n",
       "      <td>Male</td>\n",
       "      <td>1</td>\n",
       "      <td>0</td>\n",
       "      <td>0</td>\n",
       "      <td>0</td>\n",
       "    </tr>\n",
       "    <tr>\n",
       "      <th>2</th>\n",
       "      <td>239</td>\n",
       "      <td>3</td>\n",
       "      <td>2015-01-05</td>\n",
       "      <td>Mobile</td>\n",
       "      <td>Male</td>\n",
       "      <td>1</td>\n",
       "      <td>1</td>\n",
       "      <td>0</td>\n",
       "      <td>0</td>\n",
       "    </tr>\n",
       "    <tr>\n",
       "      <th>3</th>\n",
       "      <td>278</td>\n",
       "      <td>3</td>\n",
       "      <td>2015-01-30</td>\n",
       "      <td>Desktop</td>\n",
       "      <td>Female</td>\n",
       "      <td>1</td>\n",
       "      <td>0</td>\n",
       "      <td>0</td>\n",
       "      <td>0</td>\n",
       "    </tr>\n",
       "    <tr>\n",
       "      <th>4</th>\n",
       "      <td>290</td>\n",
       "      <td>3</td>\n",
       "      <td>2015-01-18</td>\n",
       "      <td>Desktop</td>\n",
       "      <td>Female</td>\n",
       "      <td>1</td>\n",
       "      <td>0</td>\n",
       "      <td>0</td>\n",
       "      <td>0</td>\n",
       "    </tr>\n",
       "    <tr>\n",
       "      <th>5</th>\n",
       "      <td>365</td>\n",
       "      <td>3</td>\n",
       "      <td>2015-01-02</td>\n",
       "      <td>Desktop</td>\n",
       "      <td>Male</td>\n",
       "      <td>1</td>\n",
       "      <td>1</td>\n",
       "      <td>0</td>\n",
       "      <td>0</td>\n",
       "    </tr>\n",
       "    <tr>\n",
       "      <th>6</th>\n",
       "      <td>432</td>\n",
       "      <td>3</td>\n",
       "      <td>2015-01-05</td>\n",
       "      <td>Desktop</td>\n",
       "      <td>Male</td>\n",
       "      <td>1</td>\n",
       "      <td>0</td>\n",
       "      <td>0</td>\n",
       "      <td>0</td>\n",
       "    </tr>\n",
       "    <tr>\n",
       "      <th>7</th>\n",
       "      <td>459</td>\n",
       "      <td>3</td>\n",
       "      <td>2015-01-31</td>\n",
       "      <td>Mobile</td>\n",
       "      <td>Male</td>\n",
       "      <td>1</td>\n",
       "      <td>1</td>\n",
       "      <td>1</td>\n",
       "      <td>0</td>\n",
       "    </tr>\n",
       "    <tr>\n",
       "      <th>8</th>\n",
       "      <td>496</td>\n",
       "      <td>3</td>\n",
       "      <td>2015-01-19</td>\n",
       "      <td>Desktop</td>\n",
       "      <td>Female</td>\n",
       "      <td>1</td>\n",
       "      <td>0</td>\n",
       "      <td>0</td>\n",
       "      <td>0</td>\n",
       "    </tr>\n",
       "    <tr>\n",
       "      <th>9</th>\n",
       "      <td>515</td>\n",
       "      <td>3</td>\n",
       "      <td>2015-01-03</td>\n",
       "      <td>Mobile</td>\n",
       "      <td>Male</td>\n",
       "      <td>1</td>\n",
       "      <td>1</td>\n",
       "      <td>0</td>\n",
       "      <td>0</td>\n",
       "    </tr>\n",
       "  </tbody>\n",
       "</table>\n",
       "</div>"
      ],
      "text/plain": [
       "   user_id  cluster        date   device     sex  homepg  srchpg  paymtpg  \\\n",
       "0      210        3  2015-01-22  Desktop    Male       1       1        0   \n",
       "1      212        3  2015-01-20  Desktop    Male       1       0        0   \n",
       "2      239        3  2015-01-05   Mobile    Male       1       1        0   \n",
       "3      278        3  2015-01-30  Desktop  Female       1       0        0   \n",
       "4      290        3  2015-01-18  Desktop  Female       1       0        0   \n",
       "5      365        3  2015-01-02  Desktop    Male       1       1        0   \n",
       "6      432        3  2015-01-05  Desktop    Male       1       0        0   \n",
       "7      459        3  2015-01-31   Mobile    Male       1       1        1   \n",
       "8      496        3  2015-01-19  Desktop  Female       1       0        0   \n",
       "9      515        3  2015-01-03   Mobile    Male       1       1        0   \n",
       "\n",
       "   paymtcnf  \n",
       "0         0  \n",
       "1         0  \n",
       "2         0  \n",
       "3         0  \n",
       "4         0  \n",
       "5         0  \n",
       "6         0  \n",
       "7         0  \n",
       "8         0  \n",
       "9         0  "
      ]
     },
     "execution_count": 227,
     "metadata": {},
     "output_type": "execute_result"
    }
   ],
   "source": [
    "pd.merge(cluster_map[cluster_map.cluster == 3].head(10),conv_df,on='user_id')\n"
   ]
  },
  {
   "cell_type": "markdown",
   "metadata": {},
   "source": [
    "# Summary"
   ]
  },
  {
   "cell_type": "markdown",
   "metadata": {},
   "source": [
    "452 users converted after hitting the homepage<BR>\n",
    "January-2015 had maximum number of conversions:189"
   ]
  },
  {
   "cell_type": "code",
   "execution_count": 228,
   "metadata": {},
   "outputs": [
    {
     "name": "stdout",
     "output_type": "stream",
     "text": [
      "Distribution of users across pages:\n"
     ]
    },
    {
     "data": {
      "text/html": [
       "<div>\n",
       "<style scoped>\n",
       "    .dataframe tbody tr th:only-of-type {\n",
       "        vertical-align: middle;\n",
       "    }\n",
       "\n",
       "    .dataframe tbody tr th {\n",
       "        vertical-align: top;\n",
       "    }\n",
       "\n",
       "    .dataframe thead th {\n",
       "        text-align: right;\n",
       "    }\n",
       "</style>\n",
       "<table border=\"1\" class=\"dataframe\">\n",
       "  <thead>\n",
       "    <tr style=\"text-align: right;\">\n",
       "      <th></th>\n",
       "      <th>Page</th>\n",
       "      <th>visit</th>\n",
       "    </tr>\n",
       "    <tr>\n",
       "      <th>Page</th>\n",
       "      <th></th>\n",
       "      <th></th>\n",
       "    </tr>\n",
       "  </thead>\n",
       "  <tbody>\n",
       "    <tr>\n",
       "      <th>Paymentconfirmationpage_Visit</th>\n",
       "      <td>Paymentconfirmationpage_Visit</td>\n",
       "      <td>452</td>\n",
       "    </tr>\n",
       "    <tr>\n",
       "      <th>Paymentpage_Visit</th>\n",
       "      <td>Paymentpage_Visit</td>\n",
       "      <td>6030</td>\n",
       "    </tr>\n",
       "    <tr>\n",
       "      <th>Searchpage_Visit</th>\n",
       "      <td>Searchpage_Visit</td>\n",
       "      <td>45200</td>\n",
       "    </tr>\n",
       "    <tr>\n",
       "      <th>Homepage_Visit</th>\n",
       "      <td>Homepage_Visit</td>\n",
       "      <td>90400</td>\n",
       "    </tr>\n",
       "  </tbody>\n",
       "</table>\n",
       "</div>"
      ],
      "text/plain": [
       "                                                        Page  visit\n",
       "Page                                                               \n",
       "Paymentconfirmationpage_Visit  Paymentconfirmationpage_Visit    452\n",
       "Paymentpage_Visit                          Paymentpage_Visit   6030\n",
       "Searchpage_Visit                            Searchpage_Visit  45200\n",
       "Homepage_Visit                                Homepage_Visit  90400"
      ]
     },
     "execution_count": 228,
     "metadata": {},
     "output_type": "execute_result"
    },
    {
     "data": {
      "image/png": "[encoded data removed]",
      "text/plain": [
       "<Figure size 432x288 with 1 Axes>"
      ]
     },
     "metadata": {},
     "output_type": "display_data"
    }
   ],
   "source": [
    "print(\"Distribution of users across pages:\")\n",
    "sls_funnel.plot.barh()\n",
    "plt.title(\"Distribution of users\")\n",
    "plt.xlabel(\"Number of users\")\n",
    "sls_funnel"
   ]
  },
  {
   "cell_type": "code",
   "execution_count": null,
   "metadata": {},
   "outputs": [],
   "source": []
  }
 ],
 "metadata": {
  "kernelspec": {
   "display_name": "Python 3",
   "language": "python",
   "name": "python3"
  },
  "language_info": {
   "codemirror_mode": {
    "name": "ipython",
    "version": 3
   },
   "file_extension": ".py",
   "mimetype": "text/x-python",
   "name": "python",
   "nbconvert_exporter": "python",
   "pygments_lexer": "ipython3",
   "version": "3.7.4"
  }
 },
 "nbformat": 4,
 "nbformat_minor": 2
}
